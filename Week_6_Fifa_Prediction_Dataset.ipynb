{
  "nbformat": 4,
  "nbformat_minor": 0,
  "metadata": {
    "colab": {
      "name": "Week_6_Fifa-Prediction-Dataset",
      "provenance": [],
      "collapsed_sections": [
        "H126iXV7xvnw",
        "L_PcfQshJ7HU",
        "sOrLWBY2rS83",
        "AbVcU3oDQd7A",
        "4VUmEo4iQwSW",
        "zc2CNTQDRD__",
        "dJEW6oPINcy9",
        "HvOzlMQqNYZ3",
        "kv_COsmfDfxY",
        "tplF104hDnz6",
        "N2FESMcTtlsm",
        "FOkLk6NV1AH-"
      ],
      "authorship_tag": "ABX9TyMtiJ6jT/p4K14cdGEyI6/M",
      "include_colab_link": true
    },
    "kernelspec": {
      "name": "python3",
      "display_name": "Python 3"
    }
  },
  "cells": [
    {
      "cell_type": "markdown",
      "metadata": {
        "id": "view-in-github",
        "colab_type": "text"
      },
      "source": [
        "<a href=\"https://colab.research.google.com/github/nyamskamau/Fifa-Dataset-Week-6/blob/main/Week_6_Fifa_Prediction_Dataset.ipynb\" target=\"_parent\"><img src=\"https://colab.research.google.com/assets/colab-badge.svg\" alt=\"Open In Colab\"/></a>"
      ]
    },
    {
      "cell_type": "markdown",
      "metadata": {
        "id": "H126iXV7xvnw"
      },
      "source": [
        "# 1.Importing the Datasets and previewing the values Merging and Cleaning.\n",
        "\n"
      ]
    },
    {
      "cell_type": "markdown",
      "metadata": {
        "id": "L_PcfQshJ7HU"
      },
      "source": [
        "## 1.1. Importing the Datasets\n",
        "The first step of my analysis was importing the appropriate libraries and the datasets used in this analysis.\n",
        "\n",
        "Next I previewed the datasets and obtained information on the datatypes of the columns in my dataset."
      ]
    },
    {
      "cell_type": "code",
      "metadata": {
        "id": "5PGDVHOIRP6o"
      },
      "source": [
        "import pandas as pd\n",
        "import numpy as np \n",
        "import matplotlib.pyplot as plt\n",
        "import seaborn as sns"
      ],
      "execution_count": 633,
      "outputs": []
    },
    {
      "cell_type": "code",
      "metadata": {
        "id": "TU0vMgCjSApD"
      },
      "source": [
        "result = pd.read_csv('results.csv')\n"
      ],
      "execution_count": 634,
      "outputs": []
    },
    {
      "cell_type": "code",
      "metadata": {
        "id": "jsRbzLANo7ks",
        "outputId": "5e682db7-e711-43fd-9fac-78361ec6502f",
        "colab": {
          "base_uri": "https://localhost:8080/",
          "height": 0
        }
      },
      "source": [
        "result.head()"
      ],
      "execution_count": 635,
      "outputs": [
        {
          "output_type": "execute_result",
          "data": {
            "text/html": [
              "<div>\n",
              "<style scoped>\n",
              "    .dataframe tbody tr th:only-of-type {\n",
              "        vertical-align: middle;\n",
              "    }\n",
              "\n",
              "    .dataframe tbody tr th {\n",
              "        vertical-align: top;\n",
              "    }\n",
              "\n",
              "    .dataframe thead th {\n",
              "        text-align: right;\n",
              "    }\n",
              "</style>\n",
              "<table border=\"1\" class=\"dataframe\">\n",
              "  <thead>\n",
              "    <tr style=\"text-align: right;\">\n",
              "      <th></th>\n",
              "      <th>date</th>\n",
              "      <th>home_team</th>\n",
              "      <th>away_team</th>\n",
              "      <th>home_score</th>\n",
              "      <th>away_score</th>\n",
              "      <th>tournament</th>\n",
              "      <th>city</th>\n",
              "      <th>country</th>\n",
              "      <th>neutral</th>\n",
              "    </tr>\n",
              "  </thead>\n",
              "  <tbody>\n",
              "    <tr>\n",
              "      <th>0</th>\n",
              "      <td>1872-11-30</td>\n",
              "      <td>Scotland</td>\n",
              "      <td>England</td>\n",
              "      <td>0</td>\n",
              "      <td>0</td>\n",
              "      <td>Friendly</td>\n",
              "      <td>Glasgow</td>\n",
              "      <td>Scotland</td>\n",
              "      <td>False</td>\n",
              "    </tr>\n",
              "    <tr>\n",
              "      <th>1</th>\n",
              "      <td>1873-03-08</td>\n",
              "      <td>England</td>\n",
              "      <td>Scotland</td>\n",
              "      <td>4</td>\n",
              "      <td>2</td>\n",
              "      <td>Friendly</td>\n",
              "      <td>London</td>\n",
              "      <td>England</td>\n",
              "      <td>False</td>\n",
              "    </tr>\n",
              "    <tr>\n",
              "      <th>2</th>\n",
              "      <td>1874-03-07</td>\n",
              "      <td>Scotland</td>\n",
              "      <td>England</td>\n",
              "      <td>2</td>\n",
              "      <td>1</td>\n",
              "      <td>Friendly</td>\n",
              "      <td>Glasgow</td>\n",
              "      <td>Scotland</td>\n",
              "      <td>False</td>\n",
              "    </tr>\n",
              "    <tr>\n",
              "      <th>3</th>\n",
              "      <td>1875-03-06</td>\n",
              "      <td>England</td>\n",
              "      <td>Scotland</td>\n",
              "      <td>2</td>\n",
              "      <td>2</td>\n",
              "      <td>Friendly</td>\n",
              "      <td>London</td>\n",
              "      <td>England</td>\n",
              "      <td>False</td>\n",
              "    </tr>\n",
              "    <tr>\n",
              "      <th>4</th>\n",
              "      <td>1876-03-04</td>\n",
              "      <td>Scotland</td>\n",
              "      <td>England</td>\n",
              "      <td>3</td>\n",
              "      <td>0</td>\n",
              "      <td>Friendly</td>\n",
              "      <td>Glasgow</td>\n",
              "      <td>Scotland</td>\n",
              "      <td>False</td>\n",
              "    </tr>\n",
              "  </tbody>\n",
              "</table>\n",
              "</div>"
            ],
            "text/plain": [
              "         date home_team away_team  ...     city   country neutral\n",
              "0  1872-11-30  Scotland   England  ...  Glasgow  Scotland   False\n",
              "1  1873-03-08   England  Scotland  ...   London   England   False\n",
              "2  1874-03-07  Scotland   England  ...  Glasgow  Scotland   False\n",
              "3  1875-03-06   England  Scotland  ...   London   England   False\n",
              "4  1876-03-04  Scotland   England  ...  Glasgow  Scotland   False\n",
              "\n",
              "[5 rows x 9 columns]"
            ]
          },
          "metadata": {
            "tags": []
          },
          "execution_count": 635
        }
      ]
    },
    {
      "cell_type": "code",
      "metadata": {
        "id": "KOZRxcnwo_qo",
        "outputId": "53eb4e7f-536b-4654-bf01-7380b39f3d6a",
        "colab": {
          "base_uri": "https://localhost:8080/",
          "height": 0
        }
      },
      "source": [
        "result.tail()"
      ],
      "execution_count": 636,
      "outputs": [
        {
          "output_type": "execute_result",
          "data": {
            "text/html": [
              "<div>\n",
              "<style scoped>\n",
              "    .dataframe tbody tr th:only-of-type {\n",
              "        vertical-align: middle;\n",
              "    }\n",
              "\n",
              "    .dataframe tbody tr th {\n",
              "        vertical-align: top;\n",
              "    }\n",
              "\n",
              "    .dataframe thead th {\n",
              "        text-align: right;\n",
              "    }\n",
              "</style>\n",
              "<table border=\"1\" class=\"dataframe\">\n",
              "  <thead>\n",
              "    <tr style=\"text-align: right;\">\n",
              "      <th></th>\n",
              "      <th>date</th>\n",
              "      <th>home_team</th>\n",
              "      <th>away_team</th>\n",
              "      <th>home_score</th>\n",
              "      <th>away_score</th>\n",
              "      <th>tournament</th>\n",
              "      <th>city</th>\n",
              "      <th>country</th>\n",
              "      <th>neutral</th>\n",
              "    </tr>\n",
              "  </thead>\n",
              "  <tbody>\n",
              "    <tr>\n",
              "      <th>40834</th>\n",
              "      <td>2019-07-18</td>\n",
              "      <td>American Samoa</td>\n",
              "      <td>Tahiti</td>\n",
              "      <td>8</td>\n",
              "      <td>1</td>\n",
              "      <td>Pacific Games</td>\n",
              "      <td>Apia</td>\n",
              "      <td>Samoa</td>\n",
              "      <td>True</td>\n",
              "    </tr>\n",
              "    <tr>\n",
              "      <th>40835</th>\n",
              "      <td>2019-07-18</td>\n",
              "      <td>Fiji</td>\n",
              "      <td>Solomon Islands</td>\n",
              "      <td>4</td>\n",
              "      <td>4</td>\n",
              "      <td>Pacific Games</td>\n",
              "      <td>Apia</td>\n",
              "      <td>Samoa</td>\n",
              "      <td>True</td>\n",
              "    </tr>\n",
              "    <tr>\n",
              "      <th>40836</th>\n",
              "      <td>2019-07-19</td>\n",
              "      <td>Senegal</td>\n",
              "      <td>Algeria</td>\n",
              "      <td>0</td>\n",
              "      <td>1</td>\n",
              "      <td>African Cup of Nations</td>\n",
              "      <td>Cairo</td>\n",
              "      <td>Egypt</td>\n",
              "      <td>True</td>\n",
              "    </tr>\n",
              "    <tr>\n",
              "      <th>40837</th>\n",
              "      <td>2019-07-19</td>\n",
              "      <td>Tajikistan</td>\n",
              "      <td>North Korea</td>\n",
              "      <td>0</td>\n",
              "      <td>1</td>\n",
              "      <td>Intercontinental Cup</td>\n",
              "      <td>Ahmedabad</td>\n",
              "      <td>India</td>\n",
              "      <td>True</td>\n",
              "    </tr>\n",
              "    <tr>\n",
              "      <th>40838</th>\n",
              "      <td>2019-07-20</td>\n",
              "      <td>Papua New Guinea</td>\n",
              "      <td>Fiji</td>\n",
              "      <td>1</td>\n",
              "      <td>1</td>\n",
              "      <td>Pacific Games</td>\n",
              "      <td>Apia</td>\n",
              "      <td>Samoa</td>\n",
              "      <td>True</td>\n",
              "    </tr>\n",
              "  </tbody>\n",
              "</table>\n",
              "</div>"
            ],
            "text/plain": [
              "             date         home_team  ... country  neutral\n",
              "40834  2019-07-18    American Samoa  ...   Samoa     True\n",
              "40835  2019-07-18              Fiji  ...   Samoa     True\n",
              "40836  2019-07-19           Senegal  ...   Egypt     True\n",
              "40837  2019-07-19        Tajikistan  ...   India     True\n",
              "40838  2019-07-20  Papua New Guinea  ...   Samoa     True\n",
              "\n",
              "[5 rows x 9 columns]"
            ]
          },
          "metadata": {
            "tags": []
          },
          "execution_count": 636
        }
      ]
    },
    {
      "cell_type": "code",
      "metadata": {
        "id": "Fj3VZbQhK4Wr",
        "outputId": "254a02cc-440d-4443-88b5-1025503fe50b",
        "colab": {
          "base_uri": "https://localhost:8080/"
        }
      },
      "source": [
        "result.shape"
      ],
      "execution_count": 637,
      "outputs": [
        {
          "output_type": "execute_result",
          "data": {
            "text/plain": [
              "(40839, 9)"
            ]
          },
          "metadata": {
            "tags": []
          },
          "execution_count": 637
        }
      ]
    },
    {
      "cell_type": "code",
      "metadata": {
        "id": "HXrvT680o_bR",
        "outputId": "b5bc07d1-9517-48d4-d92b-3abdec51d048",
        "colab": {
          "base_uri": "https://localhost:8080/"
        }
      },
      "source": [
        "result.info()"
      ],
      "execution_count": 638,
      "outputs": [
        {
          "output_type": "stream",
          "text": [
            "<class 'pandas.core.frame.DataFrame'>\n",
            "RangeIndex: 40839 entries, 0 to 40838\n",
            "Data columns (total 9 columns):\n",
            " #   Column      Non-Null Count  Dtype \n",
            "---  ------      --------------  ----- \n",
            " 0   date        40839 non-null  object\n",
            " 1   home_team   40839 non-null  object\n",
            " 2   away_team   40839 non-null  object\n",
            " 3   home_score  40839 non-null  int64 \n",
            " 4   away_score  40839 non-null  int64 \n",
            " 5   tournament  40839 non-null  object\n",
            " 6   city        40839 non-null  object\n",
            " 7   country     40839 non-null  object\n",
            " 8   neutral     40839 non-null  bool  \n",
            "dtypes: bool(1), int64(2), object(6)\n",
            "memory usage: 2.5+ MB\n"
          ],
          "name": "stdout"
        }
      ]
    },
    {
      "cell_type": "code",
      "metadata": {
        "id": "z0qy7C7ySHjT",
        "outputId": "16529dac-d66b-4c70-9e56-b78a49e777c7",
        "colab": {
          "base_uri": "https://localhost:8080/",
          "height": 0
        }
      },
      "source": [
        "fifa = pd.read_csv('fifa_ranking.csv')\n",
        "fifa"
      ],
      "execution_count": 639,
      "outputs": [
        {
          "output_type": "execute_result",
          "data": {
            "text/html": [
              "<div>\n",
              "<style scoped>\n",
              "    .dataframe tbody tr th:only-of-type {\n",
              "        vertical-align: middle;\n",
              "    }\n",
              "\n",
              "    .dataframe tbody tr th {\n",
              "        vertical-align: top;\n",
              "    }\n",
              "\n",
              "    .dataframe thead th {\n",
              "        text-align: right;\n",
              "    }\n",
              "</style>\n",
              "<table border=\"1\" class=\"dataframe\">\n",
              "  <thead>\n",
              "    <tr style=\"text-align: right;\">\n",
              "      <th></th>\n",
              "      <th>rank</th>\n",
              "      <th>country_full</th>\n",
              "      <th>country_abrv</th>\n",
              "      <th>total_points</th>\n",
              "      <th>previous_points</th>\n",
              "      <th>rank_change</th>\n",
              "      <th>cur_year_avg</th>\n",
              "      <th>cur_year_avg_weighted</th>\n",
              "      <th>last_year_avg</th>\n",
              "      <th>last_year_avg_weighted</th>\n",
              "      <th>two_year_ago_avg</th>\n",
              "      <th>two_year_ago_weighted</th>\n",
              "      <th>three_year_ago_avg</th>\n",
              "      <th>three_year_ago_weighted</th>\n",
              "      <th>confederation</th>\n",
              "      <th>rank_date</th>\n",
              "    </tr>\n",
              "  </thead>\n",
              "  <tbody>\n",
              "    <tr>\n",
              "      <th>0</th>\n",
              "      <td>1</td>\n",
              "      <td>Germany</td>\n",
              "      <td>GER</td>\n",
              "      <td>0.0</td>\n",
              "      <td>57</td>\n",
              "      <td>0</td>\n",
              "      <td>0.0</td>\n",
              "      <td>0.0</td>\n",
              "      <td>0.0</td>\n",
              "      <td>0.0</td>\n",
              "      <td>0.0</td>\n",
              "      <td>0.0</td>\n",
              "      <td>0.0</td>\n",
              "      <td>0.0</td>\n",
              "      <td>UEFA</td>\n",
              "      <td>1993-08-08</td>\n",
              "    </tr>\n",
              "    <tr>\n",
              "      <th>1</th>\n",
              "      <td>2</td>\n",
              "      <td>Italy</td>\n",
              "      <td>ITA</td>\n",
              "      <td>0.0</td>\n",
              "      <td>57</td>\n",
              "      <td>0</td>\n",
              "      <td>0.0</td>\n",
              "      <td>0.0</td>\n",
              "      <td>0.0</td>\n",
              "      <td>0.0</td>\n",
              "      <td>0.0</td>\n",
              "      <td>0.0</td>\n",
              "      <td>0.0</td>\n",
              "      <td>0.0</td>\n",
              "      <td>UEFA</td>\n",
              "      <td>1993-08-08</td>\n",
              "    </tr>\n",
              "    <tr>\n",
              "      <th>2</th>\n",
              "      <td>3</td>\n",
              "      <td>Switzerland</td>\n",
              "      <td>SUI</td>\n",
              "      <td>0.0</td>\n",
              "      <td>50</td>\n",
              "      <td>9</td>\n",
              "      <td>0.0</td>\n",
              "      <td>0.0</td>\n",
              "      <td>0.0</td>\n",
              "      <td>0.0</td>\n",
              "      <td>0.0</td>\n",
              "      <td>0.0</td>\n",
              "      <td>0.0</td>\n",
              "      <td>0.0</td>\n",
              "      <td>UEFA</td>\n",
              "      <td>1993-08-08</td>\n",
              "    </tr>\n",
              "    <tr>\n",
              "      <th>3</th>\n",
              "      <td>4</td>\n",
              "      <td>Sweden</td>\n",
              "      <td>SWE</td>\n",
              "      <td>0.0</td>\n",
              "      <td>55</td>\n",
              "      <td>0</td>\n",
              "      <td>0.0</td>\n",
              "      <td>0.0</td>\n",
              "      <td>0.0</td>\n",
              "      <td>0.0</td>\n",
              "      <td>0.0</td>\n",
              "      <td>0.0</td>\n",
              "      <td>0.0</td>\n",
              "      <td>0.0</td>\n",
              "      <td>UEFA</td>\n",
              "      <td>1993-08-08</td>\n",
              "    </tr>\n",
              "    <tr>\n",
              "      <th>4</th>\n",
              "      <td>5</td>\n",
              "      <td>Argentina</td>\n",
              "      <td>ARG</td>\n",
              "      <td>0.0</td>\n",
              "      <td>51</td>\n",
              "      <td>5</td>\n",
              "      <td>0.0</td>\n",
              "      <td>0.0</td>\n",
              "      <td>0.0</td>\n",
              "      <td>0.0</td>\n",
              "      <td>0.0</td>\n",
              "      <td>0.0</td>\n",
              "      <td>0.0</td>\n",
              "      <td>0.0</td>\n",
              "      <td>CONMEBOL</td>\n",
              "      <td>1993-08-08</td>\n",
              "    </tr>\n",
              "    <tr>\n",
              "      <th>...</th>\n",
              "      <td>...</td>\n",
              "      <td>...</td>\n",
              "      <td>...</td>\n",
              "      <td>...</td>\n",
              "      <td>...</td>\n",
              "      <td>...</td>\n",
              "      <td>...</td>\n",
              "      <td>...</td>\n",
              "      <td>...</td>\n",
              "      <td>...</td>\n",
              "      <td>...</td>\n",
              "      <td>...</td>\n",
              "      <td>...</td>\n",
              "      <td>...</td>\n",
              "      <td>...</td>\n",
              "      <td>...</td>\n",
              "    </tr>\n",
              "    <tr>\n",
              "      <th>57788</th>\n",
              "      <td>206</td>\n",
              "      <td>Anguilla</td>\n",
              "      <td>AIA</td>\n",
              "      <td>0.0</td>\n",
              "      <td>0</td>\n",
              "      <td>1</td>\n",
              "      <td>0.0</td>\n",
              "      <td>0.0</td>\n",
              "      <td>0.0</td>\n",
              "      <td>0.0</td>\n",
              "      <td>0.0</td>\n",
              "      <td>0.0</td>\n",
              "      <td>0.0</td>\n",
              "      <td>0.0</td>\n",
              "      <td>CONCACAF</td>\n",
              "      <td>2018-06-07</td>\n",
              "    </tr>\n",
              "    <tr>\n",
              "      <th>57789</th>\n",
              "      <td>206</td>\n",
              "      <td>Bahamas</td>\n",
              "      <td>BAH</td>\n",
              "      <td>0.0</td>\n",
              "      <td>0</td>\n",
              "      <td>1</td>\n",
              "      <td>0.0</td>\n",
              "      <td>0.0</td>\n",
              "      <td>0.0</td>\n",
              "      <td>0.0</td>\n",
              "      <td>0.0</td>\n",
              "      <td>0.0</td>\n",
              "      <td>0.0</td>\n",
              "      <td>0.0</td>\n",
              "      <td>CONCACAF</td>\n",
              "      <td>2018-06-07</td>\n",
              "    </tr>\n",
              "    <tr>\n",
              "      <th>57790</th>\n",
              "      <td>206</td>\n",
              "      <td>Eritrea</td>\n",
              "      <td>ERI</td>\n",
              "      <td>0.0</td>\n",
              "      <td>0</td>\n",
              "      <td>1</td>\n",
              "      <td>0.0</td>\n",
              "      <td>0.0</td>\n",
              "      <td>0.0</td>\n",
              "      <td>0.0</td>\n",
              "      <td>0.0</td>\n",
              "      <td>0.0</td>\n",
              "      <td>0.0</td>\n",
              "      <td>0.0</td>\n",
              "      <td>CAF</td>\n",
              "      <td>2018-06-07</td>\n",
              "    </tr>\n",
              "    <tr>\n",
              "      <th>57791</th>\n",
              "      <td>206</td>\n",
              "      <td>Somalia</td>\n",
              "      <td>SOM</td>\n",
              "      <td>0.0</td>\n",
              "      <td>0</td>\n",
              "      <td>1</td>\n",
              "      <td>0.0</td>\n",
              "      <td>0.0</td>\n",
              "      <td>0.0</td>\n",
              "      <td>0.0</td>\n",
              "      <td>0.0</td>\n",
              "      <td>0.0</td>\n",
              "      <td>0.0</td>\n",
              "      <td>0.0</td>\n",
              "      <td>CAF</td>\n",
              "      <td>2018-06-07</td>\n",
              "    </tr>\n",
              "    <tr>\n",
              "      <th>57792</th>\n",
              "      <td>206</td>\n",
              "      <td>Tonga</td>\n",
              "      <td>TGA</td>\n",
              "      <td>0.0</td>\n",
              "      <td>0</td>\n",
              "      <td>1</td>\n",
              "      <td>0.0</td>\n",
              "      <td>0.0</td>\n",
              "      <td>0.0</td>\n",
              "      <td>0.0</td>\n",
              "      <td>0.0</td>\n",
              "      <td>0.0</td>\n",
              "      <td>0.0</td>\n",
              "      <td>0.0</td>\n",
              "      <td>OFC</td>\n",
              "      <td>2018-06-07</td>\n",
              "    </tr>\n",
              "  </tbody>\n",
              "</table>\n",
              "<p>57793 rows × 16 columns</p>\n",
              "</div>"
            ],
            "text/plain": [
              "       rank country_full  ... confederation   rank_date\n",
              "0         1      Germany  ...          UEFA  1993-08-08\n",
              "1         2        Italy  ...          UEFA  1993-08-08\n",
              "2         3  Switzerland  ...          UEFA  1993-08-08\n",
              "3         4       Sweden  ...          UEFA  1993-08-08\n",
              "4         5    Argentina  ...      CONMEBOL  1993-08-08\n",
              "...     ...          ...  ...           ...         ...\n",
              "57788   206     Anguilla  ...      CONCACAF  2018-06-07\n",
              "57789   206      Bahamas  ...      CONCACAF  2018-06-07\n",
              "57790   206      Eritrea  ...           CAF  2018-06-07\n",
              "57791   206      Somalia  ...           CAF  2018-06-07\n",
              "57792   206        Tonga  ...           OFC  2018-06-07\n",
              "\n",
              "[57793 rows x 16 columns]"
            ]
          },
          "metadata": {
            "tags": []
          },
          "execution_count": 639
        }
      ]
    },
    {
      "cell_type": "code",
      "metadata": {
        "id": "ovKSqsPbrWu-",
        "outputId": "f67c2ee0-e685-4281-a413-9c3b4bb80dc4",
        "colab": {
          "base_uri": "https://localhost:8080/",
          "height": 0
        }
      },
      "source": [
        "fifa.head()"
      ],
      "execution_count": 640,
      "outputs": [
        {
          "output_type": "execute_result",
          "data": {
            "text/html": [
              "<div>\n",
              "<style scoped>\n",
              "    .dataframe tbody tr th:only-of-type {\n",
              "        vertical-align: middle;\n",
              "    }\n",
              "\n",
              "    .dataframe tbody tr th {\n",
              "        vertical-align: top;\n",
              "    }\n",
              "\n",
              "    .dataframe thead th {\n",
              "        text-align: right;\n",
              "    }\n",
              "</style>\n",
              "<table border=\"1\" class=\"dataframe\">\n",
              "  <thead>\n",
              "    <tr style=\"text-align: right;\">\n",
              "      <th></th>\n",
              "      <th>rank</th>\n",
              "      <th>country_full</th>\n",
              "      <th>country_abrv</th>\n",
              "      <th>total_points</th>\n",
              "      <th>previous_points</th>\n",
              "      <th>rank_change</th>\n",
              "      <th>cur_year_avg</th>\n",
              "      <th>cur_year_avg_weighted</th>\n",
              "      <th>last_year_avg</th>\n",
              "      <th>last_year_avg_weighted</th>\n",
              "      <th>two_year_ago_avg</th>\n",
              "      <th>two_year_ago_weighted</th>\n",
              "      <th>three_year_ago_avg</th>\n",
              "      <th>three_year_ago_weighted</th>\n",
              "      <th>confederation</th>\n",
              "      <th>rank_date</th>\n",
              "    </tr>\n",
              "  </thead>\n",
              "  <tbody>\n",
              "    <tr>\n",
              "      <th>0</th>\n",
              "      <td>1</td>\n",
              "      <td>Germany</td>\n",
              "      <td>GER</td>\n",
              "      <td>0.0</td>\n",
              "      <td>57</td>\n",
              "      <td>0</td>\n",
              "      <td>0.0</td>\n",
              "      <td>0.0</td>\n",
              "      <td>0.0</td>\n",
              "      <td>0.0</td>\n",
              "      <td>0.0</td>\n",
              "      <td>0.0</td>\n",
              "      <td>0.0</td>\n",
              "      <td>0.0</td>\n",
              "      <td>UEFA</td>\n",
              "      <td>1993-08-08</td>\n",
              "    </tr>\n",
              "    <tr>\n",
              "      <th>1</th>\n",
              "      <td>2</td>\n",
              "      <td>Italy</td>\n",
              "      <td>ITA</td>\n",
              "      <td>0.0</td>\n",
              "      <td>57</td>\n",
              "      <td>0</td>\n",
              "      <td>0.0</td>\n",
              "      <td>0.0</td>\n",
              "      <td>0.0</td>\n",
              "      <td>0.0</td>\n",
              "      <td>0.0</td>\n",
              "      <td>0.0</td>\n",
              "      <td>0.0</td>\n",
              "      <td>0.0</td>\n",
              "      <td>UEFA</td>\n",
              "      <td>1993-08-08</td>\n",
              "    </tr>\n",
              "    <tr>\n",
              "      <th>2</th>\n",
              "      <td>3</td>\n",
              "      <td>Switzerland</td>\n",
              "      <td>SUI</td>\n",
              "      <td>0.0</td>\n",
              "      <td>50</td>\n",
              "      <td>9</td>\n",
              "      <td>0.0</td>\n",
              "      <td>0.0</td>\n",
              "      <td>0.0</td>\n",
              "      <td>0.0</td>\n",
              "      <td>0.0</td>\n",
              "      <td>0.0</td>\n",
              "      <td>0.0</td>\n",
              "      <td>0.0</td>\n",
              "      <td>UEFA</td>\n",
              "      <td>1993-08-08</td>\n",
              "    </tr>\n",
              "    <tr>\n",
              "      <th>3</th>\n",
              "      <td>4</td>\n",
              "      <td>Sweden</td>\n",
              "      <td>SWE</td>\n",
              "      <td>0.0</td>\n",
              "      <td>55</td>\n",
              "      <td>0</td>\n",
              "      <td>0.0</td>\n",
              "      <td>0.0</td>\n",
              "      <td>0.0</td>\n",
              "      <td>0.0</td>\n",
              "      <td>0.0</td>\n",
              "      <td>0.0</td>\n",
              "      <td>0.0</td>\n",
              "      <td>0.0</td>\n",
              "      <td>UEFA</td>\n",
              "      <td>1993-08-08</td>\n",
              "    </tr>\n",
              "    <tr>\n",
              "      <th>4</th>\n",
              "      <td>5</td>\n",
              "      <td>Argentina</td>\n",
              "      <td>ARG</td>\n",
              "      <td>0.0</td>\n",
              "      <td>51</td>\n",
              "      <td>5</td>\n",
              "      <td>0.0</td>\n",
              "      <td>0.0</td>\n",
              "      <td>0.0</td>\n",
              "      <td>0.0</td>\n",
              "      <td>0.0</td>\n",
              "      <td>0.0</td>\n",
              "      <td>0.0</td>\n",
              "      <td>0.0</td>\n",
              "      <td>CONMEBOL</td>\n",
              "      <td>1993-08-08</td>\n",
              "    </tr>\n",
              "  </tbody>\n",
              "</table>\n",
              "</div>"
            ],
            "text/plain": [
              "   rank country_full  ... confederation   rank_date\n",
              "0     1      Germany  ...          UEFA  1993-08-08\n",
              "1     2        Italy  ...          UEFA  1993-08-08\n",
              "2     3  Switzerland  ...          UEFA  1993-08-08\n",
              "3     4       Sweden  ...          UEFA  1993-08-08\n",
              "4     5    Argentina  ...      CONMEBOL  1993-08-08\n",
              "\n",
              "[5 rows x 16 columns]"
            ]
          },
          "metadata": {
            "tags": []
          },
          "execution_count": 640
        }
      ]
    },
    {
      "cell_type": "code",
      "metadata": {
        "id": "hfI7PMI0rWri",
        "outputId": "c673c31c-56c5-4ec2-91b8-e2ab25f21fc7",
        "colab": {
          "base_uri": "https://localhost:8080/",
          "height": 0
        }
      },
      "source": [
        "fifa.tail()"
      ],
      "execution_count": 641,
      "outputs": [
        {
          "output_type": "execute_result",
          "data": {
            "text/html": [
              "<div>\n",
              "<style scoped>\n",
              "    .dataframe tbody tr th:only-of-type {\n",
              "        vertical-align: middle;\n",
              "    }\n",
              "\n",
              "    .dataframe tbody tr th {\n",
              "        vertical-align: top;\n",
              "    }\n",
              "\n",
              "    .dataframe thead th {\n",
              "        text-align: right;\n",
              "    }\n",
              "</style>\n",
              "<table border=\"1\" class=\"dataframe\">\n",
              "  <thead>\n",
              "    <tr style=\"text-align: right;\">\n",
              "      <th></th>\n",
              "      <th>rank</th>\n",
              "      <th>country_full</th>\n",
              "      <th>country_abrv</th>\n",
              "      <th>total_points</th>\n",
              "      <th>previous_points</th>\n",
              "      <th>rank_change</th>\n",
              "      <th>cur_year_avg</th>\n",
              "      <th>cur_year_avg_weighted</th>\n",
              "      <th>last_year_avg</th>\n",
              "      <th>last_year_avg_weighted</th>\n",
              "      <th>two_year_ago_avg</th>\n",
              "      <th>two_year_ago_weighted</th>\n",
              "      <th>three_year_ago_avg</th>\n",
              "      <th>three_year_ago_weighted</th>\n",
              "      <th>confederation</th>\n",
              "      <th>rank_date</th>\n",
              "    </tr>\n",
              "  </thead>\n",
              "  <tbody>\n",
              "    <tr>\n",
              "      <th>57788</th>\n",
              "      <td>206</td>\n",
              "      <td>Anguilla</td>\n",
              "      <td>AIA</td>\n",
              "      <td>0.0</td>\n",
              "      <td>0</td>\n",
              "      <td>1</td>\n",
              "      <td>0.0</td>\n",
              "      <td>0.0</td>\n",
              "      <td>0.0</td>\n",
              "      <td>0.0</td>\n",
              "      <td>0.0</td>\n",
              "      <td>0.0</td>\n",
              "      <td>0.0</td>\n",
              "      <td>0.0</td>\n",
              "      <td>CONCACAF</td>\n",
              "      <td>2018-06-07</td>\n",
              "    </tr>\n",
              "    <tr>\n",
              "      <th>57789</th>\n",
              "      <td>206</td>\n",
              "      <td>Bahamas</td>\n",
              "      <td>BAH</td>\n",
              "      <td>0.0</td>\n",
              "      <td>0</td>\n",
              "      <td>1</td>\n",
              "      <td>0.0</td>\n",
              "      <td>0.0</td>\n",
              "      <td>0.0</td>\n",
              "      <td>0.0</td>\n",
              "      <td>0.0</td>\n",
              "      <td>0.0</td>\n",
              "      <td>0.0</td>\n",
              "      <td>0.0</td>\n",
              "      <td>CONCACAF</td>\n",
              "      <td>2018-06-07</td>\n",
              "    </tr>\n",
              "    <tr>\n",
              "      <th>57790</th>\n",
              "      <td>206</td>\n",
              "      <td>Eritrea</td>\n",
              "      <td>ERI</td>\n",
              "      <td>0.0</td>\n",
              "      <td>0</td>\n",
              "      <td>1</td>\n",
              "      <td>0.0</td>\n",
              "      <td>0.0</td>\n",
              "      <td>0.0</td>\n",
              "      <td>0.0</td>\n",
              "      <td>0.0</td>\n",
              "      <td>0.0</td>\n",
              "      <td>0.0</td>\n",
              "      <td>0.0</td>\n",
              "      <td>CAF</td>\n",
              "      <td>2018-06-07</td>\n",
              "    </tr>\n",
              "    <tr>\n",
              "      <th>57791</th>\n",
              "      <td>206</td>\n",
              "      <td>Somalia</td>\n",
              "      <td>SOM</td>\n",
              "      <td>0.0</td>\n",
              "      <td>0</td>\n",
              "      <td>1</td>\n",
              "      <td>0.0</td>\n",
              "      <td>0.0</td>\n",
              "      <td>0.0</td>\n",
              "      <td>0.0</td>\n",
              "      <td>0.0</td>\n",
              "      <td>0.0</td>\n",
              "      <td>0.0</td>\n",
              "      <td>0.0</td>\n",
              "      <td>CAF</td>\n",
              "      <td>2018-06-07</td>\n",
              "    </tr>\n",
              "    <tr>\n",
              "      <th>57792</th>\n",
              "      <td>206</td>\n",
              "      <td>Tonga</td>\n",
              "      <td>TGA</td>\n",
              "      <td>0.0</td>\n",
              "      <td>0</td>\n",
              "      <td>1</td>\n",
              "      <td>0.0</td>\n",
              "      <td>0.0</td>\n",
              "      <td>0.0</td>\n",
              "      <td>0.0</td>\n",
              "      <td>0.0</td>\n",
              "      <td>0.0</td>\n",
              "      <td>0.0</td>\n",
              "      <td>0.0</td>\n",
              "      <td>OFC</td>\n",
              "      <td>2018-06-07</td>\n",
              "    </tr>\n",
              "  </tbody>\n",
              "</table>\n",
              "</div>"
            ],
            "text/plain": [
              "       rank country_full  ... confederation   rank_date\n",
              "57788   206     Anguilla  ...      CONCACAF  2018-06-07\n",
              "57789   206      Bahamas  ...      CONCACAF  2018-06-07\n",
              "57790   206      Eritrea  ...           CAF  2018-06-07\n",
              "57791   206      Somalia  ...           CAF  2018-06-07\n",
              "57792   206        Tonga  ...           OFC  2018-06-07\n",
              "\n",
              "[5 rows x 16 columns]"
            ]
          },
          "metadata": {
            "tags": []
          },
          "execution_count": 641
        }
      ]
    },
    {
      "cell_type": "code",
      "metadata": {
        "id": "XUuODHf3Kzgv",
        "outputId": "30cd2805-a783-43b3-f69e-25cdc580f0a5",
        "colab": {
          "base_uri": "https://localhost:8080/"
        }
      },
      "source": [
        "fifa.shape"
      ],
      "execution_count": 642,
      "outputs": [
        {
          "output_type": "execute_result",
          "data": {
            "text/plain": [
              "(57793, 16)"
            ]
          },
          "metadata": {
            "tags": []
          },
          "execution_count": 642
        }
      ]
    },
    {
      "cell_type": "code",
      "metadata": {
        "id": "ZM5WJvMErbR6",
        "outputId": "08f2d588-a51e-42fe-b3e4-5dc22d7cd083",
        "colab": {
          "base_uri": "https://localhost:8080/"
        }
      },
      "source": [
        "fifa.info()"
      ],
      "execution_count": 643,
      "outputs": [
        {
          "output_type": "stream",
          "text": [
            "<class 'pandas.core.frame.DataFrame'>\n",
            "RangeIndex: 57793 entries, 0 to 57792\n",
            "Data columns (total 16 columns):\n",
            " #   Column                   Non-Null Count  Dtype  \n",
            "---  ------                   --------------  -----  \n",
            " 0   rank                     57793 non-null  int64  \n",
            " 1   country_full             57793 non-null  object \n",
            " 2   country_abrv             57793 non-null  object \n",
            " 3   total_points             57793 non-null  float64\n",
            " 4   previous_points          57793 non-null  int64  \n",
            " 5   rank_change              57793 non-null  int64  \n",
            " 6   cur_year_avg             57793 non-null  float64\n",
            " 7   cur_year_avg_weighted    57793 non-null  float64\n",
            " 8   last_year_avg            57793 non-null  float64\n",
            " 9   last_year_avg_weighted   57793 non-null  float64\n",
            " 10  two_year_ago_avg         57793 non-null  float64\n",
            " 11  two_year_ago_weighted    57793 non-null  float64\n",
            " 12  three_year_ago_avg       57793 non-null  float64\n",
            " 13  three_year_ago_weighted  57793 non-null  float64\n",
            " 14  confederation            57793 non-null  object \n",
            " 15  rank_date                57793 non-null  object \n",
            "dtypes: float64(9), int64(3), object(4)\n",
            "memory usage: 7.1+ MB\n"
          ],
          "name": "stdout"
        }
      ]
    },
    {
      "cell_type": "markdown",
      "metadata": {
        "id": "sOrLWBY2rS83"
      },
      "source": [
        "## 1.2.Witchcraft"
      ]
    },
    {
      "cell_type": "markdown",
      "metadata": {
        "id": "jJHpax5pKhDn"
      },
      "source": [
        "Next I undertook several extensive steps to allow me to merge the two datasets given that the two had differing dates and they also had different tournaments."
      ]
    },
    {
      "cell_type": "code",
      "metadata": {
        "id": "oj2z_ePBsOZN",
        "outputId": "e876f372-c31f-4537-c606-accbb24df694",
        "colab": {
          "base_uri": "https://localhost:8080/"
        }
      },
      "source": [
        "result.tournament.unique()"
      ],
      "execution_count": 644,
      "outputs": [
        {
          "output_type": "execute_result",
          "data": {
            "text/plain": [
              "array(['Friendly', 'British Championship', 'Copa Lipton', 'Copa Newton',\n",
              "       'Copa Premio Honor Argentino', 'Copa Premio Honor Uruguayo',\n",
              "       'Copa Roca', 'Copa América', 'Copa Chevallier Boutell',\n",
              "       'Nordic Championship', 'International Cup', 'Baltic Cup',\n",
              "       'Balkan Cup', 'FIFA World Cup', 'Copa Rio Branco',\n",
              "       'FIFA World Cup qualification', 'CCCF Championship',\n",
              "       'NAFU Championship', 'Copa Oswaldo Cruz',\n",
              "       'Pan American Championship', 'Copa del Pacífico',\n",
              "       \"Copa Bernardo O'Higgins\", 'AFC Asian Cup qualification',\n",
              "       'Atlantic Cup', 'AFC Asian Cup', 'African Cup of Nations',\n",
              "       'Copa Paz del Chaco', 'Merdeka Tournament',\n",
              "       'UEFA Euro qualification', 'UEFA Euro',\n",
              "       'Windward Islands Tournament',\n",
              "       'African Cup of Nations qualification', 'Vietnam Independence Cup',\n",
              "       'Copa Carlos Dittborn', 'CONCACAF Championship',\n",
              "       'Copa Juan Pinto Durán', 'UAFA Cup', 'South Pacific Games',\n",
              "       'CONCACAF Championship qualification', 'Copa Artigas', 'GaNEFo',\n",
              "       \"King's Cup\", 'Gulf Cup', 'Indonesia Tournament', 'Korea Cup',\n",
              "       'Brazil Independence Cup', 'Copa Ramón Castilla',\n",
              "       'Oceania Nations Cup', 'CECAFA Cup', 'Copa Félix Bogado',\n",
              "       'Kirin Cup', 'CFU Caribbean Cup qualification',\n",
              "       'CFU Caribbean Cup', 'Amílcar Cabral Cup', 'Mundialito',\n",
              "       'West African Cup', 'Nehru Cup', 'Merlion Cup', 'UDEAC Cup',\n",
              "       'Rous Cup', 'Lunar New Year Cup', 'Tournoi de France',\n",
              "       'Malta International Tournament', 'Island Games', 'Dynasty Cup',\n",
              "       'UNCAF Cup', 'Gold Cup', 'USA Cup',\n",
              "       'Jordan International Tournament', 'Confederations Cup',\n",
              "       'United Arab Emirates Friendship Tournament',\n",
              "       'Oceania Nations Cup qualification', 'Simba Tournament',\n",
              "       'SAFF Cup', 'AFF Championship', 'King Hassan II Tournament',\n",
              "       'Cyprus International Tournament', 'Dunhill Cup', 'COSAFA Cup',\n",
              "       'Gold Cup qualification', 'SKN Football Festival', 'UNIFFAC Cup',\n",
              "       'WAFF Championship', 'Millennium Cup', \"Prime Minister's Cup\",\n",
              "       'EAFF Championship', 'AFC Challenge Cup', 'FIFI Wild Cup',\n",
              "       'ELF Cup', 'Viva World Cup', 'UAFA Cup qualification',\n",
              "       'AFC Challenge Cup qualification', 'African Nations Championship',\n",
              "       'VFF Cup', 'Dragon Cup', 'ABCS Tournament',\n",
              "       'Nile Basin Tournament', 'Nations Cup', 'Pacific Games', 'OSN Cup',\n",
              "       'CONIFA World Football Cup', 'CONIFA European Football Cup',\n",
              "       'Copa América qualification', 'World Unity Cup',\n",
              "       'Intercontinental Cup', 'AFF Championship qualification',\n",
              "       'UEFA Nations League', 'Atlantic Heritage Cup',\n",
              "       'Inter Games Football Tournament'], dtype=object)"
            ]
          },
          "metadata": {
            "tags": []
          },
          "execution_count": 644
        }
      ]
    },
    {
      "cell_type": "code",
      "metadata": {
        "id": "3EdiPSktaFMD"
      },
      "source": [
        "fifa.confederation.replace({'OFC':'Oceania',\n",
        "                            'CAF':'African'},inplace=True)"
      ],
      "execution_count": 645,
      "outputs": []
    },
    {
      "cell_type": "markdown",
      "metadata": {
        "id": "yVCVFb9-LEh8"
      },
      "source": [
        "I renamed various columns on the Fifa dataset in order for me to then merge it with the results dataset.\n",
        "\n",
        "I also coverted the Date columns on both datasets to  datetime format so I could split them into year , month and day"
      ]
    },
    {
      "cell_type": "code",
      "metadata": {
        "id": "MG-J3P-7eZNu"
      },
      "source": [
        "fifa.rename(columns={'rank_date':'date',\n",
        "                     'country_full':'country'\n",
        "                     },inplace=True)"
      ],
      "execution_count": 646,
      "outputs": []
    },
    {
      "cell_type": "code",
      "metadata": {
        "id": "WigbxsLm9mUP"
      },
      "source": [
        "result.date = pd.to_datetime(result['date'])#,format='YYYY-mm-dd')"
      ],
      "execution_count": 647,
      "outputs": []
    },
    {
      "cell_type": "code",
      "metadata": {
        "id": "OVd16mIk8wZP"
      },
      "source": [
        "fifa.date = pd.to_datetime(fifa['date'])#,format='YYYY-mm-dd')"
      ],
      "execution_count": 648,
      "outputs": []
    },
    {
      "cell_type": "code",
      "metadata": {
        "id": "dTtUYNqKcoE2"
      },
      "source": [
        "fifa['year'] = fifa['date'].dt.year\n",
        "fifa['month'] = fifa['date'].dt.month\n",
        "fifa['day']= fifa['date'].dt.day"
      ],
      "execution_count": 649,
      "outputs": []
    },
    {
      "cell_type": "code",
      "metadata": {
        "id": "t9qlCCsxcQJ1"
      },
      "source": [
        "result['year'] = result['date'].dt.year\n",
        "result['month'] = result['date'].dt.month\n",
        "result['day']= result['date'].dt.day"
      ],
      "execution_count": 650,
      "outputs": []
    },
    {
      "cell_type": "markdown",
      "metadata": {
        "id": "AXv4HXGNuu9V"
      },
      "source": [
        "Finally I merged the two on year ,month and home_team and year ,month,country under the condition that the rank_date was greater than the playing date"
      ]
    },
    {
      "cell_type": "code",
      "metadata": {
        "id": "yFKaw8q1dxKM",
        "outputId": "654af8c8-8058-4ec7-d6d9-d727f801da73",
        "colab": {
          "base_uri": "https://localhost:8080/",
          "height": 0
        }
      },
      "source": [
        "df = result.merge(fifa,how='inner',left_on=['year','month','home_team'],right_on=['year','month','country'])\n",
        "df\n",
        "df=df[df['day_x']<df['day_y']]\n",
        "df"
      ],
      "execution_count": 651,
      "outputs": [
        {
          "output_type": "execute_result",
          "data": {
            "text/html": [
              "<div>\n",
              "<style scoped>\n",
              "    .dataframe tbody tr th:only-of-type {\n",
              "        vertical-align: middle;\n",
              "    }\n",
              "\n",
              "    .dataframe tbody tr th {\n",
              "        vertical-align: top;\n",
              "    }\n",
              "\n",
              "    .dataframe thead th {\n",
              "        text-align: right;\n",
              "    }\n",
              "</style>\n",
              "<table border=\"1\" class=\"dataframe\">\n",
              "  <thead>\n",
              "    <tr style=\"text-align: right;\">\n",
              "      <th></th>\n",
              "      <th>date_x</th>\n",
              "      <th>home_team</th>\n",
              "      <th>away_team</th>\n",
              "      <th>home_score</th>\n",
              "      <th>away_score</th>\n",
              "      <th>tournament</th>\n",
              "      <th>city</th>\n",
              "      <th>country_x</th>\n",
              "      <th>neutral</th>\n",
              "      <th>year</th>\n",
              "      <th>month</th>\n",
              "      <th>day_x</th>\n",
              "      <th>rank</th>\n",
              "      <th>country_y</th>\n",
              "      <th>country_abrv</th>\n",
              "      <th>total_points</th>\n",
              "      <th>previous_points</th>\n",
              "      <th>rank_change</th>\n",
              "      <th>cur_year_avg</th>\n",
              "      <th>cur_year_avg_weighted</th>\n",
              "      <th>last_year_avg</th>\n",
              "      <th>last_year_avg_weighted</th>\n",
              "      <th>two_year_ago_avg</th>\n",
              "      <th>two_year_ago_weighted</th>\n",
              "      <th>three_year_ago_avg</th>\n",
              "      <th>three_year_ago_weighted</th>\n",
              "      <th>confederation</th>\n",
              "      <th>date_y</th>\n",
              "      <th>day_y</th>\n",
              "    </tr>\n",
              "  </thead>\n",
              "  <tbody>\n",
              "    <tr>\n",
              "      <th>0</th>\n",
              "      <td>1993-08-01</td>\n",
              "      <td>Colombia</td>\n",
              "      <td>Paraguay</td>\n",
              "      <td>0</td>\n",
              "      <td>0</td>\n",
              "      <td>FIFA World Cup qualification</td>\n",
              "      <td>Barranquilla</td>\n",
              "      <td>Colombia</td>\n",
              "      <td>False</td>\n",
              "      <td>1993</td>\n",
              "      <td>8</td>\n",
              "      <td>1</td>\n",
              "      <td>19</td>\n",
              "      <td>Colombia</td>\n",
              "      <td>COL</td>\n",
              "      <td>0.00</td>\n",
              "      <td>36</td>\n",
              "      <td>16</td>\n",
              "      <td>0.00</td>\n",
              "      <td>0.00</td>\n",
              "      <td>0.00</td>\n",
              "      <td>0.00</td>\n",
              "      <td>0.00</td>\n",
              "      <td>0.00</td>\n",
              "      <td>0.00</td>\n",
              "      <td>0.00</td>\n",
              "      <td>CONMEBOL</td>\n",
              "      <td>1993-08-08</td>\n",
              "      <td>8</td>\n",
              "    </tr>\n",
              "    <tr>\n",
              "      <th>3</th>\n",
              "      <td>1993-08-01</td>\n",
              "      <td>Peru</td>\n",
              "      <td>Argentina</td>\n",
              "      <td>0</td>\n",
              "      <td>1</td>\n",
              "      <td>FIFA World Cup qualification</td>\n",
              "      <td>Lima</td>\n",
              "      <td>Peru</td>\n",
              "      <td>False</td>\n",
              "      <td>1993</td>\n",
              "      <td>8</td>\n",
              "      <td>1</td>\n",
              "      <td>70</td>\n",
              "      <td>Peru</td>\n",
              "      <td>PER</td>\n",
              "      <td>0.00</td>\n",
              "      <td>16</td>\n",
              "      <td>8</td>\n",
              "      <td>0.00</td>\n",
              "      <td>0.00</td>\n",
              "      <td>0.00</td>\n",
              "      <td>0.00</td>\n",
              "      <td>0.00</td>\n",
              "      <td>0.00</td>\n",
              "      <td>0.00</td>\n",
              "      <td>0.00</td>\n",
              "      <td>CONMEBOL</td>\n",
              "      <td>1993-08-08</td>\n",
              "      <td>8</td>\n",
              "    </tr>\n",
              "    <tr>\n",
              "      <th>5</th>\n",
              "      <td>1993-08-01</td>\n",
              "      <td>Uruguay</td>\n",
              "      <td>Ecuador</td>\n",
              "      <td>0</td>\n",
              "      <td>0</td>\n",
              "      <td>FIFA World Cup qualification</td>\n",
              "      <td>Montevideo</td>\n",
              "      <td>Uruguay</td>\n",
              "      <td>False</td>\n",
              "      <td>1993</td>\n",
              "      <td>8</td>\n",
              "      <td>1</td>\n",
              "      <td>22</td>\n",
              "      <td>Uruguay</td>\n",
              "      <td>URU</td>\n",
              "      <td>0.00</td>\n",
              "      <td>47</td>\n",
              "      <td>-6</td>\n",
              "      <td>0.00</td>\n",
              "      <td>0.00</td>\n",
              "      <td>0.00</td>\n",
              "      <td>0.00</td>\n",
              "      <td>0.00</td>\n",
              "      <td>0.00</td>\n",
              "      <td>0.00</td>\n",
              "      <td>0.00</td>\n",
              "      <td>CONMEBOL</td>\n",
              "      <td>1993-08-08</td>\n",
              "      <td>8</td>\n",
              "    </tr>\n",
              "    <tr>\n",
              "      <th>8</th>\n",
              "      <td>1993-08-01</td>\n",
              "      <td>Venezuela</td>\n",
              "      <td>Brazil</td>\n",
              "      <td>1</td>\n",
              "      <td>5</td>\n",
              "      <td>FIFA World Cup qualification</td>\n",
              "      <td>San Cristóbal</td>\n",
              "      <td>Venezuela</td>\n",
              "      <td>False</td>\n",
              "      <td>1993</td>\n",
              "      <td>8</td>\n",
              "      <td>1</td>\n",
              "      <td>94</td>\n",
              "      <td>Venezuela</td>\n",
              "      <td>VEN</td>\n",
              "      <td>0.00</td>\n",
              "      <td>4</td>\n",
              "      <td>31</td>\n",
              "      <td>0.00</td>\n",
              "      <td>0.00</td>\n",
              "      <td>0.00</td>\n",
              "      <td>0.00</td>\n",
              "      <td>0.00</td>\n",
              "      <td>0.00</td>\n",
              "      <td>0.00</td>\n",
              "      <td>0.00</td>\n",
              "      <td>CONMEBOL</td>\n",
              "      <td>1993-08-08</td>\n",
              "      <td>8</td>\n",
              "    </tr>\n",
              "    <tr>\n",
              "      <th>9</th>\n",
              "      <td>1993-08-07</td>\n",
              "      <td>Senegal</td>\n",
              "      <td>Zambia</td>\n",
              "      <td>0</td>\n",
              "      <td>0</td>\n",
              "      <td>FIFA World Cup qualification</td>\n",
              "      <td>Abidjan</td>\n",
              "      <td>Ivory Coast</td>\n",
              "      <td>True</td>\n",
              "      <td>1993</td>\n",
              "      <td>8</td>\n",
              "      <td>7</td>\n",
              "      <td>58</td>\n",
              "      <td>Senegal</td>\n",
              "      <td>SEN</td>\n",
              "      <td>0.00</td>\n",
              "      <td>27</td>\n",
              "      <td>-7</td>\n",
              "      <td>0.00</td>\n",
              "      <td>0.00</td>\n",
              "      <td>0.00</td>\n",
              "      <td>0.00</td>\n",
              "      <td>0.00</td>\n",
              "      <td>0.00</td>\n",
              "      <td>0.00</td>\n",
              "      <td>0.00</td>\n",
              "      <td>African</td>\n",
              "      <td>1993-08-08</td>\n",
              "      <td>8</td>\n",
              "    </tr>\n",
              "    <tr>\n",
              "      <th>...</th>\n",
              "      <td>...</td>\n",
              "      <td>...</td>\n",
              "      <td>...</td>\n",
              "      <td>...</td>\n",
              "      <td>...</td>\n",
              "      <td>...</td>\n",
              "      <td>...</td>\n",
              "      <td>...</td>\n",
              "      <td>...</td>\n",
              "      <td>...</td>\n",
              "      <td>...</td>\n",
              "      <td>...</td>\n",
              "      <td>...</td>\n",
              "      <td>...</td>\n",
              "      <td>...</td>\n",
              "      <td>...</td>\n",
              "      <td>...</td>\n",
              "      <td>...</td>\n",
              "      <td>...</td>\n",
              "      <td>...</td>\n",
              "      <td>...</td>\n",
              "      <td>...</td>\n",
              "      <td>...</td>\n",
              "      <td>...</td>\n",
              "      <td>...</td>\n",
              "      <td>...</td>\n",
              "      <td>...</td>\n",
              "      <td>...</td>\n",
              "      <td>...</td>\n",
              "    </tr>\n",
              "    <tr>\n",
              "      <th>18564</th>\n",
              "      <td>2018-06-05</td>\n",
              "      <td>Kazakhstan</td>\n",
              "      <td>Azerbaijan</td>\n",
              "      <td>3</td>\n",
              "      <td>0</td>\n",
              "      <td>Friendly</td>\n",
              "      <td>Astana</td>\n",
              "      <td>Kazakhstan</td>\n",
              "      <td>False</td>\n",
              "      <td>2018</td>\n",
              "      <td>6</td>\n",
              "      <td>5</td>\n",
              "      <td>117</td>\n",
              "      <td>Kazakhstan</td>\n",
              "      <td>KAZ</td>\n",
              "      <td>272.85</td>\n",
              "      <td>273</td>\n",
              "      <td>0</td>\n",
              "      <td>105.01</td>\n",
              "      <td>105.01</td>\n",
              "      <td>171.38</td>\n",
              "      <td>85.69</td>\n",
              "      <td>213.84</td>\n",
              "      <td>64.15</td>\n",
              "      <td>89.97</td>\n",
              "      <td>17.99</td>\n",
              "      <td>UEFA</td>\n",
              "      <td>2018-06-07</td>\n",
              "      <td>7</td>\n",
              "    </tr>\n",
              "    <tr>\n",
              "      <th>18565</th>\n",
              "      <td>2018-06-05</td>\n",
              "      <td>Lithuania</td>\n",
              "      <td>Latvia</td>\n",
              "      <td>1</td>\n",
              "      <td>1</td>\n",
              "      <td>Friendly</td>\n",
              "      <td>Vilnius</td>\n",
              "      <td>Lithuania</td>\n",
              "      <td>False</td>\n",
              "      <td>2018</td>\n",
              "      <td>6</td>\n",
              "      <td>5</td>\n",
              "      <td>126</td>\n",
              "      <td>Lithuania</td>\n",
              "      <td>LTU</td>\n",
              "      <td>239.38</td>\n",
              "      <td>229</td>\n",
              "      <td>7</td>\n",
              "      <td>55.94</td>\n",
              "      <td>55.94</td>\n",
              "      <td>221.27</td>\n",
              "      <td>110.63</td>\n",
              "      <td>112.86</td>\n",
              "      <td>33.86</td>\n",
              "      <td>194.78</td>\n",
              "      <td>38.96</td>\n",
              "      <td>UEFA</td>\n",
              "      <td>2018-06-07</td>\n",
              "      <td>7</td>\n",
              "    </tr>\n",
              "    <tr>\n",
              "      <th>18567</th>\n",
              "      <td>2018-06-05</td>\n",
              "      <td>Chinese Taipei</td>\n",
              "      <td>New Zealand</td>\n",
              "      <td>0</td>\n",
              "      <td>1</td>\n",
              "      <td>Intercontinental Cup</td>\n",
              "      <td>Mumbai</td>\n",
              "      <td>India</td>\n",
              "      <td>True</td>\n",
              "      <td>2018</td>\n",
              "      <td>6</td>\n",
              "      <td>5</td>\n",
              "      <td>123</td>\n",
              "      <td>Chinese Taipei</td>\n",
              "      <td>TPE</td>\n",
              "      <td>246.74</td>\n",
              "      <td>263</td>\n",
              "      <td>-2</td>\n",
              "      <td>175.19</td>\n",
              "      <td>175.19</td>\n",
              "      <td>107.44</td>\n",
              "      <td>53.72</td>\n",
              "      <td>29.22</td>\n",
              "      <td>8.77</td>\n",
              "      <td>45.37</td>\n",
              "      <td>9.07</td>\n",
              "      <td>AFC</td>\n",
              "      <td>2018-06-07</td>\n",
              "      <td>7</td>\n",
              "    </tr>\n",
              "    <tr>\n",
              "      <th>18569</th>\n",
              "      <td>2018-06-06</td>\n",
              "      <td>Norway</td>\n",
              "      <td>Panama</td>\n",
              "      <td>1</td>\n",
              "      <td>0</td>\n",
              "      <td>Friendly</td>\n",
              "      <td>Oslo</td>\n",
              "      <td>Norway</td>\n",
              "      <td>False</td>\n",
              "      <td>2018</td>\n",
              "      <td>6</td>\n",
              "      <td>6</td>\n",
              "      <td>53</td>\n",
              "      <td>Norway</td>\n",
              "      <td>NOR</td>\n",
              "      <td>595.99</td>\n",
              "      <td>608</td>\n",
              "      <td>-5</td>\n",
              "      <td>414.26</td>\n",
              "      <td>414.26</td>\n",
              "      <td>61.88</td>\n",
              "      <td>30.94</td>\n",
              "      <td>320.27</td>\n",
              "      <td>96.08</td>\n",
              "      <td>273.54</td>\n",
              "      <td>54.71</td>\n",
              "      <td>UEFA</td>\n",
              "      <td>2018-06-07</td>\n",
              "      <td>7</td>\n",
              "    </tr>\n",
              "    <tr>\n",
              "      <th>18570</th>\n",
              "      <td>2018-06-06</td>\n",
              "      <td>Belarus</td>\n",
              "      <td>Hungary</td>\n",
              "      <td>1</td>\n",
              "      <td>1</td>\n",
              "      <td>Friendly</td>\n",
              "      <td>Brest</td>\n",
              "      <td>Belarus</td>\n",
              "      <td>False</td>\n",
              "      <td>2018</td>\n",
              "      <td>6</td>\n",
              "      <td>6</td>\n",
              "      <td>78</td>\n",
              "      <td>Belarus</td>\n",
              "      <td>BLR</td>\n",
              "      <td>417.42</td>\n",
              "      <td>410</td>\n",
              "      <td>1</td>\n",
              "      <td>204.80</td>\n",
              "      <td>204.80</td>\n",
              "      <td>169.84</td>\n",
              "      <td>84.92</td>\n",
              "      <td>294.64</td>\n",
              "      <td>88.39</td>\n",
              "      <td>196.50</td>\n",
              "      <td>39.30</td>\n",
              "      <td>UEFA</td>\n",
              "      <td>2018-06-07</td>\n",
              "      <td>7</td>\n",
              "    </tr>\n",
              "  </tbody>\n",
              "</table>\n",
              "<p>8948 rows × 29 columns</p>\n",
              "</div>"
            ],
            "text/plain": [
              "          date_x       home_team    away_team  ...  confederation     date_y day_y\n",
              "0     1993-08-01        Colombia     Paraguay  ...       CONMEBOL 1993-08-08     8\n",
              "3     1993-08-01            Peru    Argentina  ...       CONMEBOL 1993-08-08     8\n",
              "5     1993-08-01         Uruguay      Ecuador  ...       CONMEBOL 1993-08-08     8\n",
              "8     1993-08-01       Venezuela       Brazil  ...       CONMEBOL 1993-08-08     8\n",
              "9     1993-08-07         Senegal       Zambia  ...        African 1993-08-08     8\n",
              "...          ...             ...          ...  ...            ...        ...   ...\n",
              "18564 2018-06-05      Kazakhstan   Azerbaijan  ...           UEFA 2018-06-07     7\n",
              "18565 2018-06-05       Lithuania       Latvia  ...           UEFA 2018-06-07     7\n",
              "18567 2018-06-05  Chinese Taipei  New Zealand  ...            AFC 2018-06-07     7\n",
              "18569 2018-06-06          Norway       Panama  ...           UEFA 2018-06-07     7\n",
              "18570 2018-06-06         Belarus      Hungary  ...           UEFA 2018-06-07     7\n",
              "\n",
              "[8948 rows x 29 columns]"
            ]
          },
          "metadata": {
            "tags": []
          },
          "execution_count": 651
        }
      ]
    },
    {
      "cell_type": "markdown",
      "metadata": {
        "id": "JBFQpzIPMEnu"
      },
      "source": [
        "Next I also merged it on the away_team and country columns in order to obtain the stats for the away_teams.\n",
        "\n",
        "I then extracted these stats and using the merge function joined them to my dataset above giving me a complete dataset.\n",
        "\n",
        "I then used this dataset in my analysis."
      ]
    },
    {
      "cell_type": "code",
      "metadata": {
        "id": "V_OCCZ2AQ0B0",
        "outputId": "3fe11b84-cfe4-4b8a-bf01-eba0b24b66e7",
        "colab": {
          "base_uri": "https://localhost:8080/",
          "height": 0
        }
      },
      "source": [
        "df1 = result.merge(fifa,how='inner',left_on=['year','month','away_team'],right_on=['year','month','country'])\n",
        "df1\n",
        "df2=df1[df1['day_x']<df1['day_y']]\n",
        "df2"
      ],
      "execution_count": 652,
      "outputs": [
        {
          "output_type": "execute_result",
          "data": {
            "text/html": [
              "<div>\n",
              "<style scoped>\n",
              "    .dataframe tbody tr th:only-of-type {\n",
              "        vertical-align: middle;\n",
              "    }\n",
              "\n",
              "    .dataframe tbody tr th {\n",
              "        vertical-align: top;\n",
              "    }\n",
              "\n",
              "    .dataframe thead th {\n",
              "        text-align: right;\n",
              "    }\n",
              "</style>\n",
              "<table border=\"1\" class=\"dataframe\">\n",
              "  <thead>\n",
              "    <tr style=\"text-align: right;\">\n",
              "      <th></th>\n",
              "      <th>date_x</th>\n",
              "      <th>home_team</th>\n",
              "      <th>away_team</th>\n",
              "      <th>home_score</th>\n",
              "      <th>away_score</th>\n",
              "      <th>tournament</th>\n",
              "      <th>city</th>\n",
              "      <th>country_x</th>\n",
              "      <th>neutral</th>\n",
              "      <th>year</th>\n",
              "      <th>month</th>\n",
              "      <th>day_x</th>\n",
              "      <th>rank</th>\n",
              "      <th>country_y</th>\n",
              "      <th>country_abrv</th>\n",
              "      <th>total_points</th>\n",
              "      <th>previous_points</th>\n",
              "      <th>rank_change</th>\n",
              "      <th>cur_year_avg</th>\n",
              "      <th>cur_year_avg_weighted</th>\n",
              "      <th>last_year_avg</th>\n",
              "      <th>last_year_avg_weighted</th>\n",
              "      <th>two_year_ago_avg</th>\n",
              "      <th>two_year_ago_weighted</th>\n",
              "      <th>three_year_ago_avg</th>\n",
              "      <th>three_year_ago_weighted</th>\n",
              "      <th>confederation</th>\n",
              "      <th>date_y</th>\n",
              "      <th>day_y</th>\n",
              "    </tr>\n",
              "  </thead>\n",
              "  <tbody>\n",
              "    <tr>\n",
              "      <th>0</th>\n",
              "      <td>1993-08-01</td>\n",
              "      <td>Colombia</td>\n",
              "      <td>Paraguay</td>\n",
              "      <td>0</td>\n",
              "      <td>0</td>\n",
              "      <td>FIFA World Cup qualification</td>\n",
              "      <td>Barranquilla</td>\n",
              "      <td>Colombia</td>\n",
              "      <td>False</td>\n",
              "      <td>1993</td>\n",
              "      <td>8</td>\n",
              "      <td>1</td>\n",
              "      <td>67</td>\n",
              "      <td>Paraguay</td>\n",
              "      <td>PAR</td>\n",
              "      <td>0.00</td>\n",
              "      <td>22</td>\n",
              "      <td>1</td>\n",
              "      <td>0.00</td>\n",
              "      <td>0.00</td>\n",
              "      <td>0.00</td>\n",
              "      <td>0.00</td>\n",
              "      <td>0.00</td>\n",
              "      <td>0.00</td>\n",
              "      <td>0.00</td>\n",
              "      <td>0.00</td>\n",
              "      <td>CONMEBOL</td>\n",
              "      <td>1993-08-08</td>\n",
              "      <td>8</td>\n",
              "    </tr>\n",
              "    <tr>\n",
              "      <th>2</th>\n",
              "      <td>1993-08-01</td>\n",
              "      <td>Peru</td>\n",
              "      <td>Argentina</td>\n",
              "      <td>0</td>\n",
              "      <td>1</td>\n",
              "      <td>FIFA World Cup qualification</td>\n",
              "      <td>Lima</td>\n",
              "      <td>Peru</td>\n",
              "      <td>False</td>\n",
              "      <td>1993</td>\n",
              "      <td>8</td>\n",
              "      <td>1</td>\n",
              "      <td>5</td>\n",
              "      <td>Argentina</td>\n",
              "      <td>ARG</td>\n",
              "      <td>0.00</td>\n",
              "      <td>51</td>\n",
              "      <td>5</td>\n",
              "      <td>0.00</td>\n",
              "      <td>0.00</td>\n",
              "      <td>0.00</td>\n",
              "      <td>0.00</td>\n",
              "      <td>0.00</td>\n",
              "      <td>0.00</td>\n",
              "      <td>0.00</td>\n",
              "      <td>0.00</td>\n",
              "      <td>CONMEBOL</td>\n",
              "      <td>1993-08-08</td>\n",
              "      <td>8</td>\n",
              "    </tr>\n",
              "    <tr>\n",
              "      <th>5</th>\n",
              "      <td>1993-08-01</td>\n",
              "      <td>Uruguay</td>\n",
              "      <td>Ecuador</td>\n",
              "      <td>0</td>\n",
              "      <td>0</td>\n",
              "      <td>FIFA World Cup qualification</td>\n",
              "      <td>Montevideo</td>\n",
              "      <td>Uruguay</td>\n",
              "      <td>False</td>\n",
              "      <td>1993</td>\n",
              "      <td>8</td>\n",
              "      <td>1</td>\n",
              "      <td>35</td>\n",
              "      <td>Ecuador</td>\n",
              "      <td>ECU</td>\n",
              "      <td>0.00</td>\n",
              "      <td>23</td>\n",
              "      <td>30</td>\n",
              "      <td>0.00</td>\n",
              "      <td>0.00</td>\n",
              "      <td>0.00</td>\n",
              "      <td>0.00</td>\n",
              "      <td>0.00</td>\n",
              "      <td>0.00</td>\n",
              "      <td>0.00</td>\n",
              "      <td>0.00</td>\n",
              "      <td>CONMEBOL</td>\n",
              "      <td>1993-08-08</td>\n",
              "      <td>8</td>\n",
              "    </tr>\n",
              "    <tr>\n",
              "      <th>8</th>\n",
              "      <td>1993-08-01</td>\n",
              "      <td>Venezuela</td>\n",
              "      <td>Brazil</td>\n",
              "      <td>1</td>\n",
              "      <td>5</td>\n",
              "      <td>FIFA World Cup qualification</td>\n",
              "      <td>San Cristóbal</td>\n",
              "      <td>Venezuela</td>\n",
              "      <td>False</td>\n",
              "      <td>1993</td>\n",
              "      <td>8</td>\n",
              "      <td>1</td>\n",
              "      <td>8</td>\n",
              "      <td>Brazil</td>\n",
              "      <td>BRA</td>\n",
              "      <td>0.00</td>\n",
              "      <td>55</td>\n",
              "      <td>-5</td>\n",
              "      <td>0.00</td>\n",
              "      <td>0.00</td>\n",
              "      <td>0.00</td>\n",
              "      <td>0.00</td>\n",
              "      <td>0.00</td>\n",
              "      <td>0.00</td>\n",
              "      <td>0.00</td>\n",
              "      <td>0.00</td>\n",
              "      <td>CONMEBOL</td>\n",
              "      <td>1993-08-08</td>\n",
              "      <td>8</td>\n",
              "    </tr>\n",
              "    <tr>\n",
              "      <th>10</th>\n",
              "      <td>1993-08-07</td>\n",
              "      <td>Senegal</td>\n",
              "      <td>Zambia</td>\n",
              "      <td>0</td>\n",
              "      <td>0</td>\n",
              "      <td>FIFA World Cup qualification</td>\n",
              "      <td>Abidjan</td>\n",
              "      <td>Ivory Coast</td>\n",
              "      <td>True</td>\n",
              "      <td>1993</td>\n",
              "      <td>8</td>\n",
              "      <td>7</td>\n",
              "      <td>25</td>\n",
              "      <td>Zambia</td>\n",
              "      <td>ZAM</td>\n",
              "      <td>0.00</td>\n",
              "      <td>38</td>\n",
              "      <td>7</td>\n",
              "      <td>0.00</td>\n",
              "      <td>0.00</td>\n",
              "      <td>0.00</td>\n",
              "      <td>0.00</td>\n",
              "      <td>0.00</td>\n",
              "      <td>0.00</td>\n",
              "      <td>0.00</td>\n",
              "      <td>0.00</td>\n",
              "      <td>African</td>\n",
              "      <td>1993-08-08</td>\n",
              "      <td>8</td>\n",
              "    </tr>\n",
              "    <tr>\n",
              "      <th>...</th>\n",
              "      <td>...</td>\n",
              "      <td>...</td>\n",
              "      <td>...</td>\n",
              "      <td>...</td>\n",
              "      <td>...</td>\n",
              "      <td>...</td>\n",
              "      <td>...</td>\n",
              "      <td>...</td>\n",
              "      <td>...</td>\n",
              "      <td>...</td>\n",
              "      <td>...</td>\n",
              "      <td>...</td>\n",
              "      <td>...</td>\n",
              "      <td>...</td>\n",
              "      <td>...</td>\n",
              "      <td>...</td>\n",
              "      <td>...</td>\n",
              "      <td>...</td>\n",
              "      <td>...</td>\n",
              "      <td>...</td>\n",
              "      <td>...</td>\n",
              "      <td>...</td>\n",
              "      <td>...</td>\n",
              "      <td>...</td>\n",
              "      <td>...</td>\n",
              "      <td>...</td>\n",
              "      <td>...</td>\n",
              "      <td>...</td>\n",
              "      <td>...</td>\n",
              "    </tr>\n",
              "    <tr>\n",
              "      <th>18474</th>\n",
              "      <td>2018-06-05</td>\n",
              "      <td>Kazakhstan</td>\n",
              "      <td>Azerbaijan</td>\n",
              "      <td>3</td>\n",
              "      <td>0</td>\n",
              "      <td>Friendly</td>\n",
              "      <td>Astana</td>\n",
              "      <td>Kazakhstan</td>\n",
              "      <td>False</td>\n",
              "      <td>2018</td>\n",
              "      <td>6</td>\n",
              "      <td>5</td>\n",
              "      <td>105</td>\n",
              "      <td>Azerbaijan</td>\n",
              "      <td>AZE</td>\n",
              "      <td>321.48</td>\n",
              "      <td>245</td>\n",
              "      <td>21</td>\n",
              "      <td>98.83</td>\n",
              "      <td>98.83</td>\n",
              "      <td>345.00</td>\n",
              "      <td>172.50</td>\n",
              "      <td>121.71</td>\n",
              "      <td>36.51</td>\n",
              "      <td>68.18</td>\n",
              "      <td>13.64</td>\n",
              "      <td>UEFA</td>\n",
              "      <td>2018-06-07</td>\n",
              "      <td>7</td>\n",
              "    </tr>\n",
              "    <tr>\n",
              "      <th>18476</th>\n",
              "      <td>2018-06-05</td>\n",
              "      <td>Lithuania</td>\n",
              "      <td>Latvia</td>\n",
              "      <td>1</td>\n",
              "      <td>1</td>\n",
              "      <td>Friendly</td>\n",
              "      <td>Vilnius</td>\n",
              "      <td>Lithuania</td>\n",
              "      <td>False</td>\n",
              "      <td>2018</td>\n",
              "      <td>6</td>\n",
              "      <td>5</td>\n",
              "      <td>129</td>\n",
              "      <td>Latvia</td>\n",
              "      <td>LVA</td>\n",
              "      <td>230.04</td>\n",
              "      <td>217</td>\n",
              "      <td>10</td>\n",
              "      <td>100.04</td>\n",
              "      <td>100.04</td>\n",
              "      <td>76.37</td>\n",
              "      <td>38.19</td>\n",
              "      <td>145.92</td>\n",
              "      <td>43.77</td>\n",
              "      <td>240.22</td>\n",
              "      <td>48.04</td>\n",
              "      <td>UEFA</td>\n",
              "      <td>2018-06-07</td>\n",
              "      <td>7</td>\n",
              "    </tr>\n",
              "    <tr>\n",
              "      <th>18477</th>\n",
              "      <td>2018-06-06</td>\n",
              "      <td>Norway</td>\n",
              "      <td>Panama</td>\n",
              "      <td>1</td>\n",
              "      <td>0</td>\n",
              "      <td>Friendly</td>\n",
              "      <td>Oslo</td>\n",
              "      <td>Norway</td>\n",
              "      <td>False</td>\n",
              "      <td>2018</td>\n",
              "      <td>6</td>\n",
              "      <td>6</td>\n",
              "      <td>55</td>\n",
              "      <td>Panama</td>\n",
              "      <td>PAN</td>\n",
              "      <td>571.17</td>\n",
              "      <td>574</td>\n",
              "      <td>0</td>\n",
              "      <td>276.92</td>\n",
              "      <td>276.92</td>\n",
              "      <td>309.00</td>\n",
              "      <td>154.50</td>\n",
              "      <td>326.30</td>\n",
              "      <td>97.89</td>\n",
              "      <td>209.29</td>\n",
              "      <td>41.86</td>\n",
              "      <td>CONCACAF</td>\n",
              "      <td>2018-06-07</td>\n",
              "      <td>7</td>\n",
              "    </tr>\n",
              "    <tr>\n",
              "      <th>18480</th>\n",
              "      <td>2018-06-06</td>\n",
              "      <td>Belarus</td>\n",
              "      <td>Hungary</td>\n",
              "      <td>1</td>\n",
              "      <td>1</td>\n",
              "      <td>Friendly</td>\n",
              "      <td>Brest</td>\n",
              "      <td>Belarus</td>\n",
              "      <td>False</td>\n",
              "      <td>2018</td>\n",
              "      <td>6</td>\n",
              "      <td>6</td>\n",
              "      <td>51</td>\n",
              "      <td>Hungary</td>\n",
              "      <td>HUN</td>\n",
              "      <td>611.82</td>\n",
              "      <td>604</td>\n",
              "      <td>-2</td>\n",
              "      <td>199.79</td>\n",
              "      <td>199.79</td>\n",
              "      <td>369.81</td>\n",
              "      <td>184.91</td>\n",
              "      <td>525.07</td>\n",
              "      <td>157.52</td>\n",
              "      <td>348.02</td>\n",
              "      <td>69.60</td>\n",
              "      <td>UEFA</td>\n",
              "      <td>2018-06-07</td>\n",
              "      <td>7</td>\n",
              "    </tr>\n",
              "    <tr>\n",
              "      <th>18481</th>\n",
              "      <td>2018-06-06</td>\n",
              "      <td>Lesotho</td>\n",
              "      <td>Zimbabwe</td>\n",
              "      <td>0</td>\n",
              "      <td>0</td>\n",
              "      <td>COSAFA Cup</td>\n",
              "      <td>Polokwane</td>\n",
              "      <td>South Africa</td>\n",
              "      <td>True</td>\n",
              "      <td>2018</td>\n",
              "      <td>6</td>\n",
              "      <td>6</td>\n",
              "      <td>118</td>\n",
              "      <td>Zimbabwe</td>\n",
              "      <td>ZIM</td>\n",
              "      <td>264.59</td>\n",
              "      <td>287</td>\n",
              "      <td>-5</td>\n",
              "      <td>133.45</td>\n",
              "      <td>133.45</td>\n",
              "      <td>97.54</td>\n",
              "      <td>48.77</td>\n",
              "      <td>232.08</td>\n",
              "      <td>69.62</td>\n",
              "      <td>63.75</td>\n",
              "      <td>12.75</td>\n",
              "      <td>African</td>\n",
              "      <td>2018-06-07</td>\n",
              "      <td>7</td>\n",
              "    </tr>\n",
              "  </tbody>\n",
              "</table>\n",
              "<p>8894 rows × 29 columns</p>\n",
              "</div>"
            ],
            "text/plain": [
              "          date_x   home_team   away_team  ...  confederation     date_y day_y\n",
              "0     1993-08-01    Colombia    Paraguay  ...       CONMEBOL 1993-08-08     8\n",
              "2     1993-08-01        Peru   Argentina  ...       CONMEBOL 1993-08-08     8\n",
              "5     1993-08-01     Uruguay     Ecuador  ...       CONMEBOL 1993-08-08     8\n",
              "8     1993-08-01   Venezuela      Brazil  ...       CONMEBOL 1993-08-08     8\n",
              "10    1993-08-07     Senegal      Zambia  ...        African 1993-08-08     8\n",
              "...          ...         ...         ...  ...            ...        ...   ...\n",
              "18474 2018-06-05  Kazakhstan  Azerbaijan  ...           UEFA 2018-06-07     7\n",
              "18476 2018-06-05   Lithuania      Latvia  ...           UEFA 2018-06-07     7\n",
              "18477 2018-06-06      Norway      Panama  ...       CONCACAF 2018-06-07     7\n",
              "18480 2018-06-06     Belarus     Hungary  ...           UEFA 2018-06-07     7\n",
              "18481 2018-06-06     Lesotho    Zimbabwe  ...        African 2018-06-07     7\n",
              "\n",
              "[8894 rows x 29 columns]"
            ]
          },
          "metadata": {
            "tags": []
          },
          "execution_count": 652
        }
      ]
    },
    {
      "cell_type": "code",
      "metadata": {
        "id": "oG_xp9kLRytn",
        "outputId": "6ecb4b12-d43f-48f4-ca41-32579551fb62",
        "colab": {
          "base_uri": "https://localhost:8080/",
          "height": 0
        }
      },
      "source": [
        "away_rank = df2[['away_team','rank','rank_change','total_points','date_x']]\n",
        "away_rank"
      ],
      "execution_count": 653,
      "outputs": [
        {
          "output_type": "execute_result",
          "data": {
            "text/html": [
              "<div>\n",
              "<style scoped>\n",
              "    .dataframe tbody tr th:only-of-type {\n",
              "        vertical-align: middle;\n",
              "    }\n",
              "\n",
              "    .dataframe tbody tr th {\n",
              "        vertical-align: top;\n",
              "    }\n",
              "\n",
              "    .dataframe thead th {\n",
              "        text-align: right;\n",
              "    }\n",
              "</style>\n",
              "<table border=\"1\" class=\"dataframe\">\n",
              "  <thead>\n",
              "    <tr style=\"text-align: right;\">\n",
              "      <th></th>\n",
              "      <th>away_team</th>\n",
              "      <th>rank</th>\n",
              "      <th>rank_change</th>\n",
              "      <th>total_points</th>\n",
              "      <th>date_x</th>\n",
              "    </tr>\n",
              "  </thead>\n",
              "  <tbody>\n",
              "    <tr>\n",
              "      <th>0</th>\n",
              "      <td>Paraguay</td>\n",
              "      <td>67</td>\n",
              "      <td>1</td>\n",
              "      <td>0.00</td>\n",
              "      <td>1993-08-01</td>\n",
              "    </tr>\n",
              "    <tr>\n",
              "      <th>2</th>\n",
              "      <td>Argentina</td>\n",
              "      <td>5</td>\n",
              "      <td>5</td>\n",
              "      <td>0.00</td>\n",
              "      <td>1993-08-01</td>\n",
              "    </tr>\n",
              "    <tr>\n",
              "      <th>5</th>\n",
              "      <td>Ecuador</td>\n",
              "      <td>35</td>\n",
              "      <td>30</td>\n",
              "      <td>0.00</td>\n",
              "      <td>1993-08-01</td>\n",
              "    </tr>\n",
              "    <tr>\n",
              "      <th>8</th>\n",
              "      <td>Brazil</td>\n",
              "      <td>8</td>\n",
              "      <td>-5</td>\n",
              "      <td>0.00</td>\n",
              "      <td>1993-08-01</td>\n",
              "    </tr>\n",
              "    <tr>\n",
              "      <th>10</th>\n",
              "      <td>Zambia</td>\n",
              "      <td>25</td>\n",
              "      <td>7</td>\n",
              "      <td>0.00</td>\n",
              "      <td>1993-08-07</td>\n",
              "    </tr>\n",
              "    <tr>\n",
              "      <th>...</th>\n",
              "      <td>...</td>\n",
              "      <td>...</td>\n",
              "      <td>...</td>\n",
              "      <td>...</td>\n",
              "      <td>...</td>\n",
              "    </tr>\n",
              "    <tr>\n",
              "      <th>18474</th>\n",
              "      <td>Azerbaijan</td>\n",
              "      <td>105</td>\n",
              "      <td>21</td>\n",
              "      <td>321.48</td>\n",
              "      <td>2018-06-05</td>\n",
              "    </tr>\n",
              "    <tr>\n",
              "      <th>18476</th>\n",
              "      <td>Latvia</td>\n",
              "      <td>129</td>\n",
              "      <td>10</td>\n",
              "      <td>230.04</td>\n",
              "      <td>2018-06-05</td>\n",
              "    </tr>\n",
              "    <tr>\n",
              "      <th>18477</th>\n",
              "      <td>Panama</td>\n",
              "      <td>55</td>\n",
              "      <td>0</td>\n",
              "      <td>571.17</td>\n",
              "      <td>2018-06-06</td>\n",
              "    </tr>\n",
              "    <tr>\n",
              "      <th>18480</th>\n",
              "      <td>Hungary</td>\n",
              "      <td>51</td>\n",
              "      <td>-2</td>\n",
              "      <td>611.82</td>\n",
              "      <td>2018-06-06</td>\n",
              "    </tr>\n",
              "    <tr>\n",
              "      <th>18481</th>\n",
              "      <td>Zimbabwe</td>\n",
              "      <td>118</td>\n",
              "      <td>-5</td>\n",
              "      <td>264.59</td>\n",
              "      <td>2018-06-06</td>\n",
              "    </tr>\n",
              "  </tbody>\n",
              "</table>\n",
              "<p>8894 rows × 5 columns</p>\n",
              "</div>"
            ],
            "text/plain": [
              "        away_team  rank  rank_change  total_points     date_x\n",
              "0        Paraguay    67            1          0.00 1993-08-01\n",
              "2       Argentina     5            5          0.00 1993-08-01\n",
              "5         Ecuador    35           30          0.00 1993-08-01\n",
              "8          Brazil     8           -5          0.00 1993-08-01\n",
              "10         Zambia    25            7          0.00 1993-08-07\n",
              "...           ...   ...          ...           ...        ...\n",
              "18474  Azerbaijan   105           21        321.48 2018-06-05\n",
              "18476      Latvia   129           10        230.04 2018-06-05\n",
              "18477      Panama    55            0        571.17 2018-06-06\n",
              "18480     Hungary    51           -2        611.82 2018-06-06\n",
              "18481    Zimbabwe   118           -5        264.59 2018-06-06\n",
              "\n",
              "[8894 rows x 5 columns]"
            ]
          },
          "metadata": {
            "tags": []
          },
          "execution_count": 653
        }
      ]
    },
    {
      "cell_type": "code",
      "metadata": {
        "id": "5dydS96ldRUZ",
        "outputId": "759f7882-b145-4531-e857-3109c9ffcb78",
        "colab": {
          "base_uri": "https://localhost:8080/"
        }
      },
      "source": [
        "df2.shape"
      ],
      "execution_count": 654,
      "outputs": [
        {
          "output_type": "execute_result",
          "data": {
            "text/plain": [
              "(8894, 29)"
            ]
          },
          "metadata": {
            "tags": []
          },
          "execution_count": 654
        }
      ]
    },
    {
      "cell_type": "code",
      "metadata": {
        "id": "7S-54ohvSHud",
        "outputId": "a680416c-e684-436c-9bfb-32f8fca875e3",
        "colab": {
          "base_uri": "https://localhost:8080/",
          "height": 0
        }
      },
      "source": [
        "dataset = df.merge(away_rank,how='inner',left_on=['date_x','away_team'],right_on=['date_x','away_team'])\n",
        "dataset"
      ],
      "execution_count": 655,
      "outputs": [
        {
          "output_type": "execute_result",
          "data": {
            "text/html": [
              "<div>\n",
              "<style scoped>\n",
              "    .dataframe tbody tr th:only-of-type {\n",
              "        vertical-align: middle;\n",
              "    }\n",
              "\n",
              "    .dataframe tbody tr th {\n",
              "        vertical-align: top;\n",
              "    }\n",
              "\n",
              "    .dataframe thead th {\n",
              "        text-align: right;\n",
              "    }\n",
              "</style>\n",
              "<table border=\"1\" class=\"dataframe\">\n",
              "  <thead>\n",
              "    <tr style=\"text-align: right;\">\n",
              "      <th></th>\n",
              "      <th>date_x</th>\n",
              "      <th>home_team</th>\n",
              "      <th>away_team</th>\n",
              "      <th>home_score</th>\n",
              "      <th>away_score</th>\n",
              "      <th>tournament</th>\n",
              "      <th>city</th>\n",
              "      <th>country_x</th>\n",
              "      <th>neutral</th>\n",
              "      <th>year</th>\n",
              "      <th>month</th>\n",
              "      <th>day_x</th>\n",
              "      <th>rank_x</th>\n",
              "      <th>country_y</th>\n",
              "      <th>country_abrv</th>\n",
              "      <th>total_points_x</th>\n",
              "      <th>previous_points</th>\n",
              "      <th>rank_change_x</th>\n",
              "      <th>cur_year_avg</th>\n",
              "      <th>cur_year_avg_weighted</th>\n",
              "      <th>last_year_avg</th>\n",
              "      <th>last_year_avg_weighted</th>\n",
              "      <th>two_year_ago_avg</th>\n",
              "      <th>two_year_ago_weighted</th>\n",
              "      <th>three_year_ago_avg</th>\n",
              "      <th>three_year_ago_weighted</th>\n",
              "      <th>confederation</th>\n",
              "      <th>date_y</th>\n",
              "      <th>day_y</th>\n",
              "      <th>rank_y</th>\n",
              "      <th>rank_change_y</th>\n",
              "      <th>total_points_y</th>\n",
              "    </tr>\n",
              "  </thead>\n",
              "  <tbody>\n",
              "    <tr>\n",
              "      <th>0</th>\n",
              "      <td>1993-08-01</td>\n",
              "      <td>Colombia</td>\n",
              "      <td>Paraguay</td>\n",
              "      <td>0</td>\n",
              "      <td>0</td>\n",
              "      <td>FIFA World Cup qualification</td>\n",
              "      <td>Barranquilla</td>\n",
              "      <td>Colombia</td>\n",
              "      <td>False</td>\n",
              "      <td>1993</td>\n",
              "      <td>8</td>\n",
              "      <td>1</td>\n",
              "      <td>19</td>\n",
              "      <td>Colombia</td>\n",
              "      <td>COL</td>\n",
              "      <td>0.00</td>\n",
              "      <td>36</td>\n",
              "      <td>16</td>\n",
              "      <td>0.00</td>\n",
              "      <td>0.00</td>\n",
              "      <td>0.00</td>\n",
              "      <td>0.00</td>\n",
              "      <td>0.00</td>\n",
              "      <td>0.00</td>\n",
              "      <td>0.00</td>\n",
              "      <td>0.00</td>\n",
              "      <td>CONMEBOL</td>\n",
              "      <td>1993-08-08</td>\n",
              "      <td>8</td>\n",
              "      <td>67</td>\n",
              "      <td>1</td>\n",
              "      <td>0.00</td>\n",
              "    </tr>\n",
              "    <tr>\n",
              "      <th>1</th>\n",
              "      <td>1993-08-01</td>\n",
              "      <td>Peru</td>\n",
              "      <td>Argentina</td>\n",
              "      <td>0</td>\n",
              "      <td>1</td>\n",
              "      <td>FIFA World Cup qualification</td>\n",
              "      <td>Lima</td>\n",
              "      <td>Peru</td>\n",
              "      <td>False</td>\n",
              "      <td>1993</td>\n",
              "      <td>8</td>\n",
              "      <td>1</td>\n",
              "      <td>70</td>\n",
              "      <td>Peru</td>\n",
              "      <td>PER</td>\n",
              "      <td>0.00</td>\n",
              "      <td>16</td>\n",
              "      <td>8</td>\n",
              "      <td>0.00</td>\n",
              "      <td>0.00</td>\n",
              "      <td>0.00</td>\n",
              "      <td>0.00</td>\n",
              "      <td>0.00</td>\n",
              "      <td>0.00</td>\n",
              "      <td>0.00</td>\n",
              "      <td>0.00</td>\n",
              "      <td>CONMEBOL</td>\n",
              "      <td>1993-08-08</td>\n",
              "      <td>8</td>\n",
              "      <td>5</td>\n",
              "      <td>5</td>\n",
              "      <td>0.00</td>\n",
              "    </tr>\n",
              "    <tr>\n",
              "      <th>2</th>\n",
              "      <td>1993-08-01</td>\n",
              "      <td>Uruguay</td>\n",
              "      <td>Ecuador</td>\n",
              "      <td>0</td>\n",
              "      <td>0</td>\n",
              "      <td>FIFA World Cup qualification</td>\n",
              "      <td>Montevideo</td>\n",
              "      <td>Uruguay</td>\n",
              "      <td>False</td>\n",
              "      <td>1993</td>\n",
              "      <td>8</td>\n",
              "      <td>1</td>\n",
              "      <td>22</td>\n",
              "      <td>Uruguay</td>\n",
              "      <td>URU</td>\n",
              "      <td>0.00</td>\n",
              "      <td>47</td>\n",
              "      <td>-6</td>\n",
              "      <td>0.00</td>\n",
              "      <td>0.00</td>\n",
              "      <td>0.00</td>\n",
              "      <td>0.00</td>\n",
              "      <td>0.00</td>\n",
              "      <td>0.00</td>\n",
              "      <td>0.00</td>\n",
              "      <td>0.00</td>\n",
              "      <td>CONMEBOL</td>\n",
              "      <td>1993-08-08</td>\n",
              "      <td>8</td>\n",
              "      <td>35</td>\n",
              "      <td>30</td>\n",
              "      <td>0.00</td>\n",
              "    </tr>\n",
              "    <tr>\n",
              "      <th>3</th>\n",
              "      <td>1993-08-01</td>\n",
              "      <td>Venezuela</td>\n",
              "      <td>Brazil</td>\n",
              "      <td>1</td>\n",
              "      <td>5</td>\n",
              "      <td>FIFA World Cup qualification</td>\n",
              "      <td>San Cristóbal</td>\n",
              "      <td>Venezuela</td>\n",
              "      <td>False</td>\n",
              "      <td>1993</td>\n",
              "      <td>8</td>\n",
              "      <td>1</td>\n",
              "      <td>94</td>\n",
              "      <td>Venezuela</td>\n",
              "      <td>VEN</td>\n",
              "      <td>0.00</td>\n",
              "      <td>4</td>\n",
              "      <td>31</td>\n",
              "      <td>0.00</td>\n",
              "      <td>0.00</td>\n",
              "      <td>0.00</td>\n",
              "      <td>0.00</td>\n",
              "      <td>0.00</td>\n",
              "      <td>0.00</td>\n",
              "      <td>0.00</td>\n",
              "      <td>0.00</td>\n",
              "      <td>CONMEBOL</td>\n",
              "      <td>1993-08-08</td>\n",
              "      <td>8</td>\n",
              "      <td>8</td>\n",
              "      <td>-5</td>\n",
              "      <td>0.00</td>\n",
              "    </tr>\n",
              "    <tr>\n",
              "      <th>4</th>\n",
              "      <td>1993-08-07</td>\n",
              "      <td>Senegal</td>\n",
              "      <td>Zambia</td>\n",
              "      <td>0</td>\n",
              "      <td>0</td>\n",
              "      <td>FIFA World Cup qualification</td>\n",
              "      <td>Abidjan</td>\n",
              "      <td>Ivory Coast</td>\n",
              "      <td>True</td>\n",
              "      <td>1993</td>\n",
              "      <td>8</td>\n",
              "      <td>7</td>\n",
              "      <td>58</td>\n",
              "      <td>Senegal</td>\n",
              "      <td>SEN</td>\n",
              "      <td>0.00</td>\n",
              "      <td>27</td>\n",
              "      <td>-7</td>\n",
              "      <td>0.00</td>\n",
              "      <td>0.00</td>\n",
              "      <td>0.00</td>\n",
              "      <td>0.00</td>\n",
              "      <td>0.00</td>\n",
              "      <td>0.00</td>\n",
              "      <td>0.00</td>\n",
              "      <td>0.00</td>\n",
              "      <td>African</td>\n",
              "      <td>1993-08-08</td>\n",
              "      <td>8</td>\n",
              "      <td>25</td>\n",
              "      <td>7</td>\n",
              "      <td>0.00</td>\n",
              "    </tr>\n",
              "    <tr>\n",
              "      <th>...</th>\n",
              "      <td>...</td>\n",
              "      <td>...</td>\n",
              "      <td>...</td>\n",
              "      <td>...</td>\n",
              "      <td>...</td>\n",
              "      <td>...</td>\n",
              "      <td>...</td>\n",
              "      <td>...</td>\n",
              "      <td>...</td>\n",
              "      <td>...</td>\n",
              "      <td>...</td>\n",
              "      <td>...</td>\n",
              "      <td>...</td>\n",
              "      <td>...</td>\n",
              "      <td>...</td>\n",
              "      <td>...</td>\n",
              "      <td>...</td>\n",
              "      <td>...</td>\n",
              "      <td>...</td>\n",
              "      <td>...</td>\n",
              "      <td>...</td>\n",
              "      <td>...</td>\n",
              "      <td>...</td>\n",
              "      <td>...</td>\n",
              "      <td>...</td>\n",
              "      <td>...</td>\n",
              "      <td>...</td>\n",
              "      <td>...</td>\n",
              "      <td>...</td>\n",
              "      <td>...</td>\n",
              "      <td>...</td>\n",
              "      <td>...</td>\n",
              "    </tr>\n",
              "    <tr>\n",
              "      <th>8149</th>\n",
              "      <td>2018-06-05</td>\n",
              "      <td>Kazakhstan</td>\n",
              "      <td>Azerbaijan</td>\n",
              "      <td>3</td>\n",
              "      <td>0</td>\n",
              "      <td>Friendly</td>\n",
              "      <td>Astana</td>\n",
              "      <td>Kazakhstan</td>\n",
              "      <td>False</td>\n",
              "      <td>2018</td>\n",
              "      <td>6</td>\n",
              "      <td>5</td>\n",
              "      <td>117</td>\n",
              "      <td>Kazakhstan</td>\n",
              "      <td>KAZ</td>\n",
              "      <td>272.85</td>\n",
              "      <td>273</td>\n",
              "      <td>0</td>\n",
              "      <td>105.01</td>\n",
              "      <td>105.01</td>\n",
              "      <td>171.38</td>\n",
              "      <td>85.69</td>\n",
              "      <td>213.84</td>\n",
              "      <td>64.15</td>\n",
              "      <td>89.97</td>\n",
              "      <td>17.99</td>\n",
              "      <td>UEFA</td>\n",
              "      <td>2018-06-07</td>\n",
              "      <td>7</td>\n",
              "      <td>105</td>\n",
              "      <td>21</td>\n",
              "      <td>321.48</td>\n",
              "    </tr>\n",
              "    <tr>\n",
              "      <th>8150</th>\n",
              "      <td>2018-06-05</td>\n",
              "      <td>Lithuania</td>\n",
              "      <td>Latvia</td>\n",
              "      <td>1</td>\n",
              "      <td>1</td>\n",
              "      <td>Friendly</td>\n",
              "      <td>Vilnius</td>\n",
              "      <td>Lithuania</td>\n",
              "      <td>False</td>\n",
              "      <td>2018</td>\n",
              "      <td>6</td>\n",
              "      <td>5</td>\n",
              "      <td>126</td>\n",
              "      <td>Lithuania</td>\n",
              "      <td>LTU</td>\n",
              "      <td>239.38</td>\n",
              "      <td>229</td>\n",
              "      <td>7</td>\n",
              "      <td>55.94</td>\n",
              "      <td>55.94</td>\n",
              "      <td>221.27</td>\n",
              "      <td>110.63</td>\n",
              "      <td>112.86</td>\n",
              "      <td>33.86</td>\n",
              "      <td>194.78</td>\n",
              "      <td>38.96</td>\n",
              "      <td>UEFA</td>\n",
              "      <td>2018-06-07</td>\n",
              "      <td>7</td>\n",
              "      <td>129</td>\n",
              "      <td>10</td>\n",
              "      <td>230.04</td>\n",
              "    </tr>\n",
              "    <tr>\n",
              "      <th>8151</th>\n",
              "      <td>2018-06-05</td>\n",
              "      <td>Chinese Taipei</td>\n",
              "      <td>New Zealand</td>\n",
              "      <td>0</td>\n",
              "      <td>1</td>\n",
              "      <td>Intercontinental Cup</td>\n",
              "      <td>Mumbai</td>\n",
              "      <td>India</td>\n",
              "      <td>True</td>\n",
              "      <td>2018</td>\n",
              "      <td>6</td>\n",
              "      <td>5</td>\n",
              "      <td>123</td>\n",
              "      <td>Chinese Taipei</td>\n",
              "      <td>TPE</td>\n",
              "      <td>246.74</td>\n",
              "      <td>263</td>\n",
              "      <td>-2</td>\n",
              "      <td>175.19</td>\n",
              "      <td>175.19</td>\n",
              "      <td>107.44</td>\n",
              "      <td>53.72</td>\n",
              "      <td>29.22</td>\n",
              "      <td>8.77</td>\n",
              "      <td>45.37</td>\n",
              "      <td>9.07</td>\n",
              "      <td>AFC</td>\n",
              "      <td>2018-06-07</td>\n",
              "      <td>7</td>\n",
              "      <td>120</td>\n",
              "      <td>13</td>\n",
              "      <td>255.78</td>\n",
              "    </tr>\n",
              "    <tr>\n",
              "      <th>8152</th>\n",
              "      <td>2018-06-06</td>\n",
              "      <td>Norway</td>\n",
              "      <td>Panama</td>\n",
              "      <td>1</td>\n",
              "      <td>0</td>\n",
              "      <td>Friendly</td>\n",
              "      <td>Oslo</td>\n",
              "      <td>Norway</td>\n",
              "      <td>False</td>\n",
              "      <td>2018</td>\n",
              "      <td>6</td>\n",
              "      <td>6</td>\n",
              "      <td>53</td>\n",
              "      <td>Norway</td>\n",
              "      <td>NOR</td>\n",
              "      <td>595.99</td>\n",
              "      <td>608</td>\n",
              "      <td>-5</td>\n",
              "      <td>414.26</td>\n",
              "      <td>414.26</td>\n",
              "      <td>61.88</td>\n",
              "      <td>30.94</td>\n",
              "      <td>320.27</td>\n",
              "      <td>96.08</td>\n",
              "      <td>273.54</td>\n",
              "      <td>54.71</td>\n",
              "      <td>UEFA</td>\n",
              "      <td>2018-06-07</td>\n",
              "      <td>7</td>\n",
              "      <td>55</td>\n",
              "      <td>0</td>\n",
              "      <td>571.17</td>\n",
              "    </tr>\n",
              "    <tr>\n",
              "      <th>8153</th>\n",
              "      <td>2018-06-06</td>\n",
              "      <td>Belarus</td>\n",
              "      <td>Hungary</td>\n",
              "      <td>1</td>\n",
              "      <td>1</td>\n",
              "      <td>Friendly</td>\n",
              "      <td>Brest</td>\n",
              "      <td>Belarus</td>\n",
              "      <td>False</td>\n",
              "      <td>2018</td>\n",
              "      <td>6</td>\n",
              "      <td>6</td>\n",
              "      <td>78</td>\n",
              "      <td>Belarus</td>\n",
              "      <td>BLR</td>\n",
              "      <td>417.42</td>\n",
              "      <td>410</td>\n",
              "      <td>1</td>\n",
              "      <td>204.80</td>\n",
              "      <td>204.80</td>\n",
              "      <td>169.84</td>\n",
              "      <td>84.92</td>\n",
              "      <td>294.64</td>\n",
              "      <td>88.39</td>\n",
              "      <td>196.50</td>\n",
              "      <td>39.30</td>\n",
              "      <td>UEFA</td>\n",
              "      <td>2018-06-07</td>\n",
              "      <td>7</td>\n",
              "      <td>51</td>\n",
              "      <td>-2</td>\n",
              "      <td>611.82</td>\n",
              "    </tr>\n",
              "  </tbody>\n",
              "</table>\n",
              "<p>8154 rows × 32 columns</p>\n",
              "</div>"
            ],
            "text/plain": [
              "         date_x       home_team  ... rank_change_y  total_points_y\n",
              "0    1993-08-01        Colombia  ...             1            0.00\n",
              "1    1993-08-01            Peru  ...             5            0.00\n",
              "2    1993-08-01         Uruguay  ...            30            0.00\n",
              "3    1993-08-01       Venezuela  ...            -5            0.00\n",
              "4    1993-08-07         Senegal  ...             7            0.00\n",
              "...         ...             ...  ...           ...             ...\n",
              "8149 2018-06-05      Kazakhstan  ...            21          321.48\n",
              "8150 2018-06-05       Lithuania  ...            10          230.04\n",
              "8151 2018-06-05  Chinese Taipei  ...            13          255.78\n",
              "8152 2018-06-06          Norway  ...             0          571.17\n",
              "8153 2018-06-06         Belarus  ...            -2          611.82\n",
              "\n",
              "[8154 rows x 32 columns]"
            ]
          },
          "metadata": {
            "tags": []
          },
          "execution_count": 655
        }
      ]
    },
    {
      "cell_type": "markdown",
      "metadata": {
        "id": "SDYzmIURMuxM"
      },
      "source": [
        "## 1.3.Data Cleaning"
      ]
    },
    {
      "cell_type": "markdown",
      "metadata": {
        "id": "scC9lGe4N9w0"
      },
      "source": [
        "I opted to carryout cleaning in a stepwise manner ensuring I was extensive and thorough."
      ]
    },
    {
      "cell_type": "code",
      "metadata": {
        "id": "Kbp-4FAQOsrO",
        "outputId": "a0e7f0bd-f52e-49ba-fc92-7f0012bf1e2c",
        "colab": {
          "base_uri": "https://localhost:8080/",
          "height": 0
        }
      },
      "source": [
        "dataset.head()"
      ],
      "execution_count": 656,
      "outputs": [
        {
          "output_type": "execute_result",
          "data": {
            "text/html": [
              "<div>\n",
              "<style scoped>\n",
              "    .dataframe tbody tr th:only-of-type {\n",
              "        vertical-align: middle;\n",
              "    }\n",
              "\n",
              "    .dataframe tbody tr th {\n",
              "        vertical-align: top;\n",
              "    }\n",
              "\n",
              "    .dataframe thead th {\n",
              "        text-align: right;\n",
              "    }\n",
              "</style>\n",
              "<table border=\"1\" class=\"dataframe\">\n",
              "  <thead>\n",
              "    <tr style=\"text-align: right;\">\n",
              "      <th></th>\n",
              "      <th>date_x</th>\n",
              "      <th>home_team</th>\n",
              "      <th>away_team</th>\n",
              "      <th>home_score</th>\n",
              "      <th>away_score</th>\n",
              "      <th>tournament</th>\n",
              "      <th>city</th>\n",
              "      <th>country_x</th>\n",
              "      <th>neutral</th>\n",
              "      <th>year</th>\n",
              "      <th>month</th>\n",
              "      <th>day_x</th>\n",
              "      <th>rank_x</th>\n",
              "      <th>country_y</th>\n",
              "      <th>country_abrv</th>\n",
              "      <th>total_points_x</th>\n",
              "      <th>previous_points</th>\n",
              "      <th>rank_change_x</th>\n",
              "      <th>cur_year_avg</th>\n",
              "      <th>cur_year_avg_weighted</th>\n",
              "      <th>last_year_avg</th>\n",
              "      <th>last_year_avg_weighted</th>\n",
              "      <th>two_year_ago_avg</th>\n",
              "      <th>two_year_ago_weighted</th>\n",
              "      <th>three_year_ago_avg</th>\n",
              "      <th>three_year_ago_weighted</th>\n",
              "      <th>confederation</th>\n",
              "      <th>date_y</th>\n",
              "      <th>day_y</th>\n",
              "      <th>rank_y</th>\n",
              "      <th>rank_change_y</th>\n",
              "      <th>total_points_y</th>\n",
              "    </tr>\n",
              "  </thead>\n",
              "  <tbody>\n",
              "    <tr>\n",
              "      <th>0</th>\n",
              "      <td>1993-08-01</td>\n",
              "      <td>Colombia</td>\n",
              "      <td>Paraguay</td>\n",
              "      <td>0</td>\n",
              "      <td>0</td>\n",
              "      <td>FIFA World Cup qualification</td>\n",
              "      <td>Barranquilla</td>\n",
              "      <td>Colombia</td>\n",
              "      <td>False</td>\n",
              "      <td>1993</td>\n",
              "      <td>8</td>\n",
              "      <td>1</td>\n",
              "      <td>19</td>\n",
              "      <td>Colombia</td>\n",
              "      <td>COL</td>\n",
              "      <td>0.0</td>\n",
              "      <td>36</td>\n",
              "      <td>16</td>\n",
              "      <td>0.0</td>\n",
              "      <td>0.0</td>\n",
              "      <td>0.0</td>\n",
              "      <td>0.0</td>\n",
              "      <td>0.0</td>\n",
              "      <td>0.0</td>\n",
              "      <td>0.0</td>\n",
              "      <td>0.0</td>\n",
              "      <td>CONMEBOL</td>\n",
              "      <td>1993-08-08</td>\n",
              "      <td>8</td>\n",
              "      <td>67</td>\n",
              "      <td>1</td>\n",
              "      <td>0.0</td>\n",
              "    </tr>\n",
              "    <tr>\n",
              "      <th>1</th>\n",
              "      <td>1993-08-01</td>\n",
              "      <td>Peru</td>\n",
              "      <td>Argentina</td>\n",
              "      <td>0</td>\n",
              "      <td>1</td>\n",
              "      <td>FIFA World Cup qualification</td>\n",
              "      <td>Lima</td>\n",
              "      <td>Peru</td>\n",
              "      <td>False</td>\n",
              "      <td>1993</td>\n",
              "      <td>8</td>\n",
              "      <td>1</td>\n",
              "      <td>70</td>\n",
              "      <td>Peru</td>\n",
              "      <td>PER</td>\n",
              "      <td>0.0</td>\n",
              "      <td>16</td>\n",
              "      <td>8</td>\n",
              "      <td>0.0</td>\n",
              "      <td>0.0</td>\n",
              "      <td>0.0</td>\n",
              "      <td>0.0</td>\n",
              "      <td>0.0</td>\n",
              "      <td>0.0</td>\n",
              "      <td>0.0</td>\n",
              "      <td>0.0</td>\n",
              "      <td>CONMEBOL</td>\n",
              "      <td>1993-08-08</td>\n",
              "      <td>8</td>\n",
              "      <td>5</td>\n",
              "      <td>5</td>\n",
              "      <td>0.0</td>\n",
              "    </tr>\n",
              "    <tr>\n",
              "      <th>2</th>\n",
              "      <td>1993-08-01</td>\n",
              "      <td>Uruguay</td>\n",
              "      <td>Ecuador</td>\n",
              "      <td>0</td>\n",
              "      <td>0</td>\n",
              "      <td>FIFA World Cup qualification</td>\n",
              "      <td>Montevideo</td>\n",
              "      <td>Uruguay</td>\n",
              "      <td>False</td>\n",
              "      <td>1993</td>\n",
              "      <td>8</td>\n",
              "      <td>1</td>\n",
              "      <td>22</td>\n",
              "      <td>Uruguay</td>\n",
              "      <td>URU</td>\n",
              "      <td>0.0</td>\n",
              "      <td>47</td>\n",
              "      <td>-6</td>\n",
              "      <td>0.0</td>\n",
              "      <td>0.0</td>\n",
              "      <td>0.0</td>\n",
              "      <td>0.0</td>\n",
              "      <td>0.0</td>\n",
              "      <td>0.0</td>\n",
              "      <td>0.0</td>\n",
              "      <td>0.0</td>\n",
              "      <td>CONMEBOL</td>\n",
              "      <td>1993-08-08</td>\n",
              "      <td>8</td>\n",
              "      <td>35</td>\n",
              "      <td>30</td>\n",
              "      <td>0.0</td>\n",
              "    </tr>\n",
              "    <tr>\n",
              "      <th>3</th>\n",
              "      <td>1993-08-01</td>\n",
              "      <td>Venezuela</td>\n",
              "      <td>Brazil</td>\n",
              "      <td>1</td>\n",
              "      <td>5</td>\n",
              "      <td>FIFA World Cup qualification</td>\n",
              "      <td>San Cristóbal</td>\n",
              "      <td>Venezuela</td>\n",
              "      <td>False</td>\n",
              "      <td>1993</td>\n",
              "      <td>8</td>\n",
              "      <td>1</td>\n",
              "      <td>94</td>\n",
              "      <td>Venezuela</td>\n",
              "      <td>VEN</td>\n",
              "      <td>0.0</td>\n",
              "      <td>4</td>\n",
              "      <td>31</td>\n",
              "      <td>0.0</td>\n",
              "      <td>0.0</td>\n",
              "      <td>0.0</td>\n",
              "      <td>0.0</td>\n",
              "      <td>0.0</td>\n",
              "      <td>0.0</td>\n",
              "      <td>0.0</td>\n",
              "      <td>0.0</td>\n",
              "      <td>CONMEBOL</td>\n",
              "      <td>1993-08-08</td>\n",
              "      <td>8</td>\n",
              "      <td>8</td>\n",
              "      <td>-5</td>\n",
              "      <td>0.0</td>\n",
              "    </tr>\n",
              "    <tr>\n",
              "      <th>4</th>\n",
              "      <td>1993-08-07</td>\n",
              "      <td>Senegal</td>\n",
              "      <td>Zambia</td>\n",
              "      <td>0</td>\n",
              "      <td>0</td>\n",
              "      <td>FIFA World Cup qualification</td>\n",
              "      <td>Abidjan</td>\n",
              "      <td>Ivory Coast</td>\n",
              "      <td>True</td>\n",
              "      <td>1993</td>\n",
              "      <td>8</td>\n",
              "      <td>7</td>\n",
              "      <td>58</td>\n",
              "      <td>Senegal</td>\n",
              "      <td>SEN</td>\n",
              "      <td>0.0</td>\n",
              "      <td>27</td>\n",
              "      <td>-7</td>\n",
              "      <td>0.0</td>\n",
              "      <td>0.0</td>\n",
              "      <td>0.0</td>\n",
              "      <td>0.0</td>\n",
              "      <td>0.0</td>\n",
              "      <td>0.0</td>\n",
              "      <td>0.0</td>\n",
              "      <td>0.0</td>\n",
              "      <td>African</td>\n",
              "      <td>1993-08-08</td>\n",
              "      <td>8</td>\n",
              "      <td>25</td>\n",
              "      <td>7</td>\n",
              "      <td>0.0</td>\n",
              "    </tr>\n",
              "  </tbody>\n",
              "</table>\n",
              "</div>"
            ],
            "text/plain": [
              "      date_x  home_team  away_team  ...  rank_y  rank_change_y total_points_y\n",
              "0 1993-08-01   Colombia   Paraguay  ...      67              1            0.0\n",
              "1 1993-08-01       Peru  Argentina  ...       5              5            0.0\n",
              "2 1993-08-01    Uruguay    Ecuador  ...      35             30            0.0\n",
              "3 1993-08-01  Venezuela     Brazil  ...       8             -5            0.0\n",
              "4 1993-08-07    Senegal     Zambia  ...      25              7            0.0\n",
              "\n",
              "[5 rows x 32 columns]"
            ]
          },
          "metadata": {
            "tags": []
          },
          "execution_count": 656
        }
      ]
    },
    {
      "cell_type": "code",
      "metadata": {
        "id": "Ri8MCwhYRZNs"
      },
      "source": [
        "dataset.drop(['city','country_y','country_abrv','previous_points','day_x','day_y',\n",
        "              'cur_year_avg',\t'cur_year_avg_weighted',\t'last_year_avg','last_year_avg_weighted',\t'two_year_ago_avg','two_year_ago_weighted','three_year_ago_avg','three_year_ago_weighted',\t'date_y'],axis=1,inplace=True)"
      ],
      "execution_count": 657,
      "outputs": []
    },
    {
      "cell_type": "markdown",
      "metadata": {
        "id": "6yqE-0JDOzDe"
      },
      "source": [
        "#### 1.3.1 Validity\n",
        "\n",
        "I dropped several columns during this stage of my cleaning , most of these columns were unnecessary and some that had come about from the merging process.\n",
        "\n"
      ]
    },
    {
      "cell_type": "code",
      "metadata": {
        "id": "vQSwHQHOVvVv",
        "outputId": "b75e4ccb-c831-460c-b292-18b9f70af10a",
        "colab": {
          "base_uri": "https://localhost:8080/"
        }
      },
      "source": [
        "dataset.shape"
      ],
      "execution_count": 658,
      "outputs": [
        {
          "output_type": "execute_result",
          "data": {
            "text/plain": [
              "(8154, 17)"
            ]
          },
          "metadata": {
            "tags": []
          },
          "execution_count": 658
        }
      ]
    },
    {
      "cell_type": "markdown",
      "metadata": {
        "id": "AbVcU3oDQd7A"
      },
      "source": [
        "#### 1.3.2. Accuracy \n",
        "\n",
        "I opted to scrutinize this part further in the EDA"
      ]
    },
    {
      "cell_type": "markdown",
      "metadata": {
        "id": "4VUmEo4iQwSW"
      },
      "source": [
        "#### 1.3.3. Completeness\n",
        "\n",
        "I checked whether the dataset had null entries , seeing as there were none I moved on to the next step."
      ]
    },
    {
      "cell_type": "code",
      "metadata": {
        "id": "pZDIbgZB1-VY",
        "outputId": "39bb1e2d-c78f-4f0a-a880-7b87daa29687",
        "colab": {
          "base_uri": "https://localhost:8080/"
        }
      },
      "source": [
        "dataset.isnull().sum().sum()"
      ],
      "execution_count": 659,
      "outputs": [
        {
          "output_type": "execute_result",
          "data": {
            "text/plain": [
              "0"
            ]
          },
          "metadata": {
            "tags": []
          },
          "execution_count": 659
        }
      ]
    },
    {
      "cell_type": "markdown",
      "metadata": {
        "id": "zc2CNTQDRD__"
      },
      "source": [
        "#### 1.3.4. Cosistency\n",
        "Having found 29 duplicated entries I dropped these from the dataset and then moved onto the next step of my cleaning."
      ]
    },
    {
      "cell_type": "code",
      "metadata": {
        "id": "oIeA1A3t2GCz",
        "outputId": "541532d6-c9bc-4b2a-e911-f0d380435c29",
        "colab": {
          "base_uri": "https://localhost:8080/"
        }
      },
      "source": [
        "dataset.duplicated().sum()"
      ],
      "execution_count": 660,
      "outputs": [
        {
          "output_type": "execute_result",
          "data": {
            "text/plain": [
              "29"
            ]
          },
          "metadata": {
            "tags": []
          },
          "execution_count": 660
        }
      ]
    },
    {
      "cell_type": "code",
      "metadata": {
        "id": "p8SKZSGg3d2r"
      },
      "source": [
        "dataset.drop_duplicates(inplace=True)"
      ],
      "execution_count": 661,
      "outputs": []
    },
    {
      "cell_type": "code",
      "metadata": {
        "id": "0NqMkv3W3kl3",
        "outputId": "29474bf0-f0ff-4866-ada7-bfab4f6486eb",
        "colab": {
          "base_uri": "https://localhost:8080/"
        }
      },
      "source": [
        "dataset.duplicated().sum()"
      ],
      "execution_count": 662,
      "outputs": [
        {
          "output_type": "execute_result",
          "data": {
            "text/plain": [
              "0"
            ]
          },
          "metadata": {
            "tags": []
          },
          "execution_count": 662
        }
      ]
    },
    {
      "cell_type": "markdown",
      "metadata": {
        "id": "rVnenVxMRWBD"
      },
      "source": [
        "#### 1.3.5. Uniformity \n",
        "\n",
        "Finally I renamed the columns in my dataset in order to make them esier to analyze."
      ]
    },
    {
      "cell_type": "code",
      "metadata": {
        "id": "yunBF-wEmhCk"
      },
      "source": [
        "dataset.rename({'rank_x':'home_team_rank',\n",
        "                'rank_y':'away_team_rank',\n",
        "                'rank_change_x':'rank_change_home',\n",
        "                'rank_change_y':'rank_change_away',\n",
        "                'total_points_y':'total_points_away',\n",
        "                'total_points_x':'total_points_home'},axis=1,inplace=True)"
      ],
      "execution_count": 663,
      "outputs": []
    },
    {
      "cell_type": "code",
      "metadata": {
        "id": "onADf42w-54m",
        "outputId": "69df5efa-f3ea-46b9-e9eb-1bc24638ebe2",
        "colab": {
          "base_uri": "https://localhost:8080/"
        }
      },
      "source": [
        "dataset.info()"
      ],
      "execution_count": 664,
      "outputs": [
        {
          "output_type": "stream",
          "text": [
            "<class 'pandas.core.frame.DataFrame'>\n",
            "Int64Index: 8125 entries, 0 to 8153\n",
            "Data columns (total 17 columns):\n",
            " #   Column             Non-Null Count  Dtype         \n",
            "---  ------             --------------  -----         \n",
            " 0   date_x             8125 non-null   datetime64[ns]\n",
            " 1   home_team          8125 non-null   object        \n",
            " 2   away_team          8125 non-null   object        \n",
            " 3   home_score         8125 non-null   int64         \n",
            " 4   away_score         8125 non-null   int64         \n",
            " 5   tournament         8125 non-null   object        \n",
            " 6   country_x          8125 non-null   object        \n",
            " 7   neutral            8125 non-null   bool          \n",
            " 8   year               8125 non-null   int64         \n",
            " 9   month              8125 non-null   int64         \n",
            " 10  home_team_rank     8125 non-null   int64         \n",
            " 11  total_points_home  8125 non-null   float64       \n",
            " 12  rank_change_home   8125 non-null   int64         \n",
            " 13  confederation      8125 non-null   object        \n",
            " 14  away_team_rank     8125 non-null   int64         \n",
            " 15  rank_change_away   8125 non-null   int64         \n",
            " 16  total_points_away  8125 non-null   float64       \n",
            "dtypes: bool(1), datetime64[ns](1), float64(2), int64(8), object(5)\n",
            "memory usage: 1.1+ MB\n"
          ],
          "name": "stdout"
        }
      ]
    },
    {
      "cell_type": "markdown",
      "metadata": {
        "id": "7mVaD3p6KVj_"
      },
      "source": [
        "I also took the matches played in the different tournamnets and grouped them into three , World Cup matches , Friendly and Other matches "
      ]
    },
    {
      "cell_type": "code",
      "metadata": {
        "id": "xHydU0s_sVOe",
        "outputId": "47011fe3-561e-4144-859c-dfd586d2ca59",
        "colab": {
          "base_uri": "https://localhost:8080/"
        }
      },
      "source": [
        "dataset.confederation.unique()"
      ],
      "execution_count": 665,
      "outputs": [
        {
          "output_type": "execute_result",
          "data": {
            "text/plain": [
              "array(['CONMEBOL', 'African', 'UEFA', 'AFC', 'CONCACAF', 'Oceania'],\n",
              "      dtype=object)"
            ]
          },
          "metadata": {
            "tags": []
          },
          "execution_count": 665
        }
      ]
    },
    {
      "cell_type": "code",
      "metadata": {
        "id": "qKaha7lSI1vD",
        "outputId": "8e50c3b5-050f-48b8-bd51-c542508b9cd0",
        "colab": {
          "base_uri": "https://localhost:8080/"
        }
      },
      "source": [
        "dataset.tournament.unique()"
      ],
      "execution_count": 666,
      "outputs": [
        {
          "output_type": "execute_result",
          "data": {
            "text/plain": [
              "array(['FIFA World Cup qualification', 'Friendly', 'Amílcar Cabral Cup',\n",
              "       'United Arab Emirates Friendship Tournament',\n",
              "       'Malta International Tournament',\n",
              "       'CFU Caribbean Cup qualification', 'African Cup of Nations',\n",
              "       'CFU Caribbean Cup', 'FIFA World Cup',\n",
              "       'Oceania Nations Cup qualification',\n",
              "       'African Cup of Nations qualification', 'UEFA Euro qualification',\n",
              "       'Gulf Cup', 'CECAFA Cup', 'Simba Tournament', 'Dynasty Cup',\n",
              "       'SAFF Cup', 'Copa Paz del Chaco', 'Korea Cup', 'Copa América',\n",
              "       'Merdeka Tournament', 'South Pacific Games', 'Oceania Nations Cup',\n",
              "       'UNCAF Cup', 'Gold Cup', 'AFC Asian Cup qualification',\n",
              "       \"King's Cup\", 'Lunar New Year Cup', 'AFF Championship',\n",
              "       'AFC Asian Cup', 'King Hassan II Tournament', 'Dunhill Cup',\n",
              "       'Cyprus International Tournament', 'Nehru Cup',\n",
              "       'Tournoi de France', 'Kirin Cup', 'COSAFA Cup', 'Baltic Cup',\n",
              "       'Confederations Cup', 'UAFA Cup', 'USA Cup',\n",
              "       'Gold Cup qualification', 'UNIFFAC Cup', 'Nordic Championship',\n",
              "       'WAFF Championship', 'UEFA Euro', 'Millennium Cup',\n",
              "       'Windward Islands Tournament', \"Prime Minister's Cup\",\n",
              "       'EAFF Championship', 'AFC Challenge Cup', 'Copa del Pacífico',\n",
              "       'UAFA Cup qualification', 'AFC Challenge Cup qualification',\n",
              "       'Dragon Cup', 'VFF Cup', 'Nile Basin Tournament', 'Pacific Games',\n",
              "       'ABCS Tournament', 'African Nations Championship', 'OSN Cup',\n",
              "       'Intercontinental Cup'], dtype=object)"
            ]
          },
          "metadata": {
            "tags": []
          },
          "execution_count": 666
        }
      ]
    },
    {
      "cell_type": "code",
      "metadata": {
        "id": "BJN-tZjLGtBX"
      },
      "source": [
        "def match(score):\n",
        "    tournament = score[0]\n",
        "  \n",
        "  \n",
        "    if tournament =='FIFA World Cup qualification':\n",
        "        return 'World Cup'\n",
        "    elif tournament == 'FIFA World Cup':\n",
        "        return 'World Cup'\n",
        "    elif tournament == 'Friendly':\n",
        "        return 'Friendly'\n",
        "    else:\n",
        "        return 'Other'\n",
        "    return tournament"
      ],
      "execution_count": 667,
      "outputs": []
    },
    {
      "cell_type": "code",
      "metadata": {
        "id": "5C9G3YbXH48g"
      },
      "source": [
        "dataset['tournament'] = dataset[['tournament']].apply(match, axis=1)"
      ],
      "execution_count": 668,
      "outputs": []
    },
    {
      "cell_type": "code",
      "metadata": {
        "id": "PiIUBUrlIdz_",
        "outputId": "b672ccdd-3dc8-4736-c9f6-22025cecd1a9",
        "colab": {
          "base_uri": "https://localhost:8080/"
        }
      },
      "source": [
        "dataset.tournament.unique()"
      ],
      "execution_count": 669,
      "outputs": [
        {
          "output_type": "execute_result",
          "data": {
            "text/plain": [
              "array(['World Cup', 'Friendly', 'Other'], dtype=object)"
            ]
          },
          "metadata": {
            "tags": []
          },
          "execution_count": 669
        }
      ]
    },
    {
      "cell_type": "code",
      "metadata": {
        "id": "rOGLX-5NKMEX",
        "outputId": "d9a827d5-ff10-4335-9dcc-0b1807404800",
        "colab": {
          "base_uri": "https://localhost:8080/"
        }
      },
      "source": [
        "dataset.tournament.value_counts()"
      ],
      "execution_count": 670,
      "outputs": [
        {
          "output_type": "execute_result",
          "data": {
            "text/plain": [
              "Other        3500\n",
              "Friendly     2675\n",
              "World Cup    1950\n",
              "Name: tournament, dtype: int64"
            ]
          },
          "metadata": {
            "tags": []
          },
          "execution_count": 670
        }
      ]
    },
    {
      "cell_type": "code",
      "metadata": {
        "id": "q5Po-I6dFlcl",
        "outputId": "7df7e332-278e-48b5-bd1f-354b09278d30",
        "colab": {
          "base_uri": "https://localhost:8080/"
        }
      },
      "source": [
        "dataset.confederation.value_counts()"
      ],
      "execution_count": 671,
      "outputs": [
        {
          "output_type": "execute_result",
          "data": {
            "text/plain": [
              "UEFA        2932\n",
              "African     1916\n",
              "AFC         1646\n",
              "CONCACAF     867\n",
              "CONMEBOL     603\n",
              "Oceania      161\n",
              "Name: confederation, dtype: int64"
            ]
          },
          "metadata": {
            "tags": []
          },
          "execution_count": 671
        }
      ]
    },
    {
      "cell_type": "markdown",
      "metadata": {
        "id": "dJEW6oPINcy9"
      },
      "source": [
        "#2 .Exploratory Data Analysis"
      ]
    },
    {
      "cell_type": "markdown",
      "metadata": {
        "id": "D61RH1DJffUm"
      },
      "source": [
        "## 2.1.Univariate Analysis"
      ]
    },
    {
      "cell_type": "markdown",
      "metadata": {
        "id": "i6WvrECYTPLG"
      },
      "source": [
        "I analyzed the rank_change columns , scores (both home and away) and whether on not the teams were playing on Neutral Grounds."
      ]
    },
    {
      "cell_type": "markdown",
      "metadata": {
        "id": "WUkR-QFxNI7_"
      },
      "source": [
        "#### 2.1.1.Rank_Change_Away Variable"
      ]
    },
    {
      "cell_type": "code",
      "metadata": {
        "id": "h7T4yl45NRDD",
        "outputId": "0071a5ba-94a9-48ca-d43a-85cffeaf8439",
        "colab": {
          "base_uri": "https://localhost:8080/"
        }
      },
      "source": [
        "dataset.rank_change_away.describe()"
      ],
      "execution_count": 672,
      "outputs": [
        {
          "output_type": "execute_result",
          "data": {
            "text/plain": [
              "count    8125.000000\n",
              "mean        0.841477\n",
              "std         8.124249\n",
              "min       -52.000000\n",
              "25%        -3.000000\n",
              "50%         0.000000\n",
              "75%         3.000000\n",
              "max        92.000000\n",
              "Name: rank_change_away, dtype: float64"
            ]
          },
          "metadata": {
            "tags": []
          },
          "execution_count": 672
        }
      ]
    },
    {
      "cell_type": "code",
      "metadata": {
        "id": "pr5YAa5ANkvm",
        "outputId": "8b0be209-dd2d-4787-b4cd-3791c5477fe7",
        "colab": {
          "base_uri": "https://localhost:8080/",
          "height": 0
        }
      },
      "source": [
        "dataset.rank_change_away.hist()"
      ],
      "execution_count": 673,
      "outputs": [
        {
          "output_type": "execute_result",
          "data": {
            "text/plain": [
              "<matplotlib.axes._subplots.AxesSubplot at 0x7f451deaf358>"
            ]
          },
          "metadata": {
            "tags": []
          },
          "execution_count": 673
        },
        {
          "output_type": "display_data",
          "data": {
            "image/png": "[encoded data removed]",
            "text/plain": [
              "<Figure size 432x288 with 1 Axes>"
            ]
          },
          "metadata": {
            "tags": [],
            "needs_background": "light"
          }
        }
      ]
    },
    {
      "cell_type": "markdown",
      "metadata": {
        "id": "HvOzlMQqNYZ3"
      },
      "source": [
        "####2.1.2.Rank_Change_Home Variable"
      ]
    },
    {
      "cell_type": "code",
      "metadata": {
        "id": "lLTAfE5EN62j",
        "outputId": "c42e347d-d996-4f76-e225-ffbe3e935dca",
        "colab": {
          "base_uri": "https://localhost:8080/",
          "height": 0
        }
      },
      "source": [
        "dataset.rank_change_home.hist()"
      ],
      "execution_count": 674,
      "outputs": [
        {
          "output_type": "execute_result",
          "data": {
            "text/plain": [
              "<matplotlib.axes._subplots.AxesSubplot at 0x7f451e0799e8>"
            ]
          },
          "metadata": {
            "tags": []
          },
          "execution_count": 674
        },
        {
          "output_type": "display_data",
          "data": {
            "image/png": "[encoded data removed]",
            "text/plain": [
              "<Figure size 432x288 with 1 Axes>"
            ]
          },
          "metadata": {
            "tags": [],
            "needs_background": "light"
          }
        }
      ]
    },
    {
      "cell_type": "markdown",
      "metadata": {
        "id": "kv_COsmfDfxY"
      },
      "source": [
        "####2.1.3.Home_Score Variable"
      ]
    },
    {
      "cell_type": "code",
      "metadata": {
        "id": "KHsO6aXVNAJY",
        "outputId": "766aa24b-b34f-47eb-df03-3151975f32e2",
        "colab": {
          "base_uri": "https://localhost:8080/"
        }
      },
      "source": [
        "dataset.home_score.describe()"
      ],
      "execution_count": 675,
      "outputs": [
        {
          "output_type": "execute_result",
          "data": {
            "text/plain": [
              "count    8125.000000\n",
              "mean        1.629415\n",
              "std         1.609119\n",
              "min         0.000000\n",
              "25%         0.000000\n",
              "50%         1.000000\n",
              "75%         2.000000\n",
              "max        22.000000\n",
              "Name: home_score, dtype: float64"
            ]
          },
          "metadata": {
            "tags": []
          },
          "execution_count": 675
        }
      ]
    },
    {
      "cell_type": "code",
      "metadata": {
        "id": "xj3NqByoR-P6",
        "outputId": "481b9365-032f-40a4-a2d7-3a9ce808ead3",
        "colab": {
          "base_uri": "https://localhost:8080/",
          "height": 0
        }
      },
      "source": [
        "dataset.home_score.hist()"
      ],
      "execution_count": 676,
      "outputs": [
        {
          "output_type": "execute_result",
          "data": {
            "text/plain": [
              "<matplotlib.axes._subplots.AxesSubplot at 0x7f451de5c6a0>"
            ]
          },
          "metadata": {
            "tags": []
          },
          "execution_count": 676
        },
        {
          "output_type": "display_data",
          "data": {
            "image/png": "[encoded data removed]",
            "text/plain": [
              "<Figure size 432x288 with 1 Axes>"
            ]
          },
          "metadata": {
            "tags": [],
            "needs_background": "light"
          }
        }
      ]
    },
    {
      "cell_type": "code",
      "metadata": {
        "id": "8KryewwWSmUL",
        "outputId": "bf8150f2-c579-41de-9d21-f2ec8090b1ba",
        "colab": {
          "base_uri": "https://localhost:8080/",
          "height": 0
        }
      },
      "source": [
        "dataset.boxplot('home_score',figsize=(10,5))"
      ],
      "execution_count": 677,
      "outputs": [
        {
          "output_type": "execute_result",
          "data": {
            "text/plain": [
              "<matplotlib.axes._subplots.AxesSubplot at 0x7f451dce9978>"
            ]
          },
          "metadata": {
            "tags": []
          },
          "execution_count": 677
        },
        {
          "output_type": "display_data",
          "data": {
            "image/png": "[encoded data removed]",
            "text/plain": [
              "<Figure size 720x360 with 1 Axes>"
            ]
          },
          "metadata": {
            "tags": [],
            "needs_background": "light"
          }
        }
      ]
    },
    {
      "cell_type": "code",
      "metadata": {
        "id": "5AFQ-2QN9muy",
        "outputId": "b919e7af-86e6-4daa-dc1e-6d42c948dc7b",
        "colab": {
          "base_uri": "https://localhost:8080/"
        }
      },
      "source": [
        "print(dataset.home_score.skew())\n",
        "print(dataset.home_score.kurt())"
      ],
      "execution_count": 678,
      "outputs": [
        {
          "output_type": "stream",
          "text": [
            "1.9153935454938995\n",
            "8.594527290026136\n"
          ],
          "name": "stdout"
        }
      ]
    },
    {
      "cell_type": "code",
      "metadata": {
        "id": "zbelgBzsBV-b",
        "outputId": "13c6cd0c-61a7-4cdd-f6de-ba853dbf2692",
        "colab": {
          "base_uri": "https://localhost:8080/"
        }
      },
      "source": [
        "Q1 = dataset[['home_score']].quantile(0.25)\n",
        "Q3 = dataset[['home_score']].quantile(0.75)\n",
        "IQR = Q3 - Q1\n",
        "((dataset[['home_score']]<(Q1 - 1.5*IQR))|(dataset[['home_score']]>(Q3 + 1.5 *IQR))).value_counts()\n"
      ],
      "execution_count": 679,
      "outputs": [
        {
          "output_type": "execute_result",
          "data": {
            "text/plain": [
              "home_score\n",
              "False         7920\n",
              "True           205\n",
              "dtype: int64"
            ]
          },
          "metadata": {
            "tags": []
          },
          "execution_count": 679
        }
      ]
    },
    {
      "cell_type": "code",
      "metadata": {
        "id": "Nv16NdWFDJv3"
      },
      "source": [
        "dataset = dataset[~((dataset[['home_score']]<(Q1 - 1.5*IQR))|(dataset[['home_score']]>(Q3 + 1.5 *IQR))).any(axis=1)]"
      ],
      "execution_count": 680,
      "outputs": []
    },
    {
      "cell_type": "code",
      "metadata": {
        "id": "UNP8JyJoDbcD",
        "outputId": "16d08f73-e574-4254-f95c-c1bed51334d9",
        "colab": {
          "base_uri": "https://localhost:8080/",
          "height": 0
        }
      },
      "source": [
        "dataset.boxplot('home_score',figsize=(10,5))"
      ],
      "execution_count": 681,
      "outputs": [
        {
          "output_type": "execute_result",
          "data": {
            "text/plain": [
              "<matplotlib.axes._subplots.AxesSubplot at 0x7f451dd25d68>"
            ]
          },
          "metadata": {
            "tags": []
          },
          "execution_count": 681
        },
        {
          "output_type": "display_data",
          "data": {
            "image/png": "[encoded data removed]",
            "text/plain": [
              "<Figure size 720x360 with 1 Axes>"
            ]
          },
          "metadata": {
            "tags": [],
            "needs_background": "light"
          }
        }
      ]
    },
    {
      "cell_type": "markdown",
      "metadata": {
        "id": "tplF104hDnz6"
      },
      "source": [
        "####2.1.4.Away_Score Variable"
      ]
    },
    {
      "cell_type": "code",
      "metadata": {
        "id": "4mMjr6WBM4I_",
        "outputId": "9c46c2cc-b397-4e12-8926-e285c3c46384",
        "colab": {
          "base_uri": "https://localhost:8080/"
        }
      },
      "source": [
        "dataset.away_score.describe()"
      ],
      "execution_count": 682,
      "outputs": [
        {
          "output_type": "execute_result",
          "data": {
            "text/plain": [
              "count    7920.000000\n",
              "mean        1.096465\n",
              "std         1.285995\n",
              "min         0.000000\n",
              "25%         0.000000\n",
              "50%         1.000000\n",
              "75%         2.000000\n",
              "max        15.000000\n",
              "Name: away_score, dtype: float64"
            ]
          },
          "metadata": {
            "tags": []
          },
          "execution_count": 682
        }
      ]
    },
    {
      "cell_type": "code",
      "metadata": {
        "id": "meQ8tmhYR-DC",
        "outputId": "bbaaab9d-2d80-49ad-a067-69de6d7be9ca",
        "colab": {
          "base_uri": "https://localhost:8080/",
          "height": 0
        }
      },
      "source": [
        "dataset.away_score.hist()\n"
      ],
      "execution_count": 683,
      "outputs": [
        {
          "output_type": "execute_result",
          "data": {
            "text/plain": [
              "<matplotlib.axes._subplots.AxesSubplot at 0x7f451dc86048>"
            ]
          },
          "metadata": {
            "tags": []
          },
          "execution_count": 683
        },
        {
          "output_type": "display_data",
          "data": {
            "image/png": "[encoded data removed]",
            "text/plain": [
              "<Figure size 432x288 with 1 Axes>"
            ]
          },
          "metadata": {
            "tags": [],
            "needs_background": "light"
          }
        }
      ]
    },
    {
      "cell_type": "code",
      "metadata": {
        "id": "1RvCsH2dTIZ8",
        "outputId": "66c15502-c865-4c96-c740-9467bb10ea0b",
        "colab": {
          "base_uri": "https://localhost:8080/",
          "height": 0
        }
      },
      "source": [
        "dataset.boxplot('away_score',figsize=(10,5))"
      ],
      "execution_count": 684,
      "outputs": [
        {
          "output_type": "execute_result",
          "data": {
            "text/plain": [
              "<matplotlib.axes._subplots.AxesSubplot at 0x7f451dc1d278>"
            ]
          },
          "metadata": {
            "tags": []
          },
          "execution_count": 684
        },
        {
          "output_type": "display_data",
          "data": {
            "image/png": "[encoded data removed]",
            "text/plain": [
              "<Figure size 720x360 with 1 Axes>"
            ]
          },
          "metadata": {
            "tags": [],
            "needs_background": "light"
          }
        }
      ]
    },
    {
      "cell_type": "code",
      "metadata": {
        "id": "ROHL4UsvDzev",
        "outputId": "cfe29e6b-fad2-4c32-f0ab-f4c9187e7125",
        "colab": {
          "base_uri": "https://localhost:8080/"
        }
      },
      "source": [
        "print(dataset.away_score.skew())\n",
        "print(dataset.away_score.kurt())"
      ],
      "execution_count": 685,
      "outputs": [
        {
          "output_type": "stream",
          "text": [
            "2.0064059965996304\n",
            "7.585057753977756\n"
          ],
          "name": "stdout"
        }
      ]
    },
    {
      "cell_type": "code",
      "metadata": {
        "id": "H2B7cef5D8zO",
        "outputId": "a7a6f5be-555d-4803-83cc-e211bbc98016",
        "colab": {
          "base_uri": "https://localhost:8080/"
        }
      },
      "source": [
        "Q1 = dataset[['away_score']].quantile(0.25)\n",
        "Q3 = dataset[['away_score']].quantile(0.75)\n",
        "IQR = Q3 - Q1\n",
        "((dataset[['away_score']]<(Q1 - 1.5*IQR))|(dataset[['away_score']]>(Q3 + 1.5 *IQR))).value_counts()\n"
      ],
      "execution_count": 686,
      "outputs": [
        {
          "output_type": "execute_result",
          "data": {
            "text/plain": [
              "away_score\n",
              "False         7836\n",
              "True            84\n",
              "dtype: int64"
            ]
          },
          "metadata": {
            "tags": []
          },
          "execution_count": 686
        }
      ]
    },
    {
      "cell_type": "code",
      "metadata": {
        "id": "ks0xpC1YEM7a"
      },
      "source": [
        "dataset = dataset[~((dataset[['away_score']]<(Q1 - 1.5*IQR))|(dataset[['away_score']]>(Q3 + 1.5 *IQR))).any(axis=1)]"
      ],
      "execution_count": 687,
      "outputs": []
    },
    {
      "cell_type": "code",
      "metadata": {
        "id": "_i43CbNtEVfS",
        "outputId": "7a9c914b-ea32-48cd-9db5-e87bae7ac903",
        "colab": {
          "base_uri": "https://localhost:8080/",
          "height": 0
        }
      },
      "source": [
        "dataset.boxplot('away_score',figsize=(10,5))"
      ],
      "execution_count": 688,
      "outputs": [
        {
          "output_type": "execute_result",
          "data": {
            "text/plain": [
              "<matplotlib.axes._subplots.AxesSubplot at 0x7f451dd253c8>"
            ]
          },
          "metadata": {
            "tags": []
          },
          "execution_count": 688
        },
        {
          "output_type": "display_data",
          "data": {
            "image/png": "[encoded data removed]",
            "text/plain": [
              "<Figure size 720x360 with 1 Axes>"
            ]
          },
          "metadata": {
            "tags": [],
            "needs_background": "light"
          }
        }
      ]
    },
    {
      "cell_type": "markdown",
      "metadata": {
        "id": "urwl27gsEfeH"
      },
      "source": [
        "####2.1.5.Other Variables"
      ]
    },
    {
      "cell_type": "markdown",
      "metadata": {
        "id": "KYVKcuafTzdl"
      },
      "source": [
        "The columns were normally distributed , and upon plotting box plots for the home_score and away_score columns I found that they both had outliers which was afterall expected.\n",
        "\n",
        "\n",
        "I opted not to drop these outliers and use them in my model instead."
      ]
    },
    {
      "cell_type": "code",
      "metadata": {
        "id": "zybNiSivfwHC",
        "outputId": "99aaba94-5edd-4cd6-b3bd-4a02ca28a9aa",
        "colab": {
          "base_uri": "https://localhost:8080/"
        }
      },
      "source": [
        "dataset.confederation.value_counts()"
      ],
      "execution_count": 689,
      "outputs": [
        {
          "output_type": "execute_result",
          "data": {
            "text/plain": [
              "UEFA        2837\n",
              "African     1875\n",
              "AFC         1552\n",
              "CONCACAF     836\n",
              "CONMEBOL     595\n",
              "Oceania      141\n",
              "Name: confederation, dtype: int64"
            ]
          },
          "metadata": {
            "tags": []
          },
          "execution_count": 689
        }
      ]
    },
    {
      "cell_type": "code",
      "metadata": {
        "id": "lyyXkJj6bndI",
        "outputId": "80f5eb8b-ec8c-44a5-871e-f87c2070e3de",
        "colab": {
          "base_uri": "https://localhost:8080/",
          "height": 0
        }
      },
      "source": [
        "labels=('UEFA','African Football','AFC','CONMEBOL','CONCACAF','Oceania')\n",
        "plt.barh(labels ,dataset['confederation'].value_counts())\n",
        "plt.title('Plot showing number of games played per Tournament')"
      ],
      "execution_count": 690,
      "outputs": [
        {
          "output_type": "execute_result",
          "data": {
            "text/plain": [
              "Text(0.5, 1.0, 'Plot showing number of games played per Tournament')"
            ]
          },
          "metadata": {
            "tags": []
          },
          "execution_count": 690
        },
        {
          "output_type": "display_data",
          "data": {
            "image/png": "[encoded data removed]",
            "text/plain": [
              "<Figure size 432x288 with 1 Axes>"
            ]
          },
          "metadata": {
            "tags": [],
            "needs_background": "light"
          }
        }
      ]
    },
    {
      "cell_type": "code",
      "metadata": {
        "id": "3tyq144eN49d",
        "outputId": "179279f3-ab91-4afb-b6d7-28d0b6df3bb3",
        "colab": {
          "base_uri": "https://localhost:8080/",
          "height": 0
        }
      },
      "source": [
        "labels=('Other','Friendly','World Cup')\n",
        "plt.barh(labels ,dataset['tournament'].value_counts())\n",
        "plt.title('Plot showing number of games played per Tournament')"
      ],
      "execution_count": 691,
      "outputs": [
        {
          "output_type": "execute_result",
          "data": {
            "text/plain": [
              "Text(0.5, 1.0, 'Plot showing number of games played per Tournament')"
            ]
          },
          "metadata": {
            "tags": []
          },
          "execution_count": 691
        },
        {
          "output_type": "display_data",
          "data": {
            "image/png": "[encoded data removed]",
            "text/plain": [
              "<Figure size 432x288 with 1 Axes>"
            ]
          },
          "metadata": {
            "tags": [],
            "needs_background": "light"
          }
        }
      ]
    },
    {
      "cell_type": "code",
      "metadata": {
        "id": "nolo1uErddr5",
        "outputId": "f2b4f899-6f6d-419e-e2a0-0f416da08b54",
        "colab": {
          "base_uri": "https://localhost:8080/",
          "height": 0
        }
      },
      "source": [
        "plt.pie(dataset['neutral'].value_counts() ,labels =['False','True'],autopct = '%1.1f%%', shadow = True, startangle = 140)\n",
        "plt.axis('equal')\n",
        "plt.title('Pie Chart Showing whether matches were played on Neutral grounds')\n",
        "plt.show()"
      ],
      "execution_count": 692,
      "outputs": [
        {
          "output_type": "display_data",
          "data": {
            "image/png": "[encoded data removed]",
            "text/plain": [
              "<Figure size 432x288 with 1 Axes>"
            ]
          },
          "metadata": {
            "tags": []
          }
        }
      ]
    },
    {
      "cell_type": "markdown",
      "metadata": {
        "id": "alvN_G-VUSBX"
      },
      "source": [
        "Majority of the games in my dataset were from the UEFA confederation games and they were mainly played on Non-Neutral Grounds.\n",
        "\n",
        "Furthermore many of the games were played in Other tournaments as opposed to World Cup matches and Friendlies."
      ]
    },
    {
      "cell_type": "markdown",
      "metadata": {
        "id": "Tbe5r23kQc7Y"
      },
      "source": [
        "## 2.2.Bivariate"
      ]
    },
    {
      "cell_type": "markdown",
      "metadata": {
        "id": "YfjlVF56YNki"
      },
      "source": [
        ">The majority of games in this dataset were played in the UEFA tournament , while the least amount of games were played in the Oceania league."
      ]
    },
    {
      "cell_type": "code",
      "metadata": {
        "id": "4KR9uRK6iEDG",
        "outputId": "7ee8ed97-a9e6-42b2-e88f-2b88e8428225",
        "colab": {
          "base_uri": "https://localhost:8080/",
          "height": 0
        }
      },
      "source": [
        "League = dataset.groupby(['confederation','neutral'])['confederation'].count().unstack('neutral').sort_values(by='confederation')\n",
        "ax = League.plot.bar(stacked=True, edgecolor='none',figsize=(20,8))\n",
        "plt.title('Plot showing games played in neutral and non neutral grounds')\n",
        "plt.ylabel('Games played')"
      ],
      "execution_count": 693,
      "outputs": [
        {
          "output_type": "execute_result",
          "data": {
            "text/plain": [
              "Text(0, 0.5, 'Games played')"
            ]
          },
          "metadata": {
            "tags": []
          },
          "execution_count": 693
        },
        {
          "output_type": "display_data",
          "data": {
            "image/png": "[encoded data removed]",
            "text/plain": [
              "<Figure size 1440x576 with 1 Axes>"
            ]
          },
          "metadata": {
            "tags": [],
            "needs_background": "light"
          }
        }
      ]
    },
    {
      "cell_type": "code",
      "metadata": {
        "id": "8nxPNqhv-_ps",
        "outputId": "052cf508-73c5-4956-8192-fdca36d63819",
        "colab": {
          "base_uri": "https://localhost:8080/",
          "height": 0
        }
      },
      "source": [
        "dataset1 = dataset[['confederation','neutral','home_score']]\n",
        "League = dataset1.groupby(['confederation','neutral']).sum('home_score').unstack()\n",
        "ax = League.plot.bar(stacked=True, edgecolor='none',figsize=(20,8))\n",
        "plt.title('Plot showing goals scored in neutral and non neutral grounds')\n",
        "plt.ylabel('Goals Scored')"
      ],
      "execution_count": 694,
      "outputs": [
        {
          "output_type": "execute_result",
          "data": {
            "text/plain": [
              "Text(0, 0.5, 'Goals Scored')"
            ]
          },
          "metadata": {
            "tags": []
          },
          "execution_count": 694
        },
        {
          "output_type": "display_data",
          "data": {
            "image/png": "[encoded data removed]",
            "text/plain": [
              "<Figure size 1440x576 with 1 Axes>"
            ]
          },
          "metadata": {
            "tags": [],
            "needs_background": "light"
          }
        }
      ]
    },
    {
      "cell_type": "markdown",
      "metadata": {
        "id": "0JDn4o9gXlp3"
      },
      "source": [
        ">Majority of the goals scored by the Home teams were scored in non-neutral grounds and this was expected as majority of the games played were played on non-neutral grounds.\n",
        "\n",
        "\n",
        "\n",
        ">Similarly majority of the goals scored by the away_teams were also scored on non_neutral grounds as seen below."
      ]
    },
    {
      "cell_type": "code",
      "metadata": {
        "id": "ObyFlWN0HTZ8",
        "outputId": "d695f929-30ba-4783-9d52-945d24f9e416",
        "colab": {
          "base_uri": "https://localhost:8080/",
          "height": 0
        }
      },
      "source": [
        "dataset1 = dataset[['confederation','neutral','away_score']]\n",
        "League = dataset1.groupby(['confederation','neutral']).sum('away_score').unstack()\n",
        "ax = League.plot.bar(stacked=True, edgecolor='none',figsize=(20,8))\n",
        "plt.title('Plot showing goals scored in neutral and non neutral grounds')\n",
        "plt.ylabel('Goals Scored')"
      ],
      "execution_count": 695,
      "outputs": [
        {
          "output_type": "execute_result",
          "data": {
            "text/plain": [
              "Text(0, 0.5, 'Goals Scored')"
            ]
          },
          "metadata": {
            "tags": []
          },
          "execution_count": 695
        },
        {
          "output_type": "display_data",
          "data": {
            "image/png": "[encoded data removed]",
            "text/plain": [
              "<Figure size 1440x576 with 1 Axes>"
            ]
          },
          "metadata": {
            "tags": [],
            "needs_background": "light"
          }
        }
      ]
    },
    {
      "cell_type": "code",
      "metadata": {
        "id": "ZXjiBN6QH0oO",
        "outputId": "b674d52d-77bf-45f9-affa-f554fadbb9cc",
        "colab": {
          "base_uri": "https://localhost:8080/",
          "height": 0
        }
      },
      "source": [
        "dataset1 = dataset[['confederation','home_score','away_score']]\n",
        "League = dataset1.groupby(['confederation']).sum(['away_score','home_score']).sort_values(by=['confederation'])\n",
        "ax = League.plot.bar(stacked=False, edgecolor='none',figsize=(20,8))\n",
        "plt.title('Plot showing goals scored by Home and Away Teams')\n",
        "plt.ylabel('Goals Scored')"
      ],
      "execution_count": 696,
      "outputs": [
        {
          "output_type": "execute_result",
          "data": {
            "text/plain": [
              "Text(0, 0.5, 'Goals Scored')"
            ]
          },
          "metadata": {
            "tags": []
          },
          "execution_count": 696
        },
        {
          "output_type": "display_data",
          "data": {
            "image/png": "[encoded data removed]",
            "text/plain": [
              "<Figure size 1440x576 with 1 Axes>"
            ]
          },
          "metadata": {
            "tags": [],
            "needs_background": "light"
          }
        }
      ]
    },
    {
      "cell_type": "markdown",
      "metadata": {
        "id": "sERS8lt6PRSv"
      },
      "source": [
        "> In every Confederation it can be seen that the home teams tend to score more goals as opposed to the opposing teams."
      ]
    },
    {
      "cell_type": "code",
      "metadata": {
        "id": "XdseACw2ZuiZ",
        "outputId": "f7b2d5ae-7385-45cd-9982-56da0ff9debc",
        "colab": {
          "base_uri": "https://localhost:8080/",
          "height": 0
        }
      },
      "source": [
        "dataset1 = dataset[['year','home_score','away_score']]\n",
        "League = dataset1.groupby(['year']).sum(['away_score','home_score']).sort_values(by=['year'])\n",
        "ax = League.plot.bar(stacked=True, edgecolor='none',figsize=(20,8))\n",
        "plt.title('Plot showing goals scored per Year')\n",
        "plt.ylabel('Goals Scored')"
      ],
      "execution_count": 697,
      "outputs": [
        {
          "output_type": "execute_result",
          "data": {
            "text/plain": [
              "Text(0, 0.5, 'Goals Scored')"
            ]
          },
          "metadata": {
            "tags": []
          },
          "execution_count": 697
        },
        {
          "output_type": "display_data",
          "data": {
            "image/png": "[encoded data removed]",
            "text/plain": [
              "<Figure size 1440x576 with 1 Axes>"
            ]
          },
          "metadata": {
            "tags": [],
            "needs_background": "light"
          }
        }
      ]
    },
    {
      "cell_type": "markdown",
      "metadata": {
        "id": "1JNYBC6RZZK9"
      },
      "source": [
        ">Furthermore Majority of the goals scored within all the Tournaments were scored by the home team as opposed to the away team.\n",
        "\n",
        ">Games played in 2011 scored the most goals as compared to other years and it can be seen that the home teams scored the most goals.\n",
        "The games with the least amount of Goals scored were played in 2015."
      ]
    },
    {
      "cell_type": "code",
      "metadata": {
        "id": "g9jn1--ca6yd",
        "outputId": "8bcd9f67-e925-4e83-d7a2-c06a6aca2dff",
        "colab": {
          "base_uri": "https://localhost:8080/",
          "height": 0
        }
      },
      "source": [
        "dataset1 = dataset[['confederation','total_points_home','total_points_away']]\n",
        "League = dataset1.groupby(['confederation']).sum(['total_points_home','total_points_away']).sort_values(by=['confederation'])\n",
        "ax = League.plot.bar(stacked=False, edgecolor='none',figsize=(20,8))\n",
        "plt.title('Plot showing Points for Home and Away teams')\n",
        "plt.ylabel('Goals Scored')"
      ],
      "execution_count": 698,
      "outputs": [
        {
          "output_type": "execute_result",
          "data": {
            "text/plain": [
              "Text(0, 0.5, 'Goals Scored')"
            ]
          },
          "metadata": {
            "tags": []
          },
          "execution_count": 698
        },
        {
          "output_type": "display_data",
          "data": {
            "image/png": "[encoded data removed]",
            "text/plain": [
              "<Figure size 1440x576 with 1 Axes>"
            ]
          },
          "metadata": {
            "tags": [],
            "needs_background": "light"
          }
        }
      ]
    },
    {
      "cell_type": "markdown",
      "metadata": {
        "id": "GsrxsCcFb6HC"
      },
      "source": [
        ">The number of points obtained by both home and away teams across seasons is almost equal across the various leagues.\n",
        "Despite the disparity seen in the numner of goals where home teams scored more , the number of points for both home teams and away teams seem almost equal."
      ]
    },
    {
      "cell_type": "code",
      "metadata": {
        "id": "WJl_GGExRf1y",
        "outputId": "0120e08e-6803-4e15-a431-65a91caf061a",
        "colab": {
          "base_uri": "https://localhost:8080/",
          "height": 0
        }
      },
      "source": [
        "dataset1 = dataset[['confederation','rank_change_home','rank_change_away']]\n",
        "League = dataset1.groupby(['confederation']).sum(['rank_change_home','rank_change_away']).sort_values(by=['confederation'])\n",
        "ax = League.plot.bar(stacked=False, edgecolor='none',figsize=(20,8))\n",
        "plt.title('Plot showing Rank_Change for Home and Away Teams')\n",
        "plt.ylabel('Rank Change')"
      ],
      "execution_count": 699,
      "outputs": [
        {
          "output_type": "execute_result",
          "data": {
            "text/plain": [
              "Text(0, 0.5, 'Rank Change')"
            ]
          },
          "metadata": {
            "tags": []
          },
          "execution_count": 699
        },
        {
          "output_type": "display_data",
          "data": {
            "image/png": "[encoded data removed]",
            "text/plain": [
              "<Figure size 1440x576 with 1 Axes>"
            ]
          },
          "metadata": {
            "tags": [],
            "needs_background": "light"
          }
        }
      ]
    },
    {
      "cell_type": "code",
      "metadata": {
        "id": "RNLyFss1SICn",
        "outputId": "53744c36-a881-4e97-f521-4bbb6ef44a2d",
        "colab": {
          "base_uri": "https://localhost:8080/",
          "height": 0
        }
      },
      "source": [
        "dataset1 = dataset[['tournament','rank_change_home','rank_change_away']]\n",
        "League = dataset1.groupby(['tournament']).sum(['rank_change_home','rank_change_away'])#.sort_values(by=['tournament'])\n",
        "ax = League.plot.bar(stacked=False, edgecolor='none',figsize=(20,8))\n",
        "plt.title('Plot showing Rank_Change for Home and Away Teams')\n",
        "plt.ylabel('Rank Change')"
      ],
      "execution_count": 700,
      "outputs": [
        {
          "output_type": "execute_result",
          "data": {
            "text/plain": [
              "Text(0, 0.5, 'Rank Change')"
            ]
          },
          "metadata": {
            "tags": []
          },
          "execution_count": 700
        },
        {
          "output_type": "display_data",
          "data": {
            "image/png": "[encoded data removed]",
            "text/plain": [
              "<Figure size 1440x576 with 1 Axes>"
            ]
          },
          "metadata": {
            "tags": [],
            "needs_background": "light"
          }
        }
      ]
    },
    {
      "cell_type": "markdown",
      "metadata": {
        "id": "yZGzUAEURklX"
      },
      "source": [
        ">Analyzing the change in Rank it can be seen that , the Home teams tend to have better change as opposed to the Away teams.\n",
        "\n",
        "\n",
        ">We can tentatively conclude that the reason for this is that the home teams seem to have an advantage of playing on their own turf and hence they tend to win all their matches.\n",
        "\n",
        ">Analysing this with the Tournaments column the same sentiments can be seen to be true.\n",
        "In friendlies the away teams can actually be seen to have a negative change in rank."
      ]
    },
    {
      "cell_type": "code",
      "metadata": {
        "id": "-Ia8ak3Xc27U",
        "outputId": "fb9660f0-2a99-4f95-e7f4-09686b816794",
        "colab": {
          "base_uri": "https://localhost:8080/",
          "height": 0
        }
      },
      "source": [
        "dataset1 = dataset[['tournament','home_score','away_score']]\n",
        "League = dataset1.groupby(['tournament']).sum(['home_score','away_score']).sort_values(by=['tournament'])\n",
        "ax = League.plot.bar(stacked=False, edgecolor='none',figsize=(20,8))\n",
        "plt.title('Plot showing Goals Scored by the Home Teams and Away Teams')\n",
        "plt.ylabel('Goals Scored')"
      ],
      "execution_count": 701,
      "outputs": [
        {
          "output_type": "execute_result",
          "data": {
            "text/plain": [
              "Text(0, 0.5, 'Goals Scored')"
            ]
          },
          "metadata": {
            "tags": []
          },
          "execution_count": 701
        },
        {
          "output_type": "display_data",
          "data": {
            "image/png": "[encoded data removed]",
            "text/plain": [
              "<Figure size 1440x576 with 1 Axes>"
            ]
          },
          "metadata": {
            "tags": [],
            "needs_background": "light"
          }
        }
      ]
    },
    {
      "cell_type": "markdown",
      "metadata": {
        "id": "GLyrM1WCdWEw"
      },
      "source": [
        ">Analyzing the Stats on the Tournament column similararities can be seen, The Home teams tend to Score more of the goals as opposed to the teams that are away."
      ]
    },
    {
      "cell_type": "markdown",
      "metadata": {
        "id": "bwWz5CMtUFIr"
      },
      "source": [
        "> After concluding this analysis I then dropped the columns that would not be used in my analysis and then converted my Tournament column into an encoded variable using label encoding."
      ]
    },
    {
      "cell_type": "code",
      "metadata": {
        "id": "1xiW2UREaezL"
      },
      "source": [
        "dataset.drop(['year','home_team','away_team','country_x','confederation','total_points_home','total_points_away','month','date_x'],axis=1,inplace=True)"
      ],
      "execution_count": 702,
      "outputs": []
    },
    {
      "cell_type": "code",
      "metadata": {
        "id": "L1ZEZL12Un7z"
      },
      "source": [
        "from sklearn.preprocessing import LabelEncoder\n",
        "le = LabelEncoder()\n",
        "dataset['tournament'] = le.fit_transform(dataset['tournament'])"
      ],
      "execution_count": 703,
      "outputs": []
    },
    {
      "cell_type": "markdown",
      "metadata": {
        "id": "_7X7uRExSl4A"
      },
      "source": [
        ">Finally creating a correlation matrix for the variables to be used in the analysis we can see that"
      ]
    },
    {
      "cell_type": "code",
      "metadata": {
        "id": "r1b01biIrH9D",
        "outputId": "f4f163c4-305c-4c43-df02-0968501f9e21",
        "colab": {
          "base_uri": "https://localhost:8080/",
          "height": 0
        }
      },
      "source": [
        "plt.subplots(figsize=(20,20))\n",
        "sns.heatmap(dataset.corr(),annot=True)"
      ],
      "execution_count": 704,
      "outputs": [
        {
          "output_type": "execute_result",
          "data": {
            "text/plain": [
              "<matplotlib.axes._subplots.AxesSubplot at 0x7f451e3d9208>"
            ]
          },
          "metadata": {
            "tags": []
          },
          "execution_count": 704
        },
        {
          "output_type": "display_data",
          "data": {
            "image/png": "[encoded data removed]",
            "text/plain": [
              "<Figure size 1440x1440 with 2 Axes>"
            ]
          },
          "metadata": {
            "tags": [],
            "needs_background": "light"
          }
        }
      ]
    },
    {
      "cell_type": "markdown",
      "metadata": {
        "id": "6qCVFlY-SwX3"
      },
      "source": [
        ">None of the Variables have any significant correlation.With the highest correlation being seen between the Home_team_rank and awa_team_rank variables.\n",
        "\n",
        "> Futhermore we can conclude that Games played on Home Grounds tend to have more advantage for the Home teams as opposed to the Away team .\n",
        "\n",
        "> The home teams can be seen to score more across different confederations and tournaments.\n",
        ">As such this variable smay be included in our analysis as a feature."
      ]
    },
    {
      "cell_type": "markdown",
      "metadata": {
        "id": "HTE9ZNK6pNif"
      },
      "source": [
        "# 3.Logistic"
      ]
    },
    {
      "cell_type": "markdown",
      "metadata": {
        "id": "1I2EUNofh_f3"
      },
      "source": [
        ">In order to carry out Logistic Regression I first wrote a function that I applied on the home_score and the away_score columns.\n",
        ">>The function characterized whether a game was Won ,lost or Drawn by either of the teams.\n",
        ">>>* Win was  'W'\n",
        ">>>* Lost was 'L'\n",
        ">>>* Draw was 'D'\n"
      ]
    },
    {
      "cell_type": "markdown",
      "metadata": {
        "id": "hloyc2wZc-v8"
      },
      "source": [
        "### 3.1.Pre-Processing"
      ]
    },
    {
      "cell_type": "code",
      "metadata": {
        "id": "MO9Y12L-lb16"
      },
      "source": [
        "def goals(score):\n",
        "    home_score = score[0]\n",
        "    away_score = score[1]\n",
        "  \n",
        "    if home_score > away_score:\n",
        "        return 'W'\n",
        "    elif home_score == away_score:\n",
        "        return 'D'\n",
        "    else:\n",
        "        return 'L'\n",
        "    return home_score"
      ],
      "execution_count": 705,
      "outputs": []
    },
    {
      "cell_type": "code",
      "metadata": {
        "id": "QdtmG33cv-zF"
      },
      "source": [
        "dataset['home_scores'] = dataset[['home_score', 'away_score']].apply(goals, axis=1)"
      ],
      "execution_count": 706,
      "outputs": []
    },
    {
      "cell_type": "code",
      "metadata": {
        "id": "xWuxa2-lomtw"
      },
      "source": [
        "def goals(score):\n",
        "    home_score = score[0]\n",
        "    away_score = score[1]\n",
        "  \n",
        "    if home_score > away_score:\n",
        "        return 'L'\n",
        "    elif home_score == away_score:\n",
        "        return 'D'\n",
        "    else:\n",
        "        return 'W'\n",
        "    return home_score"
      ],
      "execution_count": 707,
      "outputs": []
    },
    {
      "cell_type": "code",
      "metadata": {
        "id": "KQT_bAunnYCL"
      },
      "source": [
        "dataset['away_scores'] = dataset[['home_score', 'away_score']].apply(goals, axis=1)"
      ],
      "execution_count": 708,
      "outputs": []
    },
    {
      "cell_type": "code",
      "metadata": {
        "id": "OKd9XRhyn_FQ",
        "outputId": "ca1b04d7-c6da-475f-e26c-cdc25c76e9a1",
        "colab": {
          "base_uri": "https://localhost:8080/",
          "height": 0
        }
      },
      "source": [
        "dataset"
      ],
      "execution_count": 709,
      "outputs": [
        {
          "output_type": "execute_result",
          "data": {
            "text/html": [
              "<div>\n",
              "<style scoped>\n",
              "    .dataframe tbody tr th:only-of-type {\n",
              "        vertical-align: middle;\n",
              "    }\n",
              "\n",
              "    .dataframe tbody tr th {\n",
              "        vertical-align: top;\n",
              "    }\n",
              "\n",
              "    .dataframe thead th {\n",
              "        text-align: right;\n",
              "    }\n",
              "</style>\n",
              "<table border=\"1\" class=\"dataframe\">\n",
              "  <thead>\n",
              "    <tr style=\"text-align: right;\">\n",
              "      <th></th>\n",
              "      <th>home_score</th>\n",
              "      <th>away_score</th>\n",
              "      <th>tournament</th>\n",
              "      <th>neutral</th>\n",
              "      <th>home_team_rank</th>\n",
              "      <th>rank_change_home</th>\n",
              "      <th>away_team_rank</th>\n",
              "      <th>rank_change_away</th>\n",
              "      <th>home_scores</th>\n",
              "      <th>away_scores</th>\n",
              "    </tr>\n",
              "  </thead>\n",
              "  <tbody>\n",
              "    <tr>\n",
              "      <th>0</th>\n",
              "      <td>0</td>\n",
              "      <td>0</td>\n",
              "      <td>2</td>\n",
              "      <td>False</td>\n",
              "      <td>19</td>\n",
              "      <td>16</td>\n",
              "      <td>67</td>\n",
              "      <td>1</td>\n",
              "      <td>D</td>\n",
              "      <td>D</td>\n",
              "    </tr>\n",
              "    <tr>\n",
              "      <th>1</th>\n",
              "      <td>0</td>\n",
              "      <td>1</td>\n",
              "      <td>2</td>\n",
              "      <td>False</td>\n",
              "      <td>70</td>\n",
              "      <td>8</td>\n",
              "      <td>5</td>\n",
              "      <td>5</td>\n",
              "      <td>L</td>\n",
              "      <td>W</td>\n",
              "    </tr>\n",
              "    <tr>\n",
              "      <th>2</th>\n",
              "      <td>0</td>\n",
              "      <td>0</td>\n",
              "      <td>2</td>\n",
              "      <td>False</td>\n",
              "      <td>22</td>\n",
              "      <td>-6</td>\n",
              "      <td>35</td>\n",
              "      <td>30</td>\n",
              "      <td>D</td>\n",
              "      <td>D</td>\n",
              "    </tr>\n",
              "    <tr>\n",
              "      <th>3</th>\n",
              "      <td>1</td>\n",
              "      <td>5</td>\n",
              "      <td>2</td>\n",
              "      <td>False</td>\n",
              "      <td>94</td>\n",
              "      <td>31</td>\n",
              "      <td>8</td>\n",
              "      <td>-5</td>\n",
              "      <td>L</td>\n",
              "      <td>W</td>\n",
              "    </tr>\n",
              "    <tr>\n",
              "      <th>4</th>\n",
              "      <td>0</td>\n",
              "      <td>0</td>\n",
              "      <td>2</td>\n",
              "      <td>True</td>\n",
              "      <td>58</td>\n",
              "      <td>-7</td>\n",
              "      <td>25</td>\n",
              "      <td>7</td>\n",
              "      <td>D</td>\n",
              "      <td>D</td>\n",
              "    </tr>\n",
              "    <tr>\n",
              "      <th>...</th>\n",
              "      <td>...</td>\n",
              "      <td>...</td>\n",
              "      <td>...</td>\n",
              "      <td>...</td>\n",
              "      <td>...</td>\n",
              "      <td>...</td>\n",
              "      <td>...</td>\n",
              "      <td>...</td>\n",
              "      <td>...</td>\n",
              "      <td>...</td>\n",
              "    </tr>\n",
              "    <tr>\n",
              "      <th>8149</th>\n",
              "      <td>3</td>\n",
              "      <td>0</td>\n",
              "      <td>0</td>\n",
              "      <td>False</td>\n",
              "      <td>117</td>\n",
              "      <td>0</td>\n",
              "      <td>105</td>\n",
              "      <td>21</td>\n",
              "      <td>W</td>\n",
              "      <td>L</td>\n",
              "    </tr>\n",
              "    <tr>\n",
              "      <th>8150</th>\n",
              "      <td>1</td>\n",
              "      <td>1</td>\n",
              "      <td>0</td>\n",
              "      <td>False</td>\n",
              "      <td>126</td>\n",
              "      <td>7</td>\n",
              "      <td>129</td>\n",
              "      <td>10</td>\n",
              "      <td>D</td>\n",
              "      <td>D</td>\n",
              "    </tr>\n",
              "    <tr>\n",
              "      <th>8151</th>\n",
              "      <td>0</td>\n",
              "      <td>1</td>\n",
              "      <td>1</td>\n",
              "      <td>True</td>\n",
              "      <td>123</td>\n",
              "      <td>-2</td>\n",
              "      <td>120</td>\n",
              "      <td>13</td>\n",
              "      <td>L</td>\n",
              "      <td>W</td>\n",
              "    </tr>\n",
              "    <tr>\n",
              "      <th>8152</th>\n",
              "      <td>1</td>\n",
              "      <td>0</td>\n",
              "      <td>0</td>\n",
              "      <td>False</td>\n",
              "      <td>53</td>\n",
              "      <td>-5</td>\n",
              "      <td>55</td>\n",
              "      <td>0</td>\n",
              "      <td>W</td>\n",
              "      <td>L</td>\n",
              "    </tr>\n",
              "    <tr>\n",
              "      <th>8153</th>\n",
              "      <td>1</td>\n",
              "      <td>1</td>\n",
              "      <td>0</td>\n",
              "      <td>False</td>\n",
              "      <td>78</td>\n",
              "      <td>1</td>\n",
              "      <td>51</td>\n",
              "      <td>-2</td>\n",
              "      <td>D</td>\n",
              "      <td>D</td>\n",
              "    </tr>\n",
              "  </tbody>\n",
              "</table>\n",
              "<p>7836 rows × 10 columns</p>\n",
              "</div>"
            ],
            "text/plain": [
              "      home_score  away_score  ...  home_scores  away_scores\n",
              "0              0           0  ...            D            D\n",
              "1              0           1  ...            L            W\n",
              "2              0           0  ...            D            D\n",
              "3              1           5  ...            L            W\n",
              "4              0           0  ...            D            D\n",
              "...          ...         ...  ...          ...          ...\n",
              "8149           3           0  ...            W            L\n",
              "8150           1           1  ...            D            D\n",
              "8151           0           1  ...            L            W\n",
              "8152           1           0  ...            W            L\n",
              "8153           1           1  ...            D            D\n",
              "\n",
              "[7836 rows x 10 columns]"
            ]
          },
          "metadata": {
            "tags": []
          },
          "execution_count": 709
        }
      ]
    },
    {
      "cell_type": "markdown",
      "metadata": {
        "id": "cnxjxjuZijAH"
      },
      "source": [
        ">Next I encoded the column using labelencoder , initially I wanted to use the get_dummies but that proved challenging as it gave me two columns while the label in this model takes only one column,so I opted to use labelencoding."
      ]
    },
    {
      "cell_type": "code",
      "metadata": {
        "id": "QWS3nzbq1dS9"
      },
      "source": [
        "# import labelencoder\n",
        "from sklearn.preprocessing import LabelEncoder\n",
        "le = LabelEncoder()\n",
        "dataset['home_scores'] = le.fit_transform(dataset['home_scores'])\n",
        "dataset['away_scores'] = le.fit_transform(dataset['away_scores'])"
      ],
      "execution_count": 710,
      "outputs": []
    },
    {
      "cell_type": "code",
      "metadata": {
        "id": "aLvboKqy25iJ",
        "outputId": "b13ace41-79d6-467b-a5cc-7e87c6ebc37c",
        "colab": {
          "base_uri": "https://localhost:8080/",
          "height": 0
        }
      },
      "source": [
        "dataset.head()"
      ],
      "execution_count": 711,
      "outputs": [
        {
          "output_type": "execute_result",
          "data": {
            "text/html": [
              "<div>\n",
              "<style scoped>\n",
              "    .dataframe tbody tr th:only-of-type {\n",
              "        vertical-align: middle;\n",
              "    }\n",
              "\n",
              "    .dataframe tbody tr th {\n",
              "        vertical-align: top;\n",
              "    }\n",
              "\n",
              "    .dataframe thead th {\n",
              "        text-align: right;\n",
              "    }\n",
              "</style>\n",
              "<table border=\"1\" class=\"dataframe\">\n",
              "  <thead>\n",
              "    <tr style=\"text-align: right;\">\n",
              "      <th></th>\n",
              "      <th>home_score</th>\n",
              "      <th>away_score</th>\n",
              "      <th>tournament</th>\n",
              "      <th>neutral</th>\n",
              "      <th>home_team_rank</th>\n",
              "      <th>rank_change_home</th>\n",
              "      <th>away_team_rank</th>\n",
              "      <th>rank_change_away</th>\n",
              "      <th>home_scores</th>\n",
              "      <th>away_scores</th>\n",
              "    </tr>\n",
              "  </thead>\n",
              "  <tbody>\n",
              "    <tr>\n",
              "      <th>0</th>\n",
              "      <td>0</td>\n",
              "      <td>0</td>\n",
              "      <td>2</td>\n",
              "      <td>False</td>\n",
              "      <td>19</td>\n",
              "      <td>16</td>\n",
              "      <td>67</td>\n",
              "      <td>1</td>\n",
              "      <td>0</td>\n",
              "      <td>0</td>\n",
              "    </tr>\n",
              "    <tr>\n",
              "      <th>1</th>\n",
              "      <td>0</td>\n",
              "      <td>1</td>\n",
              "      <td>2</td>\n",
              "      <td>False</td>\n",
              "      <td>70</td>\n",
              "      <td>8</td>\n",
              "      <td>5</td>\n",
              "      <td>5</td>\n",
              "      <td>1</td>\n",
              "      <td>2</td>\n",
              "    </tr>\n",
              "    <tr>\n",
              "      <th>2</th>\n",
              "      <td>0</td>\n",
              "      <td>0</td>\n",
              "      <td>2</td>\n",
              "      <td>False</td>\n",
              "      <td>22</td>\n",
              "      <td>-6</td>\n",
              "      <td>35</td>\n",
              "      <td>30</td>\n",
              "      <td>0</td>\n",
              "      <td>0</td>\n",
              "    </tr>\n",
              "    <tr>\n",
              "      <th>3</th>\n",
              "      <td>1</td>\n",
              "      <td>5</td>\n",
              "      <td>2</td>\n",
              "      <td>False</td>\n",
              "      <td>94</td>\n",
              "      <td>31</td>\n",
              "      <td>8</td>\n",
              "      <td>-5</td>\n",
              "      <td>1</td>\n",
              "      <td>2</td>\n",
              "    </tr>\n",
              "    <tr>\n",
              "      <th>4</th>\n",
              "      <td>0</td>\n",
              "      <td>0</td>\n",
              "      <td>2</td>\n",
              "      <td>True</td>\n",
              "      <td>58</td>\n",
              "      <td>-7</td>\n",
              "      <td>25</td>\n",
              "      <td>7</td>\n",
              "      <td>0</td>\n",
              "      <td>0</td>\n",
              "    </tr>\n",
              "  </tbody>\n",
              "</table>\n",
              "</div>"
            ],
            "text/plain": [
              "   home_score  away_score  ...  home_scores  away_scores\n",
              "0           0           0  ...            0            0\n",
              "1           0           1  ...            1            2\n",
              "2           0           0  ...            0            0\n",
              "3           1           5  ...            1            2\n",
              "4           0           0  ...            0            0\n",
              "\n",
              "[5 rows x 10 columns]"
            ]
          },
          "metadata": {
            "tags": []
          },
          "execution_count": 711
        }
      ]
    },
    {
      "cell_type": "code",
      "metadata": {
        "id": "4QkHYh2TOek6",
        "outputId": "167fe7c6-765b-4eea-c11c-c1fc6b818314",
        "colab": {
          "base_uri": "https://localhost:8080/"
        }
      },
      "source": [
        "dataset['home_scores'].value_counts()"
      ],
      "execution_count": 712,
      "outputs": [
        {
          "output_type": "execute_result",
          "data": {
            "text/plain": [
              "2    3798\n",
              "1    2149\n",
              "0    1889\n",
              "Name: home_scores, dtype: int64"
            ]
          },
          "metadata": {
            "tags": []
          },
          "execution_count": 712
        }
      ]
    },
    {
      "cell_type": "markdown",
      "metadata": {
        "id": "92ttVjlTs_HP"
      },
      "source": [
        ">* W was encoded as 2\n",
        ">* L as 1 \n",
        ">* D as 0"
      ]
    },
    {
      "cell_type": "code",
      "metadata": {
        "id": "LXsJBu_8u3pB",
        "outputId": "79410a1f-5a82-4b24-c0ff-bea43a04a221",
        "colab": {
          "base_uri": "https://localhost:8080/"
        }
      },
      "source": [
        "dataset.info()"
      ],
      "execution_count": 713,
      "outputs": [
        {
          "output_type": "stream",
          "text": [
            "<class 'pandas.core.frame.DataFrame'>\n",
            "Int64Index: 7836 entries, 0 to 8153\n",
            "Data columns (total 10 columns):\n",
            " #   Column            Non-Null Count  Dtype\n",
            "---  ------            --------------  -----\n",
            " 0   home_score        7836 non-null   int64\n",
            " 1   away_score        7836 non-null   int64\n",
            " 2   tournament        7836 non-null   int64\n",
            " 3   neutral           7836 non-null   bool \n",
            " 4   home_team_rank    7836 non-null   int64\n",
            " 5   rank_change_home  7836 non-null   int64\n",
            " 6   away_team_rank    7836 non-null   int64\n",
            " 7   rank_change_away  7836 non-null   int64\n",
            " 8   home_scores       7836 non-null   int64\n",
            " 9   away_scores       7836 non-null   int64\n",
            "dtypes: bool(1), int64(9)\n",
            "memory usage: 619.8 KB\n"
          ],
          "name": "stdout"
        }
      ]
    },
    {
      "cell_type": "markdown",
      "metadata": {
        "id": "S-cL-U_Vi-YZ"
      },
      "source": [
        ">I then set my feature variables as the Rank_Change and Rank as using only Rank gives the model less accuracy and my label was the home_scores variable which was my label encoded variable recording whether the home team won lost or drew a game."
      ]
    },
    {
      "cell_type": "markdown",
      "metadata": {
        "id": "DRdgo2d4XnM0"
      },
      "source": [
        ">I wanted to evaluate whether a team will win , draw or lose a match based on the rank of the home team ,rank of the opposing team and the rank change of the teams after the match in question."
      ]
    },
    {
      "cell_type": "code",
      "metadata": {
        "id": "cByGrA8ZyHjQ"
      },
      "source": [
        "X = dataset.drop(['home_scores','tournament','away_scores','home_score','away_score','neutral'],axis=1)\n",
        "y = dataset[\"home_scores\"]\n"
      ],
      "execution_count": 714,
      "outputs": []
    },
    {
      "cell_type": "code",
      "metadata": {
        "id": "2rxI3Bb1uxa2",
        "outputId": "c7352f79-acf5-426c-d7b0-e3db9075f981",
        "colab": {
          "base_uri": "https://localhost:8080/",
          "height": 0
        }
      },
      "source": [
        "X.head()"
      ],
      "execution_count": 715,
      "outputs": [
        {
          "output_type": "execute_result",
          "data": {
            "text/html": [
              "<div>\n",
              "<style scoped>\n",
              "    .dataframe tbody tr th:only-of-type {\n",
              "        vertical-align: middle;\n",
              "    }\n",
              "\n",
              "    .dataframe tbody tr th {\n",
              "        vertical-align: top;\n",
              "    }\n",
              "\n",
              "    .dataframe thead th {\n",
              "        text-align: right;\n",
              "    }\n",
              "</style>\n",
              "<table border=\"1\" class=\"dataframe\">\n",
              "  <thead>\n",
              "    <tr style=\"text-align: right;\">\n",
              "      <th></th>\n",
              "      <th>home_team_rank</th>\n",
              "      <th>rank_change_home</th>\n",
              "      <th>away_team_rank</th>\n",
              "      <th>rank_change_away</th>\n",
              "    </tr>\n",
              "  </thead>\n",
              "  <tbody>\n",
              "    <tr>\n",
              "      <th>0</th>\n",
              "      <td>19</td>\n",
              "      <td>16</td>\n",
              "      <td>67</td>\n",
              "      <td>1</td>\n",
              "    </tr>\n",
              "    <tr>\n",
              "      <th>1</th>\n",
              "      <td>70</td>\n",
              "      <td>8</td>\n",
              "      <td>5</td>\n",
              "      <td>5</td>\n",
              "    </tr>\n",
              "    <tr>\n",
              "      <th>2</th>\n",
              "      <td>22</td>\n",
              "      <td>-6</td>\n",
              "      <td>35</td>\n",
              "      <td>30</td>\n",
              "    </tr>\n",
              "    <tr>\n",
              "      <th>3</th>\n",
              "      <td>94</td>\n",
              "      <td>31</td>\n",
              "      <td>8</td>\n",
              "      <td>-5</td>\n",
              "    </tr>\n",
              "    <tr>\n",
              "      <th>4</th>\n",
              "      <td>58</td>\n",
              "      <td>-7</td>\n",
              "      <td>25</td>\n",
              "      <td>7</td>\n",
              "    </tr>\n",
              "  </tbody>\n",
              "</table>\n",
              "</div>"
            ],
            "text/plain": [
              "   home_team_rank  rank_change_home  away_team_rank  rank_change_away\n",
              "0              19                16              67                 1\n",
              "1              70                 8               5                 5\n",
              "2              22                -6              35                30\n",
              "3              94                31               8                -5\n",
              "4              58                -7              25                 7"
            ]
          },
          "metadata": {
            "tags": []
          },
          "execution_count": 715
        }
      ]
    },
    {
      "cell_type": "code",
      "metadata": {
        "id": "UCsqd1D8uuyN",
        "outputId": "ffb82df4-613c-49ec-9c4c-06cff67423b4",
        "colab": {
          "base_uri": "https://localhost:8080/"
        }
      },
      "source": [
        "y.head()"
      ],
      "execution_count": 716,
      "outputs": [
        {
          "output_type": "execute_result",
          "data": {
            "text/plain": [
              "0    0\n",
              "1    1\n",
              "2    0\n",
              "3    1\n",
              "4    0\n",
              "Name: home_scores, dtype: int64"
            ]
          },
          "metadata": {
            "tags": []
          },
          "execution_count": 716
        }
      ]
    },
    {
      "cell_type": "markdown",
      "metadata": {
        "id": "y8UuiA39dG8K"
      },
      "source": [
        "### 3.2.Fitting the Logistic Regression Model."
      ]
    },
    {
      "cell_type": "code",
      "metadata": {
        "id": "q_-hntOzx4PR",
        "outputId": "431f6bcf-b7e6-4a0a-8325-870b421d2b49",
        "colab": {
          "base_uri": "https://localhost:8080/"
        }
      },
      "source": [
        "from sklearn.model_selection import train_test_split\n",
        "X_train, X_test, y_train, y_test = train_test_split(X, y, test_size = .2, random_state=40)\n",
        "from sklearn.linear_model import LogisticRegression\n",
        "\n",
        "LogReg = LogisticRegression(max_iter=300)\n",
        "LogReg.fit(X_train, y_train)"
      ],
      "execution_count": 509,
      "outputs": [
        {
          "output_type": "execute_result",
          "data": {
            "text/plain": [
              "LogisticRegression(C=1.0, class_weight=None, dual=False, fit_intercept=True,\n",
              "                   intercept_scaling=1, l1_ratio=None, max_iter=300,\n",
              "                   multi_class='auto', n_jobs=None, penalty='l2',\n",
              "                   random_state=None, solver='lbfgs', tol=0.0001, verbose=0,\n",
              "                   warm_start=False)"
            ]
          },
          "metadata": {
            "tags": []
          },
          "execution_count": 509
        }
      ]
    },
    {
      "cell_type": "code",
      "metadata": {
        "id": "5FdVfEft5pQx",
        "outputId": "078c6d4a-a356-4852-af08-82609c917aed",
        "colab": {
          "base_uri": "https://localhost:8080/"
        }
      },
      "source": [
        "LogReg.score(X,y)"
      ],
      "execution_count": 510,
      "outputs": [
        {
          "output_type": "execute_result",
          "data": {
            "text/plain": [
              "0.6360387953037264"
            ]
          },
          "metadata": {
            "tags": []
          },
          "execution_count": 510
        }
      ]
    },
    {
      "cell_type": "code",
      "metadata": {
        "id": "Ido2I5UOx9ae"
      },
      "source": [
        "y_pred = LogReg.predict(X_test)"
      ],
      "execution_count": 511,
      "outputs": []
    },
    {
      "cell_type": "markdown",
      "metadata": {
        "id": "BBGGRmeoixdj"
      },
      "source": [
        ">Evaluating the Model\n",
        ">>I then imported all the necessary libraries and carried out my logistic regression , then I evaluated how well my model worked using the confusion matrix."
      ]
    },
    {
      "cell_type": "code",
      "metadata": {
        "id": "VL_vTzs4yL2M",
        "outputId": "a52ee543-2e2b-4041-9ac2-06b22aa99828",
        "colab": {
          "base_uri": "https://localhost:8080/"
        }
      },
      "source": [
        "from sklearn.metrics import confusion_matrix\n",
        "confusion_matrix = confusion_matrix(y_test, y_pred)\n",
        "confusion_matrix"
      ],
      "execution_count": 512,
      "outputs": [
        {
          "output_type": "execute_result",
          "data": {
            "text/plain": [
              "array([[ 17, 126, 229],\n",
              "       [ 14, 316,  96],\n",
              "       [ 21,  63, 686]])"
            ]
          },
          "metadata": {
            "tags": []
          },
          "execution_count": 512
        }
      ]
    },
    {
      "cell_type": "markdown",
      "metadata": {
        "id": "RSPigFYbi6II"
      },
      "source": [
        ">The model predicts the right outcome 17,316 and 686 times."
      ]
    },
    {
      "cell_type": "markdown",
      "metadata": {
        "id": "Ap3-d9FHjHF5"
      },
      "source": [
        ">Carrying out a Grid Search in order to find the Hyperparameters of the Model , "
      ]
    },
    {
      "cell_type": "code",
      "metadata": {
        "id": "7A-tcxD69xQy"
      },
      "source": [
        "from sklearn.model_selection import GridSearchCV\n",
        "from sklearn.preprocessing import StandardScaler\n",
        "from sklearn.model_selection import RepeatedStratifiedKFold"
      ],
      "execution_count": 613,
      "outputs": []
    },
    {
      "cell_type": "code",
      "metadata": {
        "id": "shNBk5Qm_grx",
        "outputId": "14e13259-1213-45cc-f7be-4eac15e0afcd",
        "colab": {
          "base_uri": "https://localhost:8080/"
        }
      },
      "source": [
        "# define models and parameters\n",
        "model = LogisticRegression(max_iter=1000)\n",
        "solvers = ['newton-cg', 'lbfgs', 'liblinear','saga']\n",
        "penalty = ['l2','l1']\n",
        "c_values = [1.0, 0.1, 0.01,0.001,0.0025,0.003,0.005]\n",
        "# define grid search\n",
        "grid = dict(solver=solvers,penalty=penalty,C=c_values)\n",
        "cv = RepeatedStratifiedKFold(n_splits=10, n_repeats=5, random_state=10)\n",
        "grid_search = GridSearchCV(estimator=model, param_grid=grid, n_jobs=-1, cv=cv, scoring='accuracy',error_score=0)\n",
        "grid_result = grid_search.fit(X_test, y_test)\n",
        "# summarize results\n",
        "print(\"Best: %f using %s\" % (grid_result.best_score_, grid_result.best_params_))\n"
      ],
      "execution_count": 514,
      "outputs": [
        {
          "output_type": "stream",
          "text": [
            "Best: 0.657253 using {'C': 0.1, 'penalty': 'l2', 'solver': 'liblinear'}\n"
          ],
          "name": "stdout"
        }
      ]
    },
    {
      "cell_type": "markdown",
      "metadata": {
        "id": "mf4Rgtc_ZnXm"
      },
      "source": [
        "The best hyperparameters for the model are \n",
        ">* C-value of 0.1\n",
        ">* penalty l2\n",
        ">* solver liblinear"
      ]
    },
    {
      "cell_type": "markdown",
      "metadata": {
        "id": "1heaEj2xP4R-"
      },
      "source": [
        "#4.Polynomial"
      ]
    },
    {
      "cell_type": "markdown",
      "metadata": {
        "id": "6yHU7e6RkWbl"
      },
      "source": [
        ">We are trying to predict the number of Goals scored by a Team, given that the Team is Home or Away based on their rank and also the rank_change of the team as our features."
      ]
    },
    {
      "cell_type": "markdown",
      "metadata": {
        "id": "N2FESMcTtlsm"
      },
      "source": [
        "#### 4.1.Goals scored by the home team.\n",
        "\n",
        "\n",
        ">I opted to evaluate the Number of Goals scored by the Home team based on the\n",
        ">>*   The Rank Column\n",
        ">>*   The Rank Change Column\n",
        ">>*   The type of match being played ie Friendly,World Cup or Other.\n",
        "\n",
        "\n"
      ]
    },
    {
      "cell_type": "code",
      "metadata": {
        "id": "zp4q6UrVDfAG",
        "outputId": "ef225ce8-0b6d-4c30-a087-28ae8ed9f7cf",
        "colab": {
          "base_uri": "https://localhost:8080/",
          "height": 422
        }
      },
      "source": [
        "dataset"
      ],
      "execution_count": 614,
      "outputs": [
        {
          "output_type": "execute_result",
          "data": {
            "text/html": [
              "<div>\n",
              "<style scoped>\n",
              "    .dataframe tbody tr th:only-of-type {\n",
              "        vertical-align: middle;\n",
              "    }\n",
              "\n",
              "    .dataframe tbody tr th {\n",
              "        vertical-align: top;\n",
              "    }\n",
              "\n",
              "    .dataframe thead th {\n",
              "        text-align: right;\n",
              "    }\n",
              "</style>\n",
              "<table border=\"1\" class=\"dataframe\">\n",
              "  <thead>\n",
              "    <tr style=\"text-align: right;\">\n",
              "      <th></th>\n",
              "      <th>home_score</th>\n",
              "      <th>away_score</th>\n",
              "      <th>tournament</th>\n",
              "      <th>neutral</th>\n",
              "      <th>home_team_rank</th>\n",
              "      <th>rank_change_home</th>\n",
              "      <th>away_team_rank</th>\n",
              "      <th>rank_change_away</th>\n",
              "      <th>home_scores</th>\n",
              "      <th>away_scores</th>\n",
              "    </tr>\n",
              "  </thead>\n",
              "  <tbody>\n",
              "    <tr>\n",
              "      <th>0</th>\n",
              "      <td>0</td>\n",
              "      <td>0</td>\n",
              "      <td>2</td>\n",
              "      <td>False</td>\n",
              "      <td>19</td>\n",
              "      <td>16</td>\n",
              "      <td>67</td>\n",
              "      <td>1</td>\n",
              "      <td>0</td>\n",
              "      <td>0</td>\n",
              "    </tr>\n",
              "    <tr>\n",
              "      <th>1</th>\n",
              "      <td>0</td>\n",
              "      <td>1</td>\n",
              "      <td>2</td>\n",
              "      <td>False</td>\n",
              "      <td>70</td>\n",
              "      <td>8</td>\n",
              "      <td>5</td>\n",
              "      <td>5</td>\n",
              "      <td>1</td>\n",
              "      <td>2</td>\n",
              "    </tr>\n",
              "    <tr>\n",
              "      <th>2</th>\n",
              "      <td>0</td>\n",
              "      <td>0</td>\n",
              "      <td>2</td>\n",
              "      <td>False</td>\n",
              "      <td>22</td>\n",
              "      <td>-6</td>\n",
              "      <td>35</td>\n",
              "      <td>30</td>\n",
              "      <td>0</td>\n",
              "      <td>0</td>\n",
              "    </tr>\n",
              "    <tr>\n",
              "      <th>3</th>\n",
              "      <td>1</td>\n",
              "      <td>5</td>\n",
              "      <td>2</td>\n",
              "      <td>False</td>\n",
              "      <td>94</td>\n",
              "      <td>31</td>\n",
              "      <td>8</td>\n",
              "      <td>-5</td>\n",
              "      <td>1</td>\n",
              "      <td>2</td>\n",
              "    </tr>\n",
              "    <tr>\n",
              "      <th>4</th>\n",
              "      <td>0</td>\n",
              "      <td>0</td>\n",
              "      <td>2</td>\n",
              "      <td>True</td>\n",
              "      <td>58</td>\n",
              "      <td>-7</td>\n",
              "      <td>25</td>\n",
              "      <td>7</td>\n",
              "      <td>0</td>\n",
              "      <td>0</td>\n",
              "    </tr>\n",
              "    <tr>\n",
              "      <th>...</th>\n",
              "      <td>...</td>\n",
              "      <td>...</td>\n",
              "      <td>...</td>\n",
              "      <td>...</td>\n",
              "      <td>...</td>\n",
              "      <td>...</td>\n",
              "      <td>...</td>\n",
              "      <td>...</td>\n",
              "      <td>...</td>\n",
              "      <td>...</td>\n",
              "    </tr>\n",
              "    <tr>\n",
              "      <th>8149</th>\n",
              "      <td>3</td>\n",
              "      <td>0</td>\n",
              "      <td>0</td>\n",
              "      <td>False</td>\n",
              "      <td>117</td>\n",
              "      <td>0</td>\n",
              "      <td>105</td>\n",
              "      <td>21</td>\n",
              "      <td>2</td>\n",
              "      <td>1</td>\n",
              "    </tr>\n",
              "    <tr>\n",
              "      <th>8150</th>\n",
              "      <td>1</td>\n",
              "      <td>1</td>\n",
              "      <td>0</td>\n",
              "      <td>False</td>\n",
              "      <td>126</td>\n",
              "      <td>7</td>\n",
              "      <td>129</td>\n",
              "      <td>10</td>\n",
              "      <td>0</td>\n",
              "      <td>0</td>\n",
              "    </tr>\n",
              "    <tr>\n",
              "      <th>8151</th>\n",
              "      <td>0</td>\n",
              "      <td>1</td>\n",
              "      <td>1</td>\n",
              "      <td>True</td>\n",
              "      <td>123</td>\n",
              "      <td>-2</td>\n",
              "      <td>120</td>\n",
              "      <td>13</td>\n",
              "      <td>1</td>\n",
              "      <td>2</td>\n",
              "    </tr>\n",
              "    <tr>\n",
              "      <th>8152</th>\n",
              "      <td>1</td>\n",
              "      <td>0</td>\n",
              "      <td>0</td>\n",
              "      <td>False</td>\n",
              "      <td>53</td>\n",
              "      <td>-5</td>\n",
              "      <td>55</td>\n",
              "      <td>0</td>\n",
              "      <td>2</td>\n",
              "      <td>1</td>\n",
              "    </tr>\n",
              "    <tr>\n",
              "      <th>8153</th>\n",
              "      <td>1</td>\n",
              "      <td>1</td>\n",
              "      <td>0</td>\n",
              "      <td>False</td>\n",
              "      <td>78</td>\n",
              "      <td>1</td>\n",
              "      <td>51</td>\n",
              "      <td>-2</td>\n",
              "      <td>0</td>\n",
              "      <td>0</td>\n",
              "    </tr>\n",
              "  </tbody>\n",
              "</table>\n",
              "<p>7836 rows × 10 columns</p>\n",
              "</div>"
            ],
            "text/plain": [
              "      home_score  away_score  ...  home_scores  away_scores\n",
              "0              0           0  ...            0            0\n",
              "1              0           1  ...            1            2\n",
              "2              0           0  ...            0            0\n",
              "3              1           5  ...            1            2\n",
              "4              0           0  ...            0            0\n",
              "...          ...         ...  ...          ...          ...\n",
              "8149           3           0  ...            2            1\n",
              "8150           1           1  ...            0            0\n",
              "8151           0           1  ...            1            2\n",
              "8152           1           0  ...            2            1\n",
              "8153           1           1  ...            0            0\n",
              "\n",
              "[7836 rows x 10 columns]"
            ]
          },
          "metadata": {
            "tags": []
          },
          "execution_count": 614
        }
      ]
    },
    {
      "cell_type": "code",
      "metadata": {
        "id": "4WP_2WExZobp"
      },
      "source": [
        "dataset.drop(['away_score','away_team_rank','home_scores','neutral','rank_change_away','away_scores','away_score'],axis=1,inplace=True)"
      ],
      "execution_count": 615,
      "outputs": []
    },
    {
      "cell_type": "code",
      "metadata": {
        "id": "61K6dcgeRg6X",
        "outputId": "30a724d8-728f-4b1f-8982-9e4b6239d553",
        "colab": {
          "base_uri": "https://localhost:8080/",
          "height": 402
        }
      },
      "source": [
        "dataset"
      ],
      "execution_count": 616,
      "outputs": [
        {
          "output_type": "execute_result",
          "data": {
            "text/html": [
              "<div>\n",
              "<style scoped>\n",
              "    .dataframe tbody tr th:only-of-type {\n",
              "        vertical-align: middle;\n",
              "    }\n",
              "\n",
              "    .dataframe tbody tr th {\n",
              "        vertical-align: top;\n",
              "    }\n",
              "\n",
              "    .dataframe thead th {\n",
              "        text-align: right;\n",
              "    }\n",
              "</style>\n",
              "<table border=\"1\" class=\"dataframe\">\n",
              "  <thead>\n",
              "    <tr style=\"text-align: right;\">\n",
              "      <th></th>\n",
              "      <th>home_score</th>\n",
              "      <th>tournament</th>\n",
              "      <th>home_team_rank</th>\n",
              "      <th>rank_change_home</th>\n",
              "    </tr>\n",
              "  </thead>\n",
              "  <tbody>\n",
              "    <tr>\n",
              "      <th>0</th>\n",
              "      <td>0</td>\n",
              "      <td>2</td>\n",
              "      <td>19</td>\n",
              "      <td>16</td>\n",
              "    </tr>\n",
              "    <tr>\n",
              "      <th>1</th>\n",
              "      <td>0</td>\n",
              "      <td>2</td>\n",
              "      <td>70</td>\n",
              "      <td>8</td>\n",
              "    </tr>\n",
              "    <tr>\n",
              "      <th>2</th>\n",
              "      <td>0</td>\n",
              "      <td>2</td>\n",
              "      <td>22</td>\n",
              "      <td>-6</td>\n",
              "    </tr>\n",
              "    <tr>\n",
              "      <th>3</th>\n",
              "      <td>1</td>\n",
              "      <td>2</td>\n",
              "      <td>94</td>\n",
              "      <td>31</td>\n",
              "    </tr>\n",
              "    <tr>\n",
              "      <th>4</th>\n",
              "      <td>0</td>\n",
              "      <td>2</td>\n",
              "      <td>58</td>\n",
              "      <td>-7</td>\n",
              "    </tr>\n",
              "    <tr>\n",
              "      <th>...</th>\n",
              "      <td>...</td>\n",
              "      <td>...</td>\n",
              "      <td>...</td>\n",
              "      <td>...</td>\n",
              "    </tr>\n",
              "    <tr>\n",
              "      <th>8149</th>\n",
              "      <td>3</td>\n",
              "      <td>0</td>\n",
              "      <td>117</td>\n",
              "      <td>0</td>\n",
              "    </tr>\n",
              "    <tr>\n",
              "      <th>8150</th>\n",
              "      <td>1</td>\n",
              "      <td>0</td>\n",
              "      <td>126</td>\n",
              "      <td>7</td>\n",
              "    </tr>\n",
              "    <tr>\n",
              "      <th>8151</th>\n",
              "      <td>0</td>\n",
              "      <td>1</td>\n",
              "      <td>123</td>\n",
              "      <td>-2</td>\n",
              "    </tr>\n",
              "    <tr>\n",
              "      <th>8152</th>\n",
              "      <td>1</td>\n",
              "      <td>0</td>\n",
              "      <td>53</td>\n",
              "      <td>-5</td>\n",
              "    </tr>\n",
              "    <tr>\n",
              "      <th>8153</th>\n",
              "      <td>1</td>\n",
              "      <td>0</td>\n",
              "      <td>78</td>\n",
              "      <td>1</td>\n",
              "    </tr>\n",
              "  </tbody>\n",
              "</table>\n",
              "<p>7836 rows × 4 columns</p>\n",
              "</div>"
            ],
            "text/plain": [
              "      home_score  tournament  home_team_rank  rank_change_home\n",
              "0              0           2              19                16\n",
              "1              0           2              70                 8\n",
              "2              0           2              22                -6\n",
              "3              1           2              94                31\n",
              "4              0           2              58                -7\n",
              "...          ...         ...             ...               ...\n",
              "8149           3           0             117                 0\n",
              "8150           1           0             126                 7\n",
              "8151           0           1             123                -2\n",
              "8152           1           0              53                -5\n",
              "8153           1           0              78                 1\n",
              "\n",
              "[7836 rows x 4 columns]"
            ]
          },
          "metadata": {
            "tags": []
          },
          "execution_count": 616
        }
      ]
    },
    {
      "cell_type": "code",
      "metadata": {
        "id": "aLu-ZYPW77-l"
      },
      "source": [
        "X = dataset.iloc[:,1:4]"
      ],
      "execution_count": 617,
      "outputs": []
    },
    {
      "cell_type": "markdown",
      "metadata": {
        "id": "ph1q4lovxbCF"
      },
      "source": [
        "Checking the correlation and the VIF of the  columns:\n",
        "\n",
        "\n",
        "The columns are not highly correlated and they have a low VIF score therefore we use them in our analysis."
      ]
    },
    {
      "cell_type": "code",
      "metadata": {
        "id": "0Ejhn-GVuGK8",
        "outputId": "ab8b7ee6-fb85-4dec-e477-94fae1689a7b",
        "colab": {
          "base_uri": "https://localhost:8080/",
          "height": 374
        }
      },
      "source": [
        "plt.subplots(figsize=(4,4))\n",
        "sns.heatmap(X.corr(),annot=True)"
      ],
      "execution_count": 618,
      "outputs": [
        {
          "output_type": "execute_result",
          "data": {
            "text/plain": [
              "<matplotlib.axes._subplots.AxesSubplot at 0x7f451e975828>"
            ]
          },
          "metadata": {
            "tags": []
          },
          "execution_count": 618
        },
        {
          "output_type": "display_data",
          "data": {
            "image/png": "[encoded data removed]",
            "text/plain": [
              "<Figure size 288x288 with 2 Axes>"
            ]
          },
          "metadata": {
            "tags": [],
            "needs_background": "light"
          }
        }
      ]
    },
    {
      "cell_type": "code",
      "metadata": {
        "id": "4WInaz1fruy8",
        "outputId": "b7cf5221-ee5e-4fc9-9020-a6948b48a7c8",
        "colab": {
          "base_uri": "https://localhost:8080/",
          "height": 136
        }
      },
      "source": [
        "correlations = X.corr()\n",
        "pd.DataFrame(np.linalg.inv(correlations.values), index = correlations.index, columns=correlations.columns)\n"
      ],
      "execution_count": 619,
      "outputs": [
        {
          "output_type": "execute_result",
          "data": {
            "text/html": [
              "<div>\n",
              "<style scoped>\n",
              "    .dataframe tbody tr th:only-of-type {\n",
              "        vertical-align: middle;\n",
              "    }\n",
              "\n",
              "    .dataframe tbody tr th {\n",
              "        vertical-align: top;\n",
              "    }\n",
              "\n",
              "    .dataframe thead th {\n",
              "        text-align: right;\n",
              "    }\n",
              "</style>\n",
              "<table border=\"1\" class=\"dataframe\">\n",
              "  <thead>\n",
              "    <tr style=\"text-align: right;\">\n",
              "      <th></th>\n",
              "      <th>tournament</th>\n",
              "      <th>home_team_rank</th>\n",
              "      <th>rank_change_home</th>\n",
              "    </tr>\n",
              "  </thead>\n",
              "  <tbody>\n",
              "    <tr>\n",
              "      <th>tournament</th>\n",
              "      <td>1.006683</td>\n",
              "      <td>0.013668</td>\n",
              "      <td>-0.081162</td>\n",
              "    </tr>\n",
              "    <tr>\n",
              "      <th>home_team_rank</th>\n",
              "      <td>0.013668</td>\n",
              "      <td>1.000628</td>\n",
              "      <td>-0.022145</td>\n",
              "    </tr>\n",
              "    <tr>\n",
              "      <th>rank_change_home</th>\n",
              "      <td>-0.081162</td>\n",
              "      <td>-0.022145</td>\n",
              "      <td>1.006986</td>\n",
              "    </tr>\n",
              "  </tbody>\n",
              "</table>\n",
              "</div>"
            ],
            "text/plain": [
              "                  tournament  home_team_rank  rank_change_home\n",
              "tournament          1.006683        0.013668         -0.081162\n",
              "home_team_rank      0.013668        1.000628         -0.022145\n",
              "rank_change_home   -0.081162       -0.022145          1.006986"
            ]
          },
          "metadata": {
            "tags": []
          },
          "execution_count": 619
        }
      ]
    },
    {
      "cell_type": "code",
      "metadata": {
        "id": "xrKHCR8czaSX"
      },
      "source": [
        "from sklearn.preprocessing import PolynomialFeatures\n",
        "from sklearn.model_selection import train_test_split\n",
        "from sklearn.linear_model import LinearRegression\n"
      ],
      "execution_count": 620,
      "outputs": []
    },
    {
      "cell_type": "code",
      "metadata": {
        "id": "7aqqGF8QTIFY"
      },
      "source": [
        "X = dataset.iloc[:,1:4].values\n",
        "y = dataset.iloc[:,0].values"
      ],
      "execution_count": 621,
      "outputs": []
    },
    {
      "cell_type": "code",
      "metadata": {
        "id": "XeyWwoavN-ei",
        "outputId": "63cf34e0-0d18-4e0e-ac85-890d1d4fb033",
        "colab": {
          "base_uri": "https://localhost:8080/"
        }
      },
      "source": [
        "X"
      ],
      "execution_count": 622,
      "outputs": [
        {
          "output_type": "execute_result",
          "data": {
            "text/plain": [
              "array([[  2,  19,  16],\n",
              "       [  2,  70,   8],\n",
              "       [  2,  22,  -6],\n",
              "       ...,\n",
              "       [  1, 123,  -2],\n",
              "       [  0,  53,  -5],\n",
              "       [  0,  78,   1]])"
            ]
          },
          "metadata": {
            "tags": []
          },
          "execution_count": 622
        }
      ]
    },
    {
      "cell_type": "code",
      "metadata": {
        "id": "vVSrgB2aFfPy",
        "outputId": "ca3ffb5b-e600-4185-c21c-c392163b2676",
        "colab": {
          "base_uri": "https://localhost:8080/"
        }
      },
      "source": [
        "y"
      ],
      "execution_count": 623,
      "outputs": [
        {
          "output_type": "execute_result",
          "data": {
            "text/plain": [
              "array([0, 0, 0, ..., 0, 1, 1])"
            ]
          },
          "metadata": {
            "tags": []
          },
          "execution_count": 623
        }
      ]
    },
    {
      "cell_type": "markdown",
      "metadata": {
        "id": "4p8Q66Wvbxic"
      },
      "source": [
        "> I first fit my features to a linear regression model."
      ]
    },
    {
      "cell_type": "code",
      "metadata": {
        "id": "o2iiJ1OL9yWQ",
        "outputId": "6b14bd09-39de-4401-f754-059f990055b1",
        "colab": {
          "base_uri": "https://localhost:8080/",
          "height": 402
        }
      },
      "source": [
        "from sklearn import linear_model\n",
        "from sklearn.model_selection import train_test_split\n",
        "X_train, X_test, Y_train, Y_test = train_test_split(X, y, test_size = .20, random_state = 40)\n",
        "regr = LinearRegression()\n",
        "regr.fit(X_train, Y_train)\n",
        "#regr = linear_model.LinearRegression() \n",
        "#regr.fit(X_train, Y_train)\n",
        "predicted = regr.predict(X_test)\n",
        "df = pd.DataFrame({'Actual': Y_test, 'Predicted': predicted})\n",
        "df"
      ],
      "execution_count": 624,
      "outputs": [
        {
          "output_type": "execute_result",
          "data": {
            "text/html": [
              "<div>\n",
              "<style scoped>\n",
              "    .dataframe tbody tr th:only-of-type {\n",
              "        vertical-align: middle;\n",
              "    }\n",
              "\n",
              "    .dataframe tbody tr th {\n",
              "        vertical-align: top;\n",
              "    }\n",
              "\n",
              "    .dataframe thead th {\n",
              "        text-align: right;\n",
              "    }\n",
              "</style>\n",
              "<table border=\"1\" class=\"dataframe\">\n",
              "  <thead>\n",
              "    <tr style=\"text-align: right;\">\n",
              "      <th></th>\n",
              "      <th>Actual</th>\n",
              "      <th>Predicted</th>\n",
              "    </tr>\n",
              "  </thead>\n",
              "  <tbody>\n",
              "    <tr>\n",
              "      <th>0</th>\n",
              "      <td>1</td>\n",
              "      <td>1.389029</td>\n",
              "    </tr>\n",
              "    <tr>\n",
              "      <th>1</th>\n",
              "      <td>3</td>\n",
              "      <td>1.520133</td>\n",
              "    </tr>\n",
              "    <tr>\n",
              "      <th>2</th>\n",
              "      <td>2</td>\n",
              "      <td>1.110398</td>\n",
              "    </tr>\n",
              "    <tr>\n",
              "      <th>3</th>\n",
              "      <td>2</td>\n",
              "      <td>1.887585</td>\n",
              "    </tr>\n",
              "    <tr>\n",
              "      <th>4</th>\n",
              "      <td>5</td>\n",
              "      <td>1.814676</td>\n",
              "    </tr>\n",
              "    <tr>\n",
              "      <th>...</th>\n",
              "      <td>...</td>\n",
              "      <td>...</td>\n",
              "    </tr>\n",
              "    <tr>\n",
              "      <th>1563</th>\n",
              "      <td>3</td>\n",
              "      <td>1.900728</td>\n",
              "    </tr>\n",
              "    <tr>\n",
              "      <th>1564</th>\n",
              "      <td>1</td>\n",
              "      <td>1.761607</td>\n",
              "    </tr>\n",
              "    <tr>\n",
              "      <th>1565</th>\n",
              "      <td>0</td>\n",
              "      <td>1.407536</td>\n",
              "    </tr>\n",
              "    <tr>\n",
              "      <th>1566</th>\n",
              "      <td>0</td>\n",
              "      <td>1.228317</td>\n",
              "    </tr>\n",
              "    <tr>\n",
              "      <th>1567</th>\n",
              "      <td>2</td>\n",
              "      <td>1.911155</td>\n",
              "    </tr>\n",
              "  </tbody>\n",
              "</table>\n",
              "<p>1568 rows × 2 columns</p>\n",
              "</div>"
            ],
            "text/plain": [
              "      Actual  Predicted\n",
              "0          1   1.389029\n",
              "1          3   1.520133\n",
              "2          2   1.110398\n",
              "3          2   1.887585\n",
              "4          5   1.814676\n",
              "...      ...        ...\n",
              "1563       3   1.900728\n",
              "1564       1   1.761607\n",
              "1565       0   1.407536\n",
              "1566       0   1.228317\n",
              "1567       2   1.911155\n",
              "\n",
              "[1568 rows x 2 columns]"
            ]
          },
          "metadata": {
            "tags": []
          },
          "execution_count": 624
        }
      ]
    },
    {
      "cell_type": "code",
      "metadata": {
        "id": "0x4qlNxROY0d",
        "outputId": "5aad9ad0-c95d-4c0b-ebf5-cacc760e6090",
        "colab": {
          "base_uri": "https://localhost:8080/"
        }
      },
      "source": [
        "from sklearn.metrics import r2_score\n",
        "r2_score(Y_test,predicted)"
      ],
      "execution_count": 625,
      "outputs": [
        {
          "output_type": "execute_result",
          "data": {
            "text/plain": [
              "0.06061863469025386"
            ]
          },
          "metadata": {
            "tags": []
          },
          "execution_count": 625
        }
      ]
    },
    {
      "cell_type": "markdown",
      "metadata": {
        "id": "yDm2-6aHbbpF"
      },
      "source": [
        ">The coeffiecient of determination of the model appears to be low , which is alarming.\n",
        "\n",
        ">Importing the necessary libraries and fitting the polynomial  model we then have :"
      ]
    },
    {
      "cell_type": "code",
      "metadata": {
        "id": "UVVBIYNzTBIC",
        "outputId": "7eedf1b8-131f-4712-8948-9a4a5a83592e",
        "colab": {
          "base_uri": "https://localhost:8080/"
        }
      },
      "source": [
        "poly_reg = PolynomialFeatures(degree=3) \n",
        "X_poly = poly_reg.fit_transform(X)\n",
        "\n",
        "\n",
        "pol_reg = LinearRegression()\n",
        "pol_reg.fit(X_poly, y)\n",
        "y_pred = pol_reg.predict(X_poly)\n",
        "y_pred"
      ],
      "execution_count": 626,
      "outputs": [
        {
          "output_type": "execute_result",
          "data": {
            "text/plain": [
              "array([2.32805742, 1.76354256, 1.59406668, ..., 1.21554175, 1.20807228,\n",
              "       1.36768751])"
            ]
          },
          "metadata": {
            "tags": []
          },
          "execution_count": 626
        }
      ]
    },
    {
      "cell_type": "code",
      "metadata": {
        "id": "CnNaDgudWAfB",
        "outputId": "48c5ebeb-f1d8-4bcd-d493-4ee70523210a",
        "colab": {
          "base_uri": "https://localhost:8080/"
        }
      },
      "source": [
        "pol_reg.coef_"
      ],
      "execution_count": 627,
      "outputs": [
        {
          "output_type": "execute_result",
          "data": {
            "text/plain": [
              "array([ 0.00000000e+00,  1.49567278e-01, -1.26254650e-02,  3.23547185e-02,\n",
              "        8.74429656e-02, -9.39027861e-04, -1.63855983e-02,  1.05340210e-04,\n",
              "        1.41623716e-04, -5.01539516e-04, -3.68056599e-02, -4.08917412e-04,\n",
              "        9.28655381e-03, -2.73818953e-06,  3.27001690e-05, -1.62886948e-04,\n",
              "       -3.07389064e-07, -9.24757018e-07,  3.96601161e-06, -6.43291620e-06])"
            ]
          },
          "metadata": {
            "tags": []
          },
          "execution_count": 627
        }
      ]
    },
    {
      "cell_type": "code",
      "metadata": {
        "id": "tbw26y0lEB3Y",
        "outputId": "9f5c64ce-663c-4b75-e7ac-8511383f9e0f",
        "colab": {
          "base_uri": "https://localhost:8080/"
        }
      },
      "source": [
        "poly_pred = pol_reg.predict(poly_reg.fit_transform([[1,2,30]]))\n",
        "print('Goals Scored by the Home Team: %d' %poly_pred)\n"
      ],
      "execution_count": 629,
      "outputs": [
        {
          "output_type": "stream",
          "text": [
            "Goals Scored by the Home Team: 1\n"
          ],
          "name": "stdout"
        }
      ]
    },
    {
      "cell_type": "markdown",
      "metadata": {
        "id": "HHu1xfqbzbRu"
      },
      "source": [
        ">I based the Regression equation on both the rank of the home_team and the change of the rank and the type of tournament being played with these three features I then proceeded to predict the number of goals scored by the home team. \n",
        "\n",
        ">Investigating for multicollinearity there was none as I used the three columns which had a very low VIF score."
      ]
    },
    {
      "cell_type": "code",
      "metadata": {
        "id": "-dY6gTCbQxhJ",
        "outputId": "2bcd7f06-f263-42ff-c973-a3d84210c622",
        "colab": {
          "base_uri": "https://localhost:8080/"
        }
      },
      "source": [
        "from sklearn import metrics\n",
        "print('Mean Absolute Error:', metrics.mean_absolute_error(y, y_pred))\n",
        "print('Mean Squared Error:', metrics.mean_squared_error(y, y_pred))\n",
        "print('Root Mean Squared Error:', np.sqrt(metrics.mean_squared_error(y, y_pred)))\n"
      ],
      "execution_count": 630,
      "outputs": [
        {
          "output_type": "stream",
          "text": [
            "Mean Absolute Error: 1.0075365611668539\n",
            "Mean Squared Error: 1.579055282533393\n",
            "Root Mean Squared Error: 1.2566046643767455\n"
          ],
          "name": "stdout"
        }
      ]
    },
    {
      "cell_type": "markdown",
      "metadata": {
        "id": "VtzssYCk0Igt"
      },
      "source": [
        "The RMSE was higher than expected and this shall be corrected in due time."
      ]
    },
    {
      "cell_type": "markdown",
      "metadata": {
        "id": "FgEgrUuFcd96"
      },
      "source": [
        "Checking the residuals for the model "
      ]
    },
    {
      "cell_type": "code",
      "metadata": {
        "id": "B8uRczqTnmDx",
        "outputId": "8eb8a710-c9c2-487c-da82-3e421ddc7cbc",
        "colab": {
          "base_uri": "https://localhost:8080/"
        }
      },
      "source": [
        "residuals = np.subtract(y_pred, y)\n",
        "\n",
        "pd.DataFrame(residuals).describe()\n",
        "\n",
        "residuals.mean()"
      ],
      "execution_count": 631,
      "outputs": [
        {
          "output_type": "execute_result",
          "data": {
            "text/plain": [
              "-3.627068584788669e-18"
            ]
          },
          "metadata": {
            "tags": []
          },
          "execution_count": 631
        }
      ]
    },
    {
      "cell_type": "markdown",
      "metadata": {
        "id": "QG2b-Ok4gqk8"
      },
      "source": [
        ">Testing for Heteroskedasticity using the Barlett test our null hypothesis is that the data has equal variance and thus given that the critical value which can be seen to be tending to infinity(lol) is greater than the test statistic we fail to reject the null hypothesis of equal variance and conclude that the model is Homoscedastic."
      ]
    },
    {
      "cell_type": "code",
      "metadata": {
        "id": "uGfvxaj3nks3",
        "outputId": "881f3145-f554-42b3-93d0-44fc8bd3f4ec",
        "colab": {
          "base_uri": "https://localhost:8080/"
        }
      },
      "source": [
        "import scipy as sp\n",
        "\n",
        "test_result, p_value = sp.stats.bartlett(y_pred, residuals)\n",
        "\n",
        "degree_of_freedom = len(y_pred)-1\n",
        "probability = 1 - p_value\n",
        "\n",
        "critical_value = sp.stats.chi2.ppf(probability, degree_of_freedom)\n",
        "print(test_result,p_value)\n",
        "print(critical_value)"
      ],
      "execution_count": 632,
      "outputs": [
        {
          "output_type": "stream",
          "text": [
            "10164.232815121233 0.0\n",
            "inf\n"
          ],
          "name": "stdout"
        }
      ]
    },
    {
      "cell_type": "markdown",
      "metadata": {
        "id": "XfabyASw0Ypb"
      },
      "source": [
        ">The test_result is less than the critical value therefore we fail to reject the null hypothesis and conclude that the model has a constant variance."
      ]
    },
    {
      "cell_type": "markdown",
      "metadata": {
        "id": "FOkLk6NV1AH-"
      },
      "source": [
        "#### 4.2.Goals scored by the away team.\n",
        "\n",
        "\n",
        "I opted to evaluate the Number of Goals scored by the Away team based on the\n",
        "\n",
        "\n",
        "\n",
        ">*   The Rank Column\n",
        ">*   The Rank Change Column\n",
        ">*   The type of Tournament\n",
        "\n",
        "\n"
      ]
    },
    {
      "cell_type": "code",
      "metadata": {
        "id": "mC3onQv71AIC",
        "outputId": "effadec6-e145-471d-c902-b1da3f010c04",
        "colab": {
          "base_uri": "https://localhost:8080/",
          "height": 422
        }
      },
      "source": [
        "dataset"
      ],
      "execution_count": 717,
      "outputs": [
        {
          "output_type": "execute_result",
          "data": {
            "text/html": [
              "<div>\n",
              "<style scoped>\n",
              "    .dataframe tbody tr th:only-of-type {\n",
              "        vertical-align: middle;\n",
              "    }\n",
              "\n",
              "    .dataframe tbody tr th {\n",
              "        vertical-align: top;\n",
              "    }\n",
              "\n",
              "    .dataframe thead th {\n",
              "        text-align: right;\n",
              "    }\n",
              "</style>\n",
              "<table border=\"1\" class=\"dataframe\">\n",
              "  <thead>\n",
              "    <tr style=\"text-align: right;\">\n",
              "      <th></th>\n",
              "      <th>home_score</th>\n",
              "      <th>away_score</th>\n",
              "      <th>tournament</th>\n",
              "      <th>neutral</th>\n",
              "      <th>home_team_rank</th>\n",
              "      <th>rank_change_home</th>\n",
              "      <th>away_team_rank</th>\n",
              "      <th>rank_change_away</th>\n",
              "      <th>home_scores</th>\n",
              "      <th>away_scores</th>\n",
              "    </tr>\n",
              "  </thead>\n",
              "  <tbody>\n",
              "    <tr>\n",
              "      <th>0</th>\n",
              "      <td>0</td>\n",
              "      <td>0</td>\n",
              "      <td>2</td>\n",
              "      <td>False</td>\n",
              "      <td>19</td>\n",
              "      <td>16</td>\n",
              "      <td>67</td>\n",
              "      <td>1</td>\n",
              "      <td>0</td>\n",
              "      <td>0</td>\n",
              "    </tr>\n",
              "    <tr>\n",
              "      <th>1</th>\n",
              "      <td>0</td>\n",
              "      <td>1</td>\n",
              "      <td>2</td>\n",
              "      <td>False</td>\n",
              "      <td>70</td>\n",
              "      <td>8</td>\n",
              "      <td>5</td>\n",
              "      <td>5</td>\n",
              "      <td>1</td>\n",
              "      <td>2</td>\n",
              "    </tr>\n",
              "    <tr>\n",
              "      <th>2</th>\n",
              "      <td>0</td>\n",
              "      <td>0</td>\n",
              "      <td>2</td>\n",
              "      <td>False</td>\n",
              "      <td>22</td>\n",
              "      <td>-6</td>\n",
              "      <td>35</td>\n",
              "      <td>30</td>\n",
              "      <td>0</td>\n",
              "      <td>0</td>\n",
              "    </tr>\n",
              "    <tr>\n",
              "      <th>3</th>\n",
              "      <td>1</td>\n",
              "      <td>5</td>\n",
              "      <td>2</td>\n",
              "      <td>False</td>\n",
              "      <td>94</td>\n",
              "      <td>31</td>\n",
              "      <td>8</td>\n",
              "      <td>-5</td>\n",
              "      <td>1</td>\n",
              "      <td>2</td>\n",
              "    </tr>\n",
              "    <tr>\n",
              "      <th>4</th>\n",
              "      <td>0</td>\n",
              "      <td>0</td>\n",
              "      <td>2</td>\n",
              "      <td>True</td>\n",
              "      <td>58</td>\n",
              "      <td>-7</td>\n",
              "      <td>25</td>\n",
              "      <td>7</td>\n",
              "      <td>0</td>\n",
              "      <td>0</td>\n",
              "    </tr>\n",
              "    <tr>\n",
              "      <th>...</th>\n",
              "      <td>...</td>\n",
              "      <td>...</td>\n",
              "      <td>...</td>\n",
              "      <td>...</td>\n",
              "      <td>...</td>\n",
              "      <td>...</td>\n",
              "      <td>...</td>\n",
              "      <td>...</td>\n",
              "      <td>...</td>\n",
              "      <td>...</td>\n",
              "    </tr>\n",
              "    <tr>\n",
              "      <th>8149</th>\n",
              "      <td>3</td>\n",
              "      <td>0</td>\n",
              "      <td>0</td>\n",
              "      <td>False</td>\n",
              "      <td>117</td>\n",
              "      <td>0</td>\n",
              "      <td>105</td>\n",
              "      <td>21</td>\n",
              "      <td>2</td>\n",
              "      <td>1</td>\n",
              "    </tr>\n",
              "    <tr>\n",
              "      <th>8150</th>\n",
              "      <td>1</td>\n",
              "      <td>1</td>\n",
              "      <td>0</td>\n",
              "      <td>False</td>\n",
              "      <td>126</td>\n",
              "      <td>7</td>\n",
              "      <td>129</td>\n",
              "      <td>10</td>\n",
              "      <td>0</td>\n",
              "      <td>0</td>\n",
              "    </tr>\n",
              "    <tr>\n",
              "      <th>8151</th>\n",
              "      <td>0</td>\n",
              "      <td>1</td>\n",
              "      <td>1</td>\n",
              "      <td>True</td>\n",
              "      <td>123</td>\n",
              "      <td>-2</td>\n",
              "      <td>120</td>\n",
              "      <td>13</td>\n",
              "      <td>1</td>\n",
              "      <td>2</td>\n",
              "    </tr>\n",
              "    <tr>\n",
              "      <th>8152</th>\n",
              "      <td>1</td>\n",
              "      <td>0</td>\n",
              "      <td>0</td>\n",
              "      <td>False</td>\n",
              "      <td>53</td>\n",
              "      <td>-5</td>\n",
              "      <td>55</td>\n",
              "      <td>0</td>\n",
              "      <td>2</td>\n",
              "      <td>1</td>\n",
              "    </tr>\n",
              "    <tr>\n",
              "      <th>8153</th>\n",
              "      <td>1</td>\n",
              "      <td>1</td>\n",
              "      <td>0</td>\n",
              "      <td>False</td>\n",
              "      <td>78</td>\n",
              "      <td>1</td>\n",
              "      <td>51</td>\n",
              "      <td>-2</td>\n",
              "      <td>0</td>\n",
              "      <td>0</td>\n",
              "    </tr>\n",
              "  </tbody>\n",
              "</table>\n",
              "<p>7836 rows × 10 columns</p>\n",
              "</div>"
            ],
            "text/plain": [
              "      home_score  away_score  ...  home_scores  away_scores\n",
              "0              0           0  ...            0            0\n",
              "1              0           1  ...            1            2\n",
              "2              0           0  ...            0            0\n",
              "3              1           5  ...            1            2\n",
              "4              0           0  ...            0            0\n",
              "...          ...         ...  ...          ...          ...\n",
              "8149           3           0  ...            2            1\n",
              "8150           1           1  ...            0            0\n",
              "8151           0           1  ...            1            2\n",
              "8152           1           0  ...            2            1\n",
              "8153           1           1  ...            0            0\n",
              "\n",
              "[7836 rows x 10 columns]"
            ]
          },
          "metadata": {
            "tags": []
          },
          "execution_count": 717
        }
      ]
    },
    {
      "cell_type": "code",
      "metadata": {
        "id": "voHKy7yw1AIK"
      },
      "source": [
        "dataset.drop(['home_score','home_scores','home_team_rank','neutral','rank_change_home','away_scores'],axis=1,inplace=True)"
      ],
      "execution_count": 718,
      "outputs": []
    },
    {
      "cell_type": "code",
      "metadata": {
        "id": "E9ucIWpr1AIX",
        "outputId": "be0964f6-45b7-48d5-85ea-d6739e1c072b",
        "colab": {
          "base_uri": "https://localhost:8080/",
          "height": 402
        }
      },
      "source": [
        "dataset"
      ],
      "execution_count": 719,
      "outputs": [
        {
          "output_type": "execute_result",
          "data": {
            "text/html": [
              "<div>\n",
              "<style scoped>\n",
              "    .dataframe tbody tr th:only-of-type {\n",
              "        vertical-align: middle;\n",
              "    }\n",
              "\n",
              "    .dataframe tbody tr th {\n",
              "        vertical-align: top;\n",
              "    }\n",
              "\n",
              "    .dataframe thead th {\n",
              "        text-align: right;\n",
              "    }\n",
              "</style>\n",
              "<table border=\"1\" class=\"dataframe\">\n",
              "  <thead>\n",
              "    <tr style=\"text-align: right;\">\n",
              "      <th></th>\n",
              "      <th>away_score</th>\n",
              "      <th>tournament</th>\n",
              "      <th>away_team_rank</th>\n",
              "      <th>rank_change_away</th>\n",
              "    </tr>\n",
              "  </thead>\n",
              "  <tbody>\n",
              "    <tr>\n",
              "      <th>0</th>\n",
              "      <td>0</td>\n",
              "      <td>2</td>\n",
              "      <td>67</td>\n",
              "      <td>1</td>\n",
              "    </tr>\n",
              "    <tr>\n",
              "      <th>1</th>\n",
              "      <td>1</td>\n",
              "      <td>2</td>\n",
              "      <td>5</td>\n",
              "      <td>5</td>\n",
              "    </tr>\n",
              "    <tr>\n",
              "      <th>2</th>\n",
              "      <td>0</td>\n",
              "      <td>2</td>\n",
              "      <td>35</td>\n",
              "      <td>30</td>\n",
              "    </tr>\n",
              "    <tr>\n",
              "      <th>3</th>\n",
              "      <td>5</td>\n",
              "      <td>2</td>\n",
              "      <td>8</td>\n",
              "      <td>-5</td>\n",
              "    </tr>\n",
              "    <tr>\n",
              "      <th>4</th>\n",
              "      <td>0</td>\n",
              "      <td>2</td>\n",
              "      <td>25</td>\n",
              "      <td>7</td>\n",
              "    </tr>\n",
              "    <tr>\n",
              "      <th>...</th>\n",
              "      <td>...</td>\n",
              "      <td>...</td>\n",
              "      <td>...</td>\n",
              "      <td>...</td>\n",
              "    </tr>\n",
              "    <tr>\n",
              "      <th>8149</th>\n",
              "      <td>0</td>\n",
              "      <td>0</td>\n",
              "      <td>105</td>\n",
              "      <td>21</td>\n",
              "    </tr>\n",
              "    <tr>\n",
              "      <th>8150</th>\n",
              "      <td>1</td>\n",
              "      <td>0</td>\n",
              "      <td>129</td>\n",
              "      <td>10</td>\n",
              "    </tr>\n",
              "    <tr>\n",
              "      <th>8151</th>\n",
              "      <td>1</td>\n",
              "      <td>1</td>\n",
              "      <td>120</td>\n",
              "      <td>13</td>\n",
              "    </tr>\n",
              "    <tr>\n",
              "      <th>8152</th>\n",
              "      <td>0</td>\n",
              "      <td>0</td>\n",
              "      <td>55</td>\n",
              "      <td>0</td>\n",
              "    </tr>\n",
              "    <tr>\n",
              "      <th>8153</th>\n",
              "      <td>1</td>\n",
              "      <td>0</td>\n",
              "      <td>51</td>\n",
              "      <td>-2</td>\n",
              "    </tr>\n",
              "  </tbody>\n",
              "</table>\n",
              "<p>7836 rows × 4 columns</p>\n",
              "</div>"
            ],
            "text/plain": [
              "      away_score  tournament  away_team_rank  rank_change_away\n",
              "0              0           2              67                 1\n",
              "1              1           2               5                 5\n",
              "2              0           2              35                30\n",
              "3              5           2               8                -5\n",
              "4              0           2              25                 7\n",
              "...          ...         ...             ...               ...\n",
              "8149           0           0             105                21\n",
              "8150           1           0             129                10\n",
              "8151           1           1             120                13\n",
              "8152           0           0              55                 0\n",
              "8153           1           0              51                -2\n",
              "\n",
              "[7836 rows x 4 columns]"
            ]
          },
          "metadata": {
            "tags": []
          },
          "execution_count": 719
        }
      ]
    },
    {
      "cell_type": "code",
      "metadata": {
        "id": "tiXWY6PG1AIe"
      },
      "source": [
        "X = dataset.iloc[:,1:4]"
      ],
      "execution_count": 720,
      "outputs": []
    },
    {
      "cell_type": "markdown",
      "metadata": {
        "id": "DpeAqdKU1AIk"
      },
      "source": [
        ">Checking the correlation and the VIF of the two columns:\n",
        "\n",
        "\n",
        ">The columns are not highly correlated and they have a low VIF score therefore we use them in our analysis."
      ]
    },
    {
      "cell_type": "code",
      "metadata": {
        "id": "RB9290ju1AIl",
        "outputId": "17bc471a-1023-4f4f-f666-4fb9831c4c43",
        "colab": {
          "base_uri": "https://localhost:8080/",
          "height": 372
        }
      },
      "source": [
        "plt.subplots(figsize=(4,4))\n",
        "sns.heatmap(X.corr(),annot=True)"
      ],
      "execution_count": 721,
      "outputs": [
        {
          "output_type": "execute_result",
          "data": {
            "text/plain": [
              "<matplotlib.axes._subplots.AxesSubplot at 0x7f451d4669b0>"
            ]
          },
          "metadata": {
            "tags": []
          },
          "execution_count": 721
        },
        {
          "output_type": "display_data",
          "data": {
            "image/png": "[encoded data removed]",
            "text/plain": [
              "<Figure size 288x288 with 2 Axes>"
            ]
          },
          "metadata": {
            "tags": [],
            "needs_background": "light"
          }
        }
      ]
    },
    {
      "cell_type": "code",
      "metadata": {
        "id": "j4SgITk71AIu",
        "outputId": "7209e3cd-e165-4779-d32e-0c5974a836a2",
        "colab": {
          "base_uri": "https://localhost:8080/",
          "height": 136
        }
      },
      "source": [
        "correlations = X.corr()\n",
        "pd.DataFrame(np.linalg.inv(correlations.values), index = correlations.index, columns=correlations.columns)\n"
      ],
      "execution_count": 722,
      "outputs": [
        {
          "output_type": "execute_result",
          "data": {
            "text/html": [
              "<div>\n",
              "<style scoped>\n",
              "    .dataframe tbody tr th:only-of-type {\n",
              "        vertical-align: middle;\n",
              "    }\n",
              "\n",
              "    .dataframe tbody tr th {\n",
              "        vertical-align: top;\n",
              "    }\n",
              "\n",
              "    .dataframe thead th {\n",
              "        text-align: right;\n",
              "    }\n",
              "</style>\n",
              "<table border=\"1\" class=\"dataframe\">\n",
              "  <thead>\n",
              "    <tr style=\"text-align: right;\">\n",
              "      <th></th>\n",
              "      <th>tournament</th>\n",
              "      <th>away_team_rank</th>\n",
              "      <th>rank_change_away</th>\n",
              "    </tr>\n",
              "  </thead>\n",
              "  <tbody>\n",
              "    <tr>\n",
              "      <th>tournament</th>\n",
              "      <td>1.007149</td>\n",
              "      <td>0.021412</td>\n",
              "      <td>-0.081798</td>\n",
              "    </tr>\n",
              "    <tr>\n",
              "      <th>away_team_rank</th>\n",
              "      <td>0.021412</td>\n",
              "      <td>1.000669</td>\n",
              "      <td>0.012888</td>\n",
              "    </tr>\n",
              "    <tr>\n",
              "      <th>rank_change_away</th>\n",
              "      <td>-0.081798</td>\n",
              "      <td>0.012888</td>\n",
              "      <td>1.006857</td>\n",
              "    </tr>\n",
              "  </tbody>\n",
              "</table>\n",
              "</div>"
            ],
            "text/plain": [
              "                  tournament  away_team_rank  rank_change_away\n",
              "tournament          1.007149        0.021412         -0.081798\n",
              "away_team_rank      0.021412        1.000669          0.012888\n",
              "rank_change_away   -0.081798        0.012888          1.006857"
            ]
          },
          "metadata": {
            "tags": []
          },
          "execution_count": 722
        }
      ]
    },
    {
      "cell_type": "code",
      "metadata": {
        "id": "iO4aKFRI1AI0"
      },
      "source": [
        "from sklearn.preprocessing import PolynomialFeatures\n",
        "from sklearn.model_selection import train_test_split\n",
        "from sklearn.linear_model import LinearRegression\n"
      ],
      "execution_count": 723,
      "outputs": []
    },
    {
      "cell_type": "code",
      "metadata": {
        "id": "6HGCMA5s1AI5"
      },
      "source": [
        "X = dataset.iloc[:,1:4].values\n",
        "y = dataset.iloc[:,0].values"
      ],
      "execution_count": 724,
      "outputs": []
    },
    {
      "cell_type": "code",
      "metadata": {
        "id": "wRxJfQ2J1AI9",
        "outputId": "b576650f-af27-4740-802f-3544bc8cc90f",
        "colab": {
          "base_uri": "https://localhost:8080/"
        }
      },
      "source": [
        "X"
      ],
      "execution_count": 725,
      "outputs": [
        {
          "output_type": "execute_result",
          "data": {
            "text/plain": [
              "array([[  2,  67,   1],\n",
              "       [  2,   5,   5],\n",
              "       [  2,  35,  30],\n",
              "       ...,\n",
              "       [  1, 120,  13],\n",
              "       [  0,  55,   0],\n",
              "       [  0,  51,  -2]])"
            ]
          },
          "metadata": {
            "tags": []
          },
          "execution_count": 725
        }
      ]
    },
    {
      "cell_type": "code",
      "metadata": {
        "id": "JSyTGG2D1AJG",
        "outputId": "8a9ff57b-c919-46f1-e7a9-aadd8009aba9",
        "colab": {
          "base_uri": "https://localhost:8080/"
        }
      },
      "source": [
        "y"
      ],
      "execution_count": 726,
      "outputs": [
        {
          "output_type": "execute_result",
          "data": {
            "text/plain": [
              "array([0, 1, 0, ..., 1, 0, 1])"
            ]
          },
          "metadata": {
            "tags": []
          },
          "execution_count": 726
        }
      ]
    },
    {
      "cell_type": "markdown",
      "metadata": {
        "id": "eLS54ahVd34P"
      },
      "source": [
        "> I first fit a linear regression model to the data "
      ]
    },
    {
      "cell_type": "code",
      "metadata": {
        "id": "9ZdHBMhP1AJb",
        "outputId": "12611c99-7385-4fec-8a37-12ff7d9c6ed2",
        "colab": {
          "base_uri": "https://localhost:8080/",
          "height": 402
        }
      },
      "source": [
        "from sklearn import linear_model\n",
        "from sklearn.model_selection import train_test_split\n",
        "X_train, X_test, Y_train, Y_test = train_test_split(X, y, test_size = .20, random_state = 40)\n",
        "regr = LinearRegression()\n",
        "regr.fit(X_train, Y_train)\n",
        "\n",
        "predicted = regr.predict(X_test)\n",
        "df = pd.DataFrame({'Actual': Y_test, 'Predicted': predicted})\n",
        "df"
      ],
      "execution_count": 727,
      "outputs": [
        {
          "output_type": "execute_result",
          "data": {
            "text/html": [
              "<div>\n",
              "<style scoped>\n",
              "    .dataframe tbody tr th:only-of-type {\n",
              "        vertical-align: middle;\n",
              "    }\n",
              "\n",
              "    .dataframe tbody tr th {\n",
              "        vertical-align: top;\n",
              "    }\n",
              "\n",
              "    .dataframe thead th {\n",
              "        text-align: right;\n",
              "    }\n",
              "</style>\n",
              "<table border=\"1\" class=\"dataframe\">\n",
              "  <thead>\n",
              "    <tr style=\"text-align: right;\">\n",
              "      <th></th>\n",
              "      <th>Actual</th>\n",
              "      <th>Predicted</th>\n",
              "    </tr>\n",
              "  </thead>\n",
              "  <tbody>\n",
              "    <tr>\n",
              "      <th>0</th>\n",
              "      <td>4</td>\n",
              "      <td>1.453562</td>\n",
              "    </tr>\n",
              "    <tr>\n",
              "      <th>1</th>\n",
              "      <td>0</td>\n",
              "      <td>1.014005</td>\n",
              "    </tr>\n",
              "    <tr>\n",
              "      <th>2</th>\n",
              "      <td>2</td>\n",
              "      <td>1.290210</td>\n",
              "    </tr>\n",
              "    <tr>\n",
              "      <th>3</th>\n",
              "      <td>0</td>\n",
              "      <td>0.587977</td>\n",
              "    </tr>\n",
              "    <tr>\n",
              "      <th>4</th>\n",
              "      <td>2</td>\n",
              "      <td>1.131947</td>\n",
              "    </tr>\n",
              "    <tr>\n",
              "      <th>...</th>\n",
              "      <td>...</td>\n",
              "      <td>...</td>\n",
              "    </tr>\n",
              "    <tr>\n",
              "      <th>1563</th>\n",
              "      <td>1</td>\n",
              "      <td>1.033855</td>\n",
              "    </tr>\n",
              "    <tr>\n",
              "      <th>1564</th>\n",
              "      <td>0</td>\n",
              "      <td>1.274482</td>\n",
              "    </tr>\n",
              "    <tr>\n",
              "      <th>1565</th>\n",
              "      <td>0</td>\n",
              "      <td>0.800204</td>\n",
              "    </tr>\n",
              "    <tr>\n",
              "      <th>1566</th>\n",
              "      <td>0</td>\n",
              "      <td>0.777656</td>\n",
              "    </tr>\n",
              "    <tr>\n",
              "      <th>1567</th>\n",
              "      <td>1</td>\n",
              "      <td>1.232576</td>\n",
              "    </tr>\n",
              "  </tbody>\n",
              "</table>\n",
              "<p>1568 rows × 2 columns</p>\n",
              "</div>"
            ],
            "text/plain": [
              "      Actual  Predicted\n",
              "0          4   1.453562\n",
              "1          0   1.014005\n",
              "2          2   1.290210\n",
              "3          0   0.587977\n",
              "4          2   1.131947\n",
              "...      ...        ...\n",
              "1563       1   1.033855\n",
              "1564       0   1.274482\n",
              "1565       0   0.800204\n",
              "1566       0   0.777656\n",
              "1567       1   1.232576\n",
              "\n",
              "[1568 rows x 2 columns]"
            ]
          },
          "metadata": {
            "tags": []
          },
          "execution_count": 727
        }
      ]
    },
    {
      "cell_type": "code",
      "metadata": {
        "id": "p12wGJxs1AJ4",
        "outputId": "4f1f6bd2-4092-4779-d332-656756e7bfba",
        "colab": {
          "base_uri": "https://localhost:8080/"
        }
      },
      "source": [
        "from sklearn.metrics import r2_score\n",
        "r2_score(Y_test,predicted)"
      ],
      "execution_count": 728,
      "outputs": [
        {
          "output_type": "execute_result",
          "data": {
            "text/plain": [
              "0.06737448668041923"
            ]
          },
          "metadata": {
            "tags": []
          },
          "execution_count": 728
        }
      ]
    },
    {
      "cell_type": "markdown",
      "metadata": {
        "id": "MhUdeA2ReC-V"
      },
      "source": [
        ">The coefficient of determinantion was extremely low and therefore I then opted to fit a Polynomial regression model."
      ]
    },
    {
      "cell_type": "code",
      "metadata": {
        "id": "EKnqRyzC1AKA",
        "outputId": "bfcfc337-c5f5-4c0d-9ec2-6c17afbe73b8",
        "colab": {
          "base_uri": "https://localhost:8080/"
        }
      },
      "source": [
        "poly_reg = PolynomialFeatures(degree=3) \n",
        "X_poly = poly_reg.fit_transform(X)\n",
        "\n",
        "\n",
        "pol_reg = LinearRegression()\n",
        "pol_reg.fit(X_poly, y)\n",
        "y_pred = pol_reg.predict(X_poly)\n",
        "y_pred"
      ],
      "execution_count": 729,
      "outputs": [
        {
          "output_type": "execute_result",
          "data": {
            "text/plain": [
              "array([0.95931913, 1.74397436, 2.17066909, ..., 1.10909428, 1.00143906,\n",
              "       0.95630138])"
            ]
          },
          "metadata": {
            "tags": []
          },
          "execution_count": 729
        }
      ]
    },
    {
      "cell_type": "code",
      "metadata": {
        "id": "h_D5QQui1AKE",
        "outputId": "92c25b08-b2aa-4764-c11d-ac2f5f29e152",
        "colab": {
          "base_uri": "https://localhost:8080/"
        }
      },
      "source": [
        "pol_reg.coef_"
      ],
      "execution_count": 730,
      "outputs": [
        {
          "output_type": "execute_result",
          "data": {
            "text/plain": [
              "array([ 0.00000000e+00,  1.37648170e-01, -1.37567526e-02,  4.76814376e-02,\n",
              "        7.08274707e-02, -1.37209769e-03, -6.99853084e-03,  9.91640374e-05,\n",
              "       -3.32278531e-04, -4.81993448e-04, -6.28139276e-02,  4.58425897e-04,\n",
              "        5.38415200e-03, -2.23138871e-06,  8.06015886e-06,  1.42303980e-05,\n",
              "       -2.62008408e-07,  8.92756834e-07,  5.19768732e-06, -3.39068337e-06])"
            ]
          },
          "metadata": {
            "tags": []
          },
          "execution_count": 730
        }
      ]
    },
    {
      "cell_type": "code",
      "metadata": {
        "id": "GGVNxtJn1AKK",
        "outputId": "3ac88633-49c4-44e5-8bc3-427324d61492",
        "colab": {
          "base_uri": "https://localhost:8080/"
        }
      },
      "source": [
        "poly_pred = pol_reg.predict(poly_reg.fit_transform([[0,30,-30]]))\n",
        "print('Goals Scored by the Away Team: %d' %poly_pred)\n"
      ],
      "execution_count": 732,
      "outputs": [
        {
          "output_type": "stream",
          "text": [
            "Goals Scored by the Away Team: 0\n"
          ],
          "name": "stdout"
        }
      ]
    },
    {
      "cell_type": "markdown",
      "metadata": {
        "id": "7-oUaK7Y1AKP"
      },
      "source": [
        "I based the Regression equation on both the rank of the away_team and the change of the rank and the type of tournament I then proceeded to predict the number of goals scored by the away team. \n",
        "\n",
        "Investigating for multicollinearity there was none as I used only three columns and they had a very low VIF score."
      ]
    },
    {
      "cell_type": "code",
      "metadata": {
        "id": "0FQ6-g651AKQ",
        "outputId": "90cf9b9f-6bc6-4d98-85c6-ee682589320d",
        "colab": {
          "base_uri": "https://localhost:8080/"
        }
      },
      "source": [
        "from sklearn import metrics\n",
        "print('Mean Absolute Error:', metrics.mean_absolute_error(y, y_pred))\n",
        "print('Mean Squared Error:', metrics.mean_squared_error(y, y_pred))\n",
        "print('Root Mean Squared Error:', np.sqrt(metrics.mean_squared_error(y, y_pred)))\n"
      ],
      "execution_count": 733,
      "outputs": [
        {
          "output_type": "stream",
          "text": [
            "Mean Absolute Error: 0.8325555464816932\n",
            "Mean Squared Error: 1.137157328922255\n",
            "Root Mean Squared Error: 1.0663757916054992\n"
          ],
          "name": "stdout"
        }
      ]
    },
    {
      "cell_type": "markdown",
      "metadata": {
        "id": "JLpT1FL81AKh"
      },
      "source": [
        ">The RMSE was higher than expected and this shall be corrected in due time.\n",
        "\n",
        ">Checking the residuals of the model."
      ]
    },
    {
      "cell_type": "code",
      "metadata": {
        "id": "m-80uIIQ1AKj",
        "outputId": "feb69408-25d9-407d-ca56-de3543197aac",
        "colab": {
          "base_uri": "https://localhost:8080/"
        }
      },
      "source": [
        "residuals = np.subtract(y_pred, y)\n",
        "\n",
        "pd.DataFrame(residuals).describe()\n",
        "\n",
        "residuals.mean()"
      ],
      "execution_count": 734,
      "outputs": [
        {
          "output_type": "execute_result",
          "data": {
            "text/plain": [
              "-1.0518498895887139e-16"
            ]
          },
          "metadata": {
            "tags": []
          },
          "execution_count": 734
        }
      ]
    },
    {
      "cell_type": "markdown",
      "metadata": {
        "id": "wbMNOizXf3VK"
      },
      "source": [
        ">Testing for Heteroskedasticity using the Barlett test our null hypothesis is that the data has equal variance and thus given that the critical value which can be seen to be tending to infinity(lol) is greater than the test statistic we fail to reject the null hypothesis of equal variance and conclude that the model is Homoscedastic."
      ]
    },
    {
      "cell_type": "code",
      "metadata": {
        "id": "k1EFOPsv1AKo",
        "outputId": "58551d5b-6b55-4f79-a2e5-f0899856ef4d",
        "colab": {
          "base_uri": "https://localhost:8080/"
        }
      },
      "source": [
        "import scipy as sp\n",
        "\n",
        "test_result, p_value = sp.stats.bartlett(y_pred, residuals)\n",
        "\n",
        "degree_of_freedom = len(y_pred)-1\n",
        "probability = 1 - p_value\n",
        "\n",
        "critical_value = sp.stats.chi2.ppf(probability, degree_of_freedom)\n",
        "print(test_result,p_value)\n",
        "print(critical_value)"
      ],
      "execution_count": 735,
      "outputs": [
        {
          "output_type": "stream",
          "text": [
            "8742.261463968465 0.0\n",
            "inf\n"
          ],
          "name": "stdout"
        }
      ]
    },
    {
      "cell_type": "markdown",
      "metadata": {
        "id": "aQP0x9da1AKt"
      },
      "source": [
        ">The test_result is less than the critical value therefore we fail to reject the null hypothesis and conclude that the model has a constant variance."
      ]
    },
    {
      "cell_type": "markdown",
      "metadata": {
        "id": "F03nsXc4eyfn"
      },
      "source": [
        "# Conclusion \n",
        "\n",
        ">The models build in this analysis both the Polynomial and the Logistic could be better improved with additional data for the Features used and the label.\n",
        "\n",
        ">However based on the data we have at hand we know that home teams seem to have an upper hand in matches compared to teams playing away.\n",
        "\n",
        ">Also based on the Logistic model given the rank of the home and the away team and their respective rank changes , the home team can be seen to win most of their matches. \n",
        "\n"
      ]
    }
  ]
}